{
 "cells": [
  {
   "cell_type": "code",
   "execution_count": 1,
   "metadata": {
    "collapsed": true
   },
   "outputs": [],
   "source": [
    "#References:\n",
    "# Week 6 and Week 7 slides and class notes and codes provide on blackboard\n",
    "# https://medium.com/@rakendd/decision-tree-from-scratch-9e23bcfb4928"
   ]
  },
  {
   "cell_type": "code",
   "execution_count": 2,
   "metadata": {},
   "outputs": [
    {
     "name": "stdout",
     "output_type": "stream",
     "text": [
      "        CustomerID  Region  TownSize  Gender  Age  EducationYears  \\\n",
      "0  0002-GTOKLU-YVY       5       4.0    Male   63              16   \n",
      "1  0003-RLTRGE-IW2       1       1.0    Male   52              11   \n",
      "2  0003-UTGKPR-PRU       2       2.0    Male   73              14   \n",
      "3  0008-ZIQQOT-SGB       3       1.0  Female   40              21   \n",
      "4  0012-CIVYLF-839       4       5.0    Male   40              12   \n",
      "\n",
      "    JobCategory UnionMember  EmploymentLength Retired       ...        \\\n",
      "0         Sales          No                 3      No       ...         \n",
      "1  Professional          No                14      No       ...         \n",
      "2  Professional         Yes                11      No       ...         \n",
      "3         Sales          No                 3      No       ...         \n",
      "4         Labor          No                 9      No       ...         \n",
      "\n",
      "  CallWait  CallForward  ThreeWayCalling  EBilling TVWatchingHours OwnsPC  \\\n",
      "0      Yes           No              Yes       Yes              18    Yes   \n",
      "1      Yes          Yes               No        No              20    Yes   \n",
      "2       No          Yes               No        No              13     No   \n",
      "3      Yes          Yes              Yes       Yes              24    Yes   \n",
      "4       No           No               No        No              17     No   \n",
      "\n",
      "   OwnsMobileDevice  OwnsGameSystem  OwnsFax  NewsSubscriber  \n",
      "0                No             Yes      Yes              No  \n",
      "1                No              No       No              No  \n",
      "2                No              No       No             Yes  \n",
      "3               Yes              No      Yes              No  \n",
      "4                No              No       No              No  \n",
      "\n",
      "[5 rows x 59 columns]\n"
     ]
    }
   ],
   "source": [
    "import pandas as pd\n",
    "\n",
    "customerData=pd.read_csv(\"E:\\Local Disk D\\IIT-C\\Sem 4\\CS 584 Machine Learning\\Homeworks\\Homework 3\\CustomerSurveyData.csv\")\n",
    "\n",
    "customerDataFrame=pd.DataFrame(customerData)\n",
    "\n",
    "print(customerDataFrame.head())"
   ]
  },
  {
   "cell_type": "code",
   "execution_count": 3,
   "metadata": {
    "scrolled": false
   },
   "outputs": [
    {
     "name": "stdout",
     "output_type": "stream",
     "text": [
      "          CreditCard   JobCategory CarOwnership\n",
      "0   American Express         Sales          Own\n",
      "1   American Express  Professional          Own\n",
      "2               Visa  Professional        Lease\n",
      "3   American Express         Sales          Own\n",
      "4           Discover         Labor          Own\n",
      "5   American Express        Crafts          Own\n",
      "6         MasterCard  Professional         None\n",
      "7               Visa  Professional          Own\n",
      "8               Visa  Professional          Own\n",
      "9               Visa  Professional          Own\n",
      "10          Discover   Agriculture          Own\n",
      "11        MasterCard         Sales          Own\n",
      "12              Visa         Sales          Own\n",
      "13          Discover        Crafts        Lease\n",
      "14              Visa         Sales          Own\n",
      "15  American Express         Sales          Own\n",
      "16              Visa         Sales        Lease\n",
      "17        MasterCard   Agriculture          Own\n",
      "18        MasterCard   Agriculture          Own\n",
      "19  American Express         Labor          Own\n"
     ]
    }
   ],
   "source": [
    "# customerDataFrame.head()\n",
    "\n",
    "newcustomerData=customerDataFrame[['CreditCard','JobCategory','CarOwnership']]\n",
    "\n",
    "print(newcustomerData.head(20))"
   ]
  },
  {
   "cell_type": "code",
   "execution_count": 4,
   "metadata": {},
   "outputs": [
    {
     "name": "stdout",
     "output_type": "stream",
     "text": [
      "False    4201\n",
      "True      799\n",
      "Name: CarOwnership, dtype: int64\n",
      "True     3704\n",
      "False    1296\n",
      "Name: CarOwnership, dtype: int64\n",
      "False    4503\n",
      "True      497\n",
      "Name: CarOwnership, dtype: int64\n",
      "5000\n"
     ]
    }
   ],
   "source": [
    "# totalLease=(customerDataFrame.CarOwnership=='Lease').count()\n",
    "\n",
    "totalLease=(newcustomerData['CarOwnership']=='Lease').value_counts()\n",
    "\n",
    "totalOwn=(newcustomerData['CarOwnership']=='Own').value_counts()\n",
    "\n",
    "totalNone=(newcustomerData['CarOwnership']=='None').value_counts()\n",
    "\n",
    "totalRows=len(customerDataFrame)\n",
    "\n",
    "print(totalLease)\n",
    "\n",
    "print(totalOwn)\n",
    "\n",
    "print(totalNone)\n",
    "\n",
    "print(totalRows)"
   ]
  },
  {
   "cell_type": "code",
   "execution_count": 5,
   "metadata": {},
   "outputs": [
    {
     "name": "stdout",
     "output_type": "stream",
     "text": [
      "0.7408\n",
      "0.1598\n",
      "0.0994\n"
     ]
    }
   ],
   "source": [
    "values = newcustomerData.CarOwnership.unique()\n",
    "for uniqueValue in values:\n",
    "    print(newcustomerData.CarOwnership.value_counts()[uniqueValue]/len(newcustomerData.CarOwnership))"
   ]
  },
  {
   "cell_type": "code",
   "execution_count": 6,
   "metadata": {},
   "outputs": [
    {
     "name": "stdout",
     "output_type": "stream",
     "text": [
      "1(a)\n",
      "1.0744900777690842\n"
     ]
    }
   ],
   "source": [
    "# \n",
    "print(\"1(a)\")\n",
    "\n",
    "import numpy as np\n",
    "# from numpy import log2 as log\n",
    "nodeEntropy = 0  #Initialize Entropy\n",
    "uniqueValues = newcustomerData.CarOwnership.unique()  #Unique objects - 'Lease', 'Own','None'\n",
    "\n",
    "for uniqueValue in uniqueValues:\n",
    "    pij = newcustomerData.CarOwnership.value_counts()[uniqueValue]/len(newcustomerData.CarOwnership) \n",
    "    nodeEntropy += -pij*np.log2(pij)\n",
    "    \n",
    "print(nodeEntropy)"
   ]
  },
  {
   "cell_type": "code",
   "execution_count": 7,
   "metadata": {
    "collapsed": true
   },
   "outputs": [],
   "source": [
    "# import math\n",
    "# from scipy.stats import entropy\n",
    "\n",
    "# # leaseAll=crossTable.iat[\"Lease\",\"All\"]\n",
    "# print(\"1(a)\")\n",
    "# entropy=-(799/5000)*math.log2(799/5000)-(497/5000)*math.log2(497/5000)-3704/5000*math.log2(3704/5000)\n",
    "\n",
    "# print(entropy)\n",
    "\n",
    "# # print(leaseAll)\n",
    "\n",
    "# print(entropy([799/5000, 497/5000, 3704/5000], base=2))"
   ]
  },
  {
   "cell_type": "code",
   "execution_count": 8,
   "metadata": {},
   "outputs": [
    {
     "name": "stdout",
     "output_type": "stream",
     "text": [
      "1(b)\n",
      "Total number of disticnt value for nominal predictor:  5\n",
      "Total number of binary splits:  15\n"
     ]
    }
   ],
   "source": [
    "#possible binary-splits from the CreditCard predictor\n",
    "print(\"1(b)\")\n",
    "givenValues=['American Express','Discover','MasterCard','Others','Visa']\n",
    "\n",
    "totalDistict=len(givenValues)\n",
    "\n",
    "print(\"Total number of disticnt value for nominal predictor: \",totalDistict)\n",
    "\n",
    "totalBinarySplits=(2**(totalDistict-1))-1\n",
    "\n",
    "print(\"Total number of binary splits: \",totalBinarySplits)"
   ]
  },
  {
   "cell_type": "code",
   "execution_count": 139,
   "metadata": {},
   "outputs": [
    {
     "name": "stdout",
     "output_type": "stream",
     "text": [
      "1(c)\n",
      "133\n",
      "CarOwnership      Lease  None   Own   All\n",
      "CreditCard                               \n",
      "American Express    133   119   734   986\n",
      "Discover            175   120  1049  1344\n",
      "MasterCard          196   114   890  1200\n",
      "Others               49    21   153   223\n",
      "Visa                246   123   878  1247\n",
      "All                 799   497  3704  5000 \n",
      "\n",
      "[[ 133  119  734]\n",
      " [ 175  120 1049]\n",
      " [ 196  114  890]\n",
      " [  49   21  153]\n",
      " [ 246  123  878]]\n"
     ]
    }
   ],
   "source": [
    "# \n",
    "print(\"1(c)\")\n",
    "targetvariable=newcustomerData['CarOwnership']\n",
    "nominalPredictor=newcustomerData['CreditCard']\n",
    "\n",
    "crossTable=pd.crosstab(nominalPredictor,targetvariable, margins=True,dropna = True)\n",
    "\n",
    "print(crossTable['Lease']['American Express'])\n",
    "\n",
    "print(crossTable,\"\\n\")\n",
    "\n",
    "crossTablearray=(np.array(crossTable.iloc[0:5,:-1]))\n",
    "print(crossTablearray)"
   ]
  },
  {
   "cell_type": "code",
   "execution_count": 10,
   "metadata": {},
   "outputs": [
    {
     "name": "stdout",
     "output_type": "stream",
     "text": [
      "1(c)\n",
      "Entropy of the  American Express : 1.0750088593574028\n",
      "Entropy of the  Visa : 1.1479670231237966\n",
      "Entropy of the  Discover : 0.973200661032307\n",
      "Entropy of the  MasterCard : 1.0693592329365411\n",
      "Entropy of the  Others : 1.174264078521314\n"
     ]
    }
   ],
   "source": [
    "# \n",
    "print(\"1(c)\")\n",
    "\n",
    "attributes=newcustomerData['CreditCard'].unique()\n",
    "\n",
    "targetVariables=newcustomerData['CarOwnership'].unique()\n",
    "\n",
    "# entropy=0\n",
    "\n",
    "for attribute in attributes:\n",
    "    entropyEachRow=0\n",
    "    \n",
    "    for targetVariable in targetVariables:\n",
    "        \n",
    "        p=crossTable[targetVariable][attribute]             #\n",
    "        N=crossTable['All'][attribute]                      #\n",
    "        Pij=p/N\n",
    "        entropyEachRow+=-Pij*np.log2(Pij)\n",
    "        \n",
    "    print(\"Entropy of the \",attribute,\":\",entropyEachRow)\n",
    "    \n",
    "#     tableEntropy += rowEntropy *  crossTable.iloc[iRow,(nColumns-1)]\n",
    "#     tableEntropy = tableEntropy /  crossTable.iloc[(nRows-1),(nColumns-1)]\n",
    "#     return(tableEntropy)\n",
    "\n",
    "# for attribute in attributes:\n",
    "#     for targetVariable in targetVariables\n",
    "    \n",
    "# print(-(133/986)*np.log2(133/986)-(119/986)*np.log2(119/986)-734/986*np.log2(734/986))"
   ]
  },
  {
   "cell_type": "code",
   "execution_count": 209,
   "metadata": {},
   "outputs": [
    {
     "name": "stdout",
     "output_type": "stream",
     "text": [
      "1(c)\n",
      "Selected Rows: \n",
      " [133 119 734]\n",
      "Sum of rest of the rows: \n",
      " [ 666  378 2970] \n",
      "\n",
      "col_0       Lease All\n",
      "col_1        None    \n",
      "col_2         Own    \n",
      "row_0 row_1          \n",
      "119   378       1   1\n",
      "133   666       1   1\n",
      "734   2970      1   1\n",
      "All             3   3\n",
      "Selected Rows: \n",
      " [ 175  120 1049]\n",
      "Sum of rest of the rows: \n",
      " [ 624  377 2655] \n",
      "\n",
      "col_0       Lease All\n",
      "col_1        None    \n",
      "col_2         Own    \n",
      "row_0 row_1          \n",
      "120   377       1   1\n",
      "175   624       1   1\n",
      "1049  2655      1   1\n",
      "All             3   3\n",
      "Selected Rows: \n",
      " [196 114 890]\n",
      "Sum of rest of the rows: \n",
      " [ 603  383 2814] \n",
      "\n",
      "col_0       Lease All\n",
      "col_1        None    \n",
      "col_2         Own    \n",
      "row_0 row_1          \n",
      "114   383       1   1\n",
      "196   603       1   1\n",
      "890   2814      1   1\n",
      "All             3   3\n",
      "Selected Rows: \n",
      " [ 49  21 153]\n",
      "Sum of rest of the rows: \n",
      " [ 750  476 3551] \n",
      "\n",
      "col_0       Lease All\n",
      "col_1        None    \n",
      "col_2         Own    \n",
      "row_0 row_1          \n",
      "21    476       1   1\n",
      "49    750       1   1\n",
      "153   3551      1   1\n",
      "All             3   3\n",
      "Selected Rows: \n",
      " [246 123 878]\n",
      "Sum of rest of the rows: \n",
      " [ 553  374 2826] \n",
      "\n",
      "col_0       Lease All\n",
      "col_1        None    \n",
      "col_2         Own    \n",
      "row_0 row_1          \n",
      "123   374       1   1\n",
      "246   553       1   1\n",
      "878   2826      1   1\n",
      "All             3   3\n"
     ]
    }
   ],
   "source": [
    "print(\"1(c)\")\n",
    "# print(crossTablearray)\n",
    "tempCrossTable=crossTable\n",
    "\n",
    "rows=tempCrossTable.shape[0]\n",
    "columns=tempCrossTable.shape[1]\n",
    "\n",
    "for i in range(rows-1):\n",
    "    selected=np.array(tempCrossTable.iloc[i,:-1])\n",
    "    \n",
    "    droppedRow=tempCrossTable.drop(tempCrossTable.index[i])\n",
    "       \n",
    "#     rest=np.array((tempCrossTable.iloc[1:5,:-1]).sum(axis=0))\n",
    "    rest=np.array((droppedRow.iloc[:-1,:-1]).sum(axis=0))\n",
    "    \n",
    "    print(\"Selected Rows: \\n\",selected)\n",
    "#     print(droppedRow)\n",
    "    print(\"Sum of rest of the rows: \\n\",rest,\"\\n\")\n",
    "#     newCrossTable=pd.crosstab(index=[selected,rest],\n",
    "#                               columns=['Lease','None','Own'], margins=True,dropna = True)\n",
    "    \n",
    "    print(newCrossTable)"
   ]
  },
  {
   "cell_type": "code",
   "execution_count": 200,
   "metadata": {
    "scrolled": true
   },
   "outputs": [
    {
     "name": "stdout",
     "output_type": "stream",
     "text": [
      "[[ 133  119  734]\n",
      " [ 175  120 1049]\n",
      " [ 196  114  890]\n",
      " [  49   21  153]\n",
      " [ 246  123  878]]\n",
      "Selected Rows: \n",
      " 0 1 [ 308  239 1783]\n",
      "Sum of rest of the rows: \n",
      " 0 1 [ 491  258 1921]\n",
      "Selected Rows: \n",
      " 0 2 [ 504  353 2673]\n",
      "Sum of rest of the rows: \n",
      " 0 2 [ 470  264 2080]\n",
      "Selected Rows: \n",
      " 0 3 [ 553  374 2826]\n",
      "Sum of rest of the rows: \n",
      " 0 3 [ 617  357 2817]\n",
      "Selected Rows: \n",
      " 0 4 [ 799  497 3704]\n",
      "Sum of rest of the rows: \n",
      " 0 4 [ 420  255 2092]\n",
      "Selected Rows: \n",
      " 1 2 [ 371  234 1939]\n",
      "Sum of rest of the rows: \n",
      " 1 2 [ 428  263 1765]\n",
      "Selected Rows: \n",
      " 1 3 [ 420  255 2092]\n",
      "Sum of rest of the rows: \n",
      " 1 3 [ 575  356 2502]\n",
      "Selected Rows: \n",
      " 1 4 [ 666  378 2970]\n",
      "Sum of rest of the rows: \n",
      " 1 4 [ 378  254 1777]\n",
      "Selected Rows: \n",
      " 2 3 [ 245  135 1043]\n",
      "Sum of rest of the rows: \n",
      " 2 3 [ 554  362 2661]\n",
      "Selected Rows: \n",
      " 2 4 [ 491  258 1921]\n",
      "Sum of rest of the rows: \n",
      " 2 4 [ 357  260 1936]\n",
      "Selected Rows: \n",
      " 3 4 [ 295  144 1031]\n",
      "Sum of rest of the rows: \n",
      " 3 4 [ 504  353 2673]\n"
     ]
    }
   ],
   "source": [
    "print(\"1(c)\")\n",
    "# print(crossTablearray)\n",
    "tempCrossTable=crossTable\n",
    "\n",
    "for i in range(rows-1):\n",
    "    for j in range(1,rows-1):\n",
    "        if(j>i):\n",
    "            selected=np.array((tempCrossTable.iloc[i:j+1,:-1]).sum(axis=0)) \n",
    "            droppedRows=tempCrossTable.drop(tempCrossTable.index[[i,j]])       \n",
    "            rest=np.array((droppedRows.iloc[:-1,:-1]).sum(axis=0))\n",
    "        \n",
    "            print(\"Selected Rows: \\n\",i,j,selected)\n",
    "#           print(\"Dropped Rows: \\n\",droppedRows)\n",
    "            print(\"Sum of rest of the rows: \\n\",i,j,rest)   "
   ]
  },
  {
   "cell_type": "code",
   "execution_count": null,
   "metadata": {
    "collapsed": true
   },
   "outputs": [],
   "source": []
  },
  {
   "cell_type": "code",
   "execution_count": 13,
   "metadata": {},
   "outputs": [
    {
     "name": "stdout",
     "output_type": "stream",
     "text": [
      "CarOwnership  Lease  None   Own   All\n",
      "JobCategory                          \n",
      "Agriculture      40    20   152   212\n",
      "Crafts           74    59   319   452\n",
      "Labor           105    58   523   686\n",
      "Professional    187   151  1042  1380\n",
      "Sales           306   148  1181  1635\n",
      "Service          86    61   473   620\n",
      "All             798   497  3690  4985\n"
     ]
    }
   ],
   "source": [
    "targetvariable=customerDataFrame['CarOwnership']\n",
    "nominalPredictor=customerDataFrame['JobCategory']\n",
    "\n",
    "crossTableJob=pd.crosstab(nominalPredictor,targetvariable, margins=True,dropna = True)\n",
    "\n",
    "print(crossTableJob)"
   ]
  },
  {
   "cell_type": "code",
   "execution_count": null,
   "metadata": {
    "collapsed": true
   },
   "outputs": [],
   "source": []
  },
  {
   "cell_type": "code",
   "execution_count": 14,
   "metadata": {},
   "outputs": [
    {
     "name": "stdout",
     "output_type": "stream",
     "text": [
      "2(a)\n",
      "0.9275459264125162\n",
      "There is only one parameter involved\n"
     ]
    }
   ],
   "source": [
    "# \n",
    "print(\"2(a)\")\n",
    "\n",
    "import numpy as np\n",
    "\n",
    "LikelihoodData=pd.read_csv(\"E:\\Local Disk D\\IIT-C\\Sem 4\\CS 584 Machine Learning\\Homeworks\\Homework 3\\Purchase_Likelihood.csv\")\n",
    "\n",
    "LikelihoodDataFrame=pd.DataFrame(LikelihoodData)\n",
    "\n",
    "targetVariable=LikelihoodDataFrame['A']\n",
    "\n",
    "parameterValue=np.mean(targetVariable)\n",
    "\n",
    "print(parameterValue)\n",
    "\n",
    "\n",
    "print(\"There is only one parameter involved\")\n",
    "# print(LikelihoodDataFrame)"
   ]
  },
  {
   "cell_type": "code",
   "execution_count": 15,
   "metadata": {},
   "outputs": [
    {
     "name": "stdout",
     "output_type": "stream",
     "text": [
      "2(b)\n",
      "1    426067\n",
      "0    143691\n",
      "2     95491\n",
      "Name: A, dtype: int64\n"
     ]
    }
   ],
   "source": [
    "#Marginal Counts\n",
    "\n",
    "print(\"2(b)\")\n",
    "\n",
    "uniqueValues=LikelihoodData.A.unique()\n",
    "result=LikelihoodData.A.value_counts()[uniqueValues]\n",
    "\n",
    "print(result)\n"
   ]
  },
  {
   "cell_type": "code",
   "execution_count": 131,
   "metadata": {},
   "outputs": [
    {
     "name": "stdout",
     "output_type": "stream",
     "text": [
      "2(c)\n",
      "Predicted Probability of Zero:  0.21599581510081187\n",
      "Predicted Probability of One:  0.64046244338586\n",
      "Predicted Probability of two:  0.1435417415133281\n",
      "Log Likelihood:  -595406.7618844224\n",
      "Maximum Likelihood:  0.0\n"
     ]
    }
   ],
   "source": [
    "#Maximum Likelihood\n",
    "\n",
    "print(\"2(c)\")\n",
    "\n",
    "tototalCount_0=LikelihoodData.A.value_counts()[0]\n",
    "\n",
    "tototalCount_1=LikelihoodData.A.value_counts()[1]\n",
    "\n",
    "tototalCount_2=LikelihoodData.A.value_counts()[2]\n",
    "\n",
    "totalCount=len(LikelihoodData.A)\n",
    "\n",
    "prob_0=tototalCount_0/totalCount\n",
    "\n",
    "prob_1=tototalCount_1/totalCount\n",
    "\n",
    "prob_2=tototalCount_2/totalCount\n",
    "\n",
    "print(\"Predicted Probability of Zero: \",prob_0)\n",
    "\n",
    "print(\"Predicted Probability of One: \",prob_1)\n",
    "\n",
    "print(\"Predicted Probability of two: \",prob_2)\n",
    "\n",
    "\n",
    "logLikelihood=(tototalCount_0)*np.log(prob_0)+(tototalCount_1)*np.log(prob_1)+(tototalCount_2)*np.log(prob_2)\n",
    "\n",
    "\n",
    "print(\"Log Likelihood: \",logLikelihood)\n",
    "\n",
    "# l=logLikelihood*(-1)\n",
    "\n",
    "# MLE_L=np.exp(l)\n",
    "\n",
    "\n",
    "MLE_L=((prob_0)**(tototalCount_0))*((prob_1)**(tototalCount_1))*((prob_2)**(tototalCount_2))\n",
    "\n",
    "print(\"Maximum Likelihood: \",MLE_L)\n",
    "\n",
    "# print(totalCount)\n",
    "\n"
   ]
  },
  {
   "cell_type": "code",
   "execution_count": 17,
   "metadata": {},
   "outputs": [
    {
     "name": "stdout",
     "output_type": "stream",
     "text": [
      "2(d)\n",
      "Log Likelihood:  -595406.7618844224\n"
     ]
    }
   ],
   "source": [
    "# Log  Likelihood\n",
    "print(\"2(d)\")\n",
    "\n",
    "\n",
    "print(\"Log Likelihood: \",logLikelihood)\n"
   ]
  },
  {
   "cell_type": "code",
   "execution_count": 18,
   "metadata": {},
   "outputs": [
    {
     "name": "stdout",
     "output_type": "stream",
     "text": [
      "2(e)\n",
      "Likelihodd Estimate of intercept beata_10:  0.0\n",
      "Likelihodd Estimate of intercept beata_20:  1.0869314502545038\n",
      "Likelihodd Estimate of intercept beata_30:  -0.4086331584354002\n"
     ]
    }
   ],
   "source": [
    "# Likelihood estimate of intercepts\n",
    "print(\"2(e)\")\n",
    "\n",
    "beta_10=np.log(prob_0/prob_0)\n",
    "\n",
    "beta_20=np.log(prob_1/prob_0)\n",
    "\n",
    "beta_30=np.log(prob_2/prob_0)\n",
    "\n",
    "\n",
    "print(\"Likelihodd Estimate of intercept beata_10: \",beta_10)\n",
    "\n",
    "print(\"Likelihodd Estimate of intercept beata_20: \",beta_20)\n",
    "\n",
    "print(\"Likelihodd Estimate of intercept beata_30: \",beta_30)"
   ]
  },
  {
   "cell_type": "code",
   "execution_count": 36,
   "metadata": {},
   "outputs": [
    {
     "name": "stdout",
     "output_type": "stream",
     "text": [
      "2(f)\n",
      "Frequency Table: \n",
      "\n",
      "A                                         0       1      2     All\n",
      "group_size homeowner married_couple                               \n",
      "1          0         0                67309  154434  39363  261106\n",
      "                     1                 2554    4108   1284    7946\n",
      "           1         0                42973  163625  31820  238418\n",
      "                     1                 2624    7385   1826   11835\n",
      "2          0         0                 2564    5227   1611    9402\n",
      "                     1                 5835   18336   4222   28393\n",
      "           1         0                 4066    9548   2437   16051\n",
      "                     1                13263   57954  11330   82547\n",
      "3          0         0                   70     170     14     254\n",
      "                     1                  305     779    225    1309\n",
      "           1         0                  111     254     62     427\n",
      "                     1                 1796    3866   1204    6866\n",
      "4          0         0                    1       0      0       1\n",
      "                     1                   21      76     15     112\n",
      "           1         0                   16      14      3      33\n",
      "                     1                  183     291     75     549\n",
      "All                                  143691  426067  95491  665249\n",
      "\n",
      "Percent Table: \n",
      "\n",
      "A                                             0          1          2    All\n",
      "group_size homeowner married_couple                                         \n",
      "1          0         0                25.778419  59.146094  15.075487  100.0\n",
      "                     1                32.141958  51.698968  16.159074  100.0\n",
      "           1         0                18.024226  68.629466  13.346308  100.0\n",
      "                     1                22.171525  62.399662  15.428813  100.0\n",
      "2          0         0                27.270793  55.594554  17.134652  100.0\n",
      "                     1                20.550840  64.579298  14.869862  100.0\n",
      "           1         0                25.331755  59.485390  15.182855  100.0\n",
      "                     1                16.067210  70.207276  13.725514  100.0\n",
      "3          0         0                27.559055  66.929134   5.511811  100.0\n",
      "                     1                23.300229  59.511077  17.188694  100.0\n",
      "           1         0                25.995316  59.484778  14.519906  100.0\n",
      "                     1                26.157879  56.306438  17.535683  100.0\n",
      "4          0         0               100.000000   0.000000   0.000000  100.0\n",
      "                     1                18.750000  67.857143  13.392857  100.0\n",
      "           1         0                48.484848  42.424242   9.090909  100.0\n",
      "                     1                33.333333  53.005464  13.661202  100.0\n",
      "All                                   21.599582  64.046244  14.354174  100.0\n"
     ]
    }
   ],
   "source": [
    "#CrossTab with nominal predictors group_size\n",
    "\n",
    "print(\"2(f)\")\n",
    "\n",
    "targetvariable=LikelihoodDataFrame['A']\n",
    "nominalPredictor1=LikelihoodDataFrame['group_size']\n",
    "nominalPredictor2=LikelihoodDataFrame['homeowner']\n",
    "nominalPredictor3=LikelihoodDataFrame['married_couple']\n",
    "\n",
    "contigencyTable=pd.crosstab(index=[nominalPredictor1,nominalPredictor2,nominalPredictor3],\n",
    "                              columns=LikelihoodDataFrame[\"A\"],margins=True,dropna = True)\n",
    "\n",
    "x = contigencyTable.drop('All', 1)\n",
    "\n",
    "percentTable = contigencyTable.div(x.sum(1), axis='index')*100\n",
    "\n",
    "print(\"Frequency Table: \\n\")\n",
    "print(contigencyTable)\n",
    "print( )\n",
    "print(\"Percent Table: \\n\")\n",
    "print(percentTable)"
   ]
  },
  {
   "cell_type": "code",
   "execution_count": 20,
   "metadata": {},
   "outputs": [
    {
     "name": "stdout",
     "output_type": "stream",
     "text": [
      "2(f)\n",
      "Frequency Table for Group size: \n",
      "\n",
      "A                0       1      2     All\n",
      "group_size                               \n",
      "1           115460  329552  74293  519305\n",
      "2            25728   91065  19600  136393\n",
      "3             2282    5069   1505    8856\n",
      "4              221     381     93     695\n",
      "All         143691  426067  95491  665249\n",
      "\n",
      "Percent Table for Group size: \n",
      "\n",
      "A                   0          1          2    All\n",
      "group_size                                        \n",
      "1           22.233562  63.460202  14.306236  100.0\n",
      "2           18.863138  66.766623  14.370239  100.0\n",
      "3           25.767841  57.238031  16.994128  100.0\n",
      "4           31.798561  54.820144  13.381295  100.0\n",
      "All         21.599582  64.046244  14.354174  100.0\n"
     ]
    }
   ],
   "source": [
    "#CrossTab with nominal predictors group_size\n",
    "print(\"2(f)\")\n",
    "\n",
    "targetvariable=LikelihoodDataFrame['A']\n",
    "nominalPredictor=LikelihoodDataFrame['group_size']\n",
    "\n",
    "contig_group_size=pd.crosstab(nominalPredictor,targetvariable, margins=True,dropna = True)\n",
    "\n",
    "x1 = contig_group_size.drop('All', 1)\n",
    "\n",
    "percentTable = contig_group_size.div(x1.sum(1), axis='index')*100\n",
    "\n",
    "print(\"Frequency Table for Group size: \\n\")\n",
    "print(contig_group_size)\n",
    "print( )\n",
    "print(\"Percent Table for Group size: \\n\")\n",
    "print(percentTable)"
   ]
  },
  {
   "cell_type": "code",
   "execution_count": 21,
   "metadata": {},
   "outputs": [
    {
     "name": "stdout",
     "output_type": "stream",
     "text": [
      "2(f)\n",
      "Frequency Table for homeowner: \n",
      "\n",
      "A               0       1      2     All\n",
      "homeowner                               \n",
      "0           78659  183130  46734  308523\n",
      "1           65032  242937  48757  356726\n",
      "All        143691  426067  95491  665249\n",
      "\n",
      "Percent Table for homeowner: \n",
      "\n",
      "A                  0          1          2    All\n",
      "homeowner                                        \n",
      "0          25.495344  59.357001  15.147655  100.0\n",
      "1          18.230238  68.101848  13.667913  100.0\n",
      "All        21.599582  64.046244  14.354174  100.0\n"
     ]
    }
   ],
   "source": [
    "#CrossTab with nominal predictors homeowner\n",
    "print(\"2(f)\")\n",
    "\n",
    "targetvariable=LikelihoodDataFrame['A']\n",
    "nominalPredictor=LikelihoodDataFrame['homeowner']\n",
    "\n",
    "contig_homeowner=pd.crosstab(nominalPredictor,targetvariable, margins=True,dropna = True)\n",
    "\n",
    "x2 = contig_homeowner.drop('All', 1)\n",
    "\n",
    "percentTable3 = contig_homeowner.div(x2.sum(1), axis='index')*100\n",
    "\n",
    "print(\"Frequency Table for homeowner: \\n\")\n",
    "print(contig_homeowner)\n",
    "print( )\n",
    "print(\"Percent Table for homeowner: \\n\")\n",
    "print(percentTable3)"
   ]
  },
  {
   "cell_type": "code",
   "execution_count": 22,
   "metadata": {},
   "outputs": [
    {
     "name": "stdout",
     "output_type": "stream",
     "text": [
      "2(f)\n",
      "Frequency Table for married couple: \n",
      "\n",
      "A                    0       1      2     All\n",
      "married_couple                               \n",
      "0               117110  333272  75310  525692\n",
      "1                26581   92795  20181  139557\n",
      "All             143691  426067  95491  665249\n",
      "\n",
      "Percent Table for married couple: \n",
      "\n",
      "A                       0          1          2    All\n",
      "married_couple                                        \n",
      "0               22.277303  63.396818  14.325879  100.0\n",
      "1               19.046698  66.492544  14.460758  100.0\n",
      "All             21.599582  64.046244  14.354174  100.0\n"
     ]
    }
   ],
   "source": [
    "#CrossTab with nominal predictors married_couple\n",
    "print(\"2(f)\")\n",
    "\n",
    "targetvariable=LikelihoodDataFrame['A']\n",
    "nominalPredictor=LikelihoodDataFrame['married_couple']\n",
    "\n",
    "contig_married_couple=pd.crosstab(nominalPredictor,targetvariable, margins=True,dropna = True)\n",
    "\n",
    "x3 = contig_married_couple.drop('All', 1)\n",
    "\n",
    "percentTable3 = contig_married_couple.div(x3.sum(1), axis='index')*100\n",
    "\n",
    "print(\"Frequency Table for married couple: \\n\")\n",
    "print(contig_married_couple)\n",
    "print( )\n",
    "print(\"Percent Table for married couple: \\n\")\n",
    "print(percentTable3)"
   ]
  },
  {
   "cell_type": "code",
   "execution_count": 23,
   "metadata": {},
   "outputs": [
    {
     "name": "stdout",
     "output_type": "stream",
     "text": [
      "2(g)\n",
      "Based on the contingency table in (f), we  expect the Quasi-complete separation \n"
     ]
    }
   ],
   "source": [
    "# \n",
    "print(\"2(g)\")\n",
    "\n",
    "print(\"Based on the contingency table in (f), we  expect the Quasi-complete separation \")"
   ]
  },
  {
   "cell_type": "code",
   "execution_count": 30,
   "metadata": {},
   "outputs": [
    {
     "name": "stdout",
     "output_type": "stream",
     "text": [
      "2(h)\n",
      "Int64Index([0, 1, 2], dtype='int64') \n",
      "\n",
      "    const  1  2  3  4  homeowner  married_couple\n",
      "0     1.0  0  1  0  0          0               1\n",
      "1     1.0  0  1  0  0          0               1\n",
      "2     1.0  0  1  0  0          0               1\n",
      "3     1.0  0  1  0  0          0               1\n",
      "4     1.0  0  1  0  0          0               1\n",
      "5     1.0  0  1  0  0          0               1\n",
      "6     1.0  0  1  0  0          0               1\n",
      "7     1.0  0  1  0  0          0               1\n",
      "8     1.0  0  1  0  0          0               1\n",
      "9     1.0  1  0  0  0          0               0\n",
      "10    1.0  1  0  0  0          0               0\n",
      "11    1.0  1  0  0  0          0               0\n",
      "12    1.0  1  0  0  0          0               0\n",
      "13    1.0  1  0  0  0          0               0\n",
      "14    1.0  1  0  0  0          0               0\n",
      "15    1.0  1  0  0  0          0               0\n",
      "16    1.0  1  0  0  0          0               0\n",
      "17    1.0  1  0  0  0          0               0\n",
      "18    1.0  1  0  0  0          0               0\n",
      "19    1.0  1  0  0  0          0               0\n"
     ]
    }
   ],
   "source": [
    "# \n",
    "print(\"2(h)\")\n",
    "\n",
    "import sklearn.metrics as metrics\n",
    "import statsmodels.api as stats\n",
    "\n",
    "\n",
    "targetVariable_A = LikelihoodDataFrame['A'].astype('category')\n",
    "y = targetVariable_A\n",
    "y_category = y.cat.categories\n",
    "\n",
    "print(y_category,\"\\n\")\n",
    "\n",
    "groupSize = LikelihoodDataFrame['group_size']\n",
    "X = pd.get_dummies(groupSize)\n",
    "X = X.join(LikelihoodDataFrame[[ 'homeowner','married_couple']])\n",
    "X = stats.add_constant(X, prepend=True)\n",
    "\n",
    "print(X.head(20))"
   ]
  },
  {
   "cell_type": "code",
   "execution_count": 33,
   "metadata": {},
   "outputs": [
    {
     "name": "stdout",
     "output_type": "stream",
     "text": [
      "2(h)\n",
      "Name of Target Variable: A\n",
      "Name(s) of Predictors: ['const', 1, 2, 3, 4, 'homeowner', 'married_couple']\n",
      "Optimization terminated successfully.\n",
      "         Current function value: 0.889797\n",
      "         Iterations 8\n",
      "Model Parameter Estimates:\n",
      "                        0         1\n",
      "const           0.408313 -0.564586\n",
      "1               0.424290  0.028582\n",
      "2               0.437360  0.074773\n",
      "3              -0.094090 -0.105714\n",
      "4              -0.359274 -0.562208\n",
      "homeowner       0.462188  0.214712\n",
      "married_couple  0.116990  0.090834\n",
      "Model Log-Likelihood Value:\n",
      " -591936.7938327907\n"
     ]
    }
   ],
   "source": [
    "# \n",
    "print(\"2(h)\")\n",
    "\n",
    "logit = stats.MNLogit(y, X)\n",
    "\n",
    "print(\"Name of Target Variable:\", logit.endog_names)\n",
    "\n",
    "print(\"Name(s) of Predictors:\", logit.exog_names)\n",
    "\n",
    "fitModel = logit.fit(method='newton', full_output = True, maxiter = 100, tol = 1e-8)\n",
    "modelParameter = fitModel.params\n",
    "\n",
    "print(\"Model Parameter Estimates:\\n\", modelParameter)\n",
    "\n",
    "print(\"Model Log-Likelihood Value:\\n\", logit.loglike(modelParameter.values))"
   ]
  },
  {
   "cell_type": "code",
   "execution_count": 35,
   "metadata": {},
   "outputs": [
    {
     "name": "stdout",
     "output_type": "stream",
     "text": [
      "2(h)\n",
      "Confusion Matrix (Row is True, Column is Predicted) = \n",
      "\n",
      "[[     0 143691      0]\n",
      " [     0 426067      0]\n",
      " [     0  95491      0]]\n",
      "Accuracy Score =  0.64046244338586\n"
     ]
    }
   ],
   "source": [
    "# \n",
    "print(\"2(h)\")\n",
    "y_predProb = fitModel.predict(X)\n",
    "y_predict = pd.to_numeric(y_predProb.idxmax(axis=1))\n",
    "\n",
    "y_predictClass = y_category[y_predict]\n",
    "\n",
    "y_confusion = metrics.confusion_matrix(y, y_predictClass)\n",
    "print(\"Confusion Matrix (Row is True, Column is Predicted) = \\n\")\n",
    "print(y_confusion)\n",
    "\n",
    "y_accuracy = metrics.accuracy_score(y, y_predictClass)\n",
    "print(\"Accuracy Score = \", y_accuracy)"
   ]
  },
  {
   "cell_type": "code",
   "execution_count": 55,
   "metadata": {},
   "outputs": [
    {
     "name": "stdout",
     "output_type": "stream",
     "text": [
      "2(i)\n",
      "Predicted Probability table: \n",
      "\n",
      " A                                           0         1         2  All\n",
      "group_size homeowner married_couple                                   \n",
      "1          0         0               0.257784  0.591461  0.150755  1.0\n",
      "                     1               0.321420  0.516990  0.161591  1.0\n",
      "           1         0               0.180242  0.686295  0.133463  1.0\n",
      "                     1               0.221715  0.623997  0.154288  1.0\n",
      "2          0         0               0.272708  0.555946  0.171347  1.0\n",
      "                     1               0.205508  0.645793  0.148699  1.0\n",
      "           1         0               0.253318  0.594854  0.151829  1.0\n",
      "                     1               0.160672  0.702073  0.137255  1.0\n",
      "3          0         0               0.275591  0.669291  0.055118  1.0\n",
      "                     1               0.233002  0.595111  0.171887  1.0\n",
      "           1         0               0.259953  0.594848  0.145199  1.0\n",
      "                     1               0.261579  0.563064  0.175357  1.0\n",
      "4          0         0               1.000000  0.000000  0.000000  1.0\n",
      "                     1               0.187500  0.678571  0.133929  1.0\n",
      "           1         0               0.484848  0.424242  0.090909  1.0\n",
      "                     1               0.333333  0.530055  0.136612  1.0\n",
      "All                                  0.215996  0.640462  0.143542  1.0\n"
     ]
    }
   ],
   "source": [
    "# \n",
    "print(\"2(i)\")\n",
    "\n",
    "targetvariable=LikelihoodDataFrame['A']\n",
    "nominalPredictor1=LikelihoodDataFrame['group_size']\n",
    "nominalPredictor2=LikelihoodDataFrame['homeowner']\n",
    "nominalPredictor3=LikelihoodDataFrame['married_couple']\n",
    "\n",
    "contigencytable=pd.crosstab(index=[nominalPredictor1,nominalPredictor2,nominalPredictor3],\n",
    "                              columns=LikelihoodDataFrame[\"A\"],margins=True,dropna = True)\n",
    "\n",
    "total = contigencytable.drop('All', 1)\n",
    "\n",
    "predictedProbTable = contigencytable.div(total.sum(1), axis='index')\n",
    "\n",
    "print(\"Predicted Probability table: \\n\\n\",predictedProbTable)"
   ]
  },
  {
   "cell_type": "code",
   "execution_count": 79,
   "metadata": {},
   "outputs": [
    {
     "name": "stdout",
     "output_type": "stream",
     "text": [
      "2(i)\n",
      "Predicted probability of 0: \n",
      " 0.1606721019540383\n",
      "Predicted probability of 1: \n",
      " 0.7020727585496748\n",
      "Maximum odd Probability prdictedProb_1/prdictedProb_0: \n",
      "  4.36959963809093\n"
     ]
    }
   ],
   "source": [
    "# the maximum odd Prob(A = 1)/Prob(A = 0) value\n",
    "print(\"2(i)\")\n",
    "\n",
    "prdictedProb_0=predictedProbTable[0][2][1][1]\n",
    "\n",
    "prdictedProb_1=predictedProbTable[1][2][1][1]\n",
    "\n",
    "maxOdd=prdictedProb_1/prdictedProb_0\n",
    "\n",
    "print(\"Predicted probability of 0: \\n\",prdictedProb_0)\n",
    "\n",
    "print(\"Predicted probability of 1: \\n\",prdictedProb_1)\n",
    "\n",
    "print(\"Maximum odd Probability prdictedProb_1/prdictedProb_0: \\n \",maxOdd)"
   ]
  },
  {
   "cell_type": "code",
   "execution_count": null,
   "metadata": {
    "collapsed": true
   },
   "outputs": [],
   "source": [
    "# The odds ratio for group_size = 3 versus group_size = 1, and A = 2 versus A = 0,acccording to the multinomial logistic model\n",
    "\n",
    "print(\"2(j)\")\n",
    "\n",
    "prdictedProb_0=predictedProbTable[0][3][2][2]\n",
    "\n",
    "prdictedProb_1=predictedProbTable[1][2][1][1]\n"
   ]
  }
 ],
 "metadata": {
  "kernelspec": {
   "display_name": "Python 3",
   "language": "python",
   "name": "python3"
  },
  "language_info": {
   "codemirror_mode": {
    "name": "ipython",
    "version": 3
   },
   "file_extension": ".py",
   "mimetype": "text/x-python",
   "name": "python",
   "nbconvert_exporter": "python",
   "pygments_lexer": "ipython3",
   "version": "3.6.3"
  }
 },
 "nbformat": 4,
 "nbformat_minor": 2
}
