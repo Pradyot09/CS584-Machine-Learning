{
 "cells": [
  {
   "cell_type": "code",
   "execution_count": 290,
   "metadata": {},
   "outputs": [
    {
     "name": "stdout",
     "output_type": "stream",
     "text": [
      "1001\n"
     ]
    }
   ],
   "source": [
    "import pandas as pd\n",
    "import matplotlib.pyplot as plt\n",
    "import numpy as np\n",
    "import math\n",
    "\n",
    "\n",
    "data = pd.read_csv(\"E:\\\\Local Disk D\\\\IIT-C\\Sem 4\\\\CS 584 Machine Learning\\\\Homeworks\\\\Homework 1\\\\NormalSample.csv\")\n",
    "\n",
    "df = pd.DataFrame(data)\n",
    "\n",
    "noOfobservations=df['x']\n",
    "\n",
    "N=df.x.count()\n",
    "\n",
    "# print(df)\n",
    "print(N)"
   ]
  },
  {
   "cell_type": "code",
   "execution_count": 69,
   "metadata": {
    "scrolled": true
   },
   "outputs": [
    {
     "name": "stdout",
     "output_type": "stream",
     "text": [
      "                 i        group            x\n",
      "count  1001.000000  1001.000000  1001.000000\n",
      "mean    500.000000     0.685315    31.414585\n",
      "std     289.108111     0.464623     1.397672\n",
      "min       0.000000     0.000000    26.300000\n",
      "25%     250.000000     0.000000    30.400000\n",
      "50%     500.000000     1.000000    31.500000\n",
      "75%     750.000000     1.000000    32.400000\n",
      "max    1000.000000     1.000000    35.400000\n"
     ]
    }
   ],
   "source": [
    "trainData_descriptive = data.describe()\n",
    "print(trainData_descriptive)"
   ]
  },
  {
   "cell_type": "code",
   "execution_count": 70,
   "metadata": {},
   "outputs": [
    {
     "data": {
      "image/png": "[encoded data removed]",
      "text/plain": [
       "<matplotlib.figure.Figure at 0x21616a40550>"
      ]
     },
     "metadata": {},
     "output_type": "display_data"
    }
   ],
   "source": [
    "# Visualize the histogram of the variable\n",
    "plt.hist(noOfobservations)\n",
    "plt.title(\"Histogram\")\n",
    "plt.xlabel(\"Values of X\")\n",
    "plt.ylabel(\"Frequency\")\n",
    "plt.show()"
   ]
  },
  {
   "cell_type": "code",
   "execution_count": 71,
   "metadata": {},
   "outputs": [
    {
     "name": "stdout",
     "output_type": "stream",
     "text": [
      "Median  31.5\n",
      "LowerQuartile  30.4\n",
      "UpperQuartile  32.4\n",
      "InterQuartile  2.0\n",
      "Binwidth  0.3998667554864774\n"
     ]
    }
   ],
   "source": [
    "#Binwidth\n",
    "median =np.median(noOfobservations)\n",
    "\n",
    "LowerQuartile=np.percentile(noOfobservations,25)\n",
    "\n",
    "UpperQuartile=np.percentile(noOfobservations,75)\n",
    "\n",
    "InterQuartile=UpperQuartile-LowerQuartile\n",
    "\n",
    "IQR=InterQuartile\n",
    "\n",
    "binwidth=2*(𝐼𝑄𝑅)*𝑁**(-1/3)\n",
    "\n",
    "print(\"Median \",median)\n",
    "\n",
    "print(\"LowerQuartile \",LowerQuartile)\n",
    "\n",
    "print(\"UpperQuartile \",UpperQuartile)\n",
    "\n",
    "print(\"InterQuartile \",IQR)\n",
    "\n",
    "print(\"Binwidth \", binwidth)"
   ]
  },
  {
   "cell_type": "code",
   "execution_count": 72,
   "metadata": {},
   "outputs": [
    {
     "name": "stdout",
     "output_type": "stream",
     "text": [
      "MaxValue  35.4\n",
      "MinValue  26.3\n"
     ]
    }
   ],
   "source": [
    "#Min and Max Value of field X\n",
    "\n",
    "MaxValue=max(noOfobservations)\n",
    "MinValue=min(noOfobservations)\n",
    "\n",
    "\n",
    "print(\"MaxValue \",MaxValue)\n",
    "\n",
    "print(\"MinValue \",MinValue)"
   ]
  },
  {
   "cell_type": "code",
   "execution_count": 73,
   "metadata": {},
   "outputs": [
    {
     "name": "stdout",
     "output_type": "stream",
     "text": [
      "NextMin  26\n",
      "NextMax  36\n"
     ]
    }
   ],
   "source": [
    "#Next Maximum and Minimum integer value for X\n",
    "\n",
    "a=math.floor(MinValue)\n",
    "b=math.ceil(MaxValue)\n",
    "\n",
    "print(\"NextMin \",a)\n",
    "\n",
    "print(\"NextMax \",b)"
   ]
  },
  {
   "cell_type": "code",
   "execution_count": 74,
   "metadata": {},
   "outputs": [
    {
     "data": {
      "image/png": "[encoded data removed]",
      "text/plain": [
       "<matplotlib.figure.Figure at 0x21616abfc88>"
      ]
     },
     "metadata": {},
     "output_type": "display_data"
    }
   ],
   "source": [
    "#h = 0.1, minimum = a and maximum = b\n",
    "\n",
    "# plt.hist(noOfobservations)\n",
    "\n",
    "binwidth_h=0.1\n",
    "\n",
    "plt.hist(noOfobservations, bins=np.arange(a, b + binwidth_h, binwidth_h))\n",
    "\n",
    "# plt.hist(noOfobservations, bins=((b-a)/binwidth_h))\n",
    "plt.title(\"Histogram\")\n",
    "plt.xlabel(\"Values of X\")\n",
    "plt.ylabel(\"Frequency\")\n",
    "plt.show()\n"
   ]
  },
  {
   "cell_type": "code",
   "execution_count": 75,
   "metadata": {},
   "outputs": [
    {
     "data": {
      "image/png": "[encoded data removed]",
      "text/plain": [
       "<matplotlib.figure.Figure at 0x216169d7128>"
      ]
     },
     "metadata": {},
     "output_type": "display_data"
    }
   ],
   "source": [
    "#h = 0.5, minimum = a and maximum = b\n",
    "\n",
    "# plt.hist(noOfobservations)\n",
    "\n",
    "binwidth_h=0.5\n",
    "\n",
    "plt.hist(noOfobservations, bins=np.arange(a, b + binwidth_h, binwidth_h))\n",
    "\n",
    "# plt.hist(noOfobservations, bins=np.arange(a, b, binwidth_h))\n",
    "plt.title(\"Histogram\")\n",
    "plt.xlabel(\"Values of X\")\n",
    "plt.ylabel(\"Frequency\")\n",
    "plt.show()"
   ]
  },
  {
   "cell_type": "code",
   "execution_count": 76,
   "metadata": {},
   "outputs": [
    {
     "data": {
      "image/png": "[encoded data removed]",
      "text/plain": [
       "<matplotlib.figure.Figure at 0x216169d9e80>"
      ]
     },
     "metadata": {},
     "output_type": "display_data"
    }
   ],
   "source": [
    "#h = 1, minimum = a and maximum = b\n",
    "\n",
    "# plt.hist(noOfobservations)\n",
    "\n",
    "binwidth_h=1\n",
    "\n",
    "plt.hist(noOfobservations, bins=np.arange(a, b + binwidth_h, binwidth_h))\n",
    "plt.title(\"Histogram\")\n",
    "plt.xlabel(\"Values of X\")\n",
    "plt.ylabel(\"Frequency\")\n",
    "plt.show()"
   ]
  },
  {
   "cell_type": "code",
   "execution_count": 77,
   "metadata": {},
   "outputs": [
    {
     "data": {
      "image/png": "[encoded data removed]",
      "text/plain": [
       "<matplotlib.figure.Figure at 0x21614ba8da0>"
      ]
     },
     "metadata": {},
     "output_type": "display_data"
    }
   ],
   "source": [
    "#h = 2, minimum = a and maximum = b\n",
    "\n",
    "# plt.hist(noOfobservations)\n",
    "\n",
    "binwidth_h=2\n",
    "\n",
    "plt.hist(noOfobservations, bins=np.arange(a, b + binwidth_h, binwidth_h))\n",
    "plt.title(\"Histogram\")\n",
    "plt.xlabel(\"Values of X\")\n",
    "plt.ylabel(\"Frequency\")\n",
    "# plt.grid(axis=\"x\")\n",
    "# plt.grid(axis=\"y\")\n",
    "plt.show()"
   ]
  },
  {
   "cell_type": "code",
   "execution_count": 78,
   "metadata": {},
   "outputs": [
    {
     "data": {
      "image/png": "[encoded data removed]",
      "text/plain": [
       "<matplotlib.figure.Figure at 0x21616dddd30>"
      ]
     },
     "metadata": {},
     "output_type": "display_data"
    }
   ],
   "source": [
    "# Visualize the boxplot of the values of x\n",
    "\n",
    "plt.boxplot(noOfobservations,vert=False)\n",
    "plt.title(\"Boxplot for Values of X\")\n",
    "plt.xlabel(\"Values of X\")\n",
    "plt.grid(axis=\"x\")\n",
    "plt.show()"
   ]
  },
  {
   "cell_type": "code",
   "execution_count": 79,
   "metadata": {},
   "outputs": [
    {
     "name": "stdout",
     "output_type": "stream",
     "text": [
      "Median  31.5\n",
      "LowerQuartile  30.4\n",
      "UpperQuartile  32.4\n",
      "MaxValue  35.4\n",
      "MinValue  26.3\n"
     ]
    }
   ],
   "source": [
    "#Five numbersummary of the box plot\n",
    "\n",
    "Median=np.median(noOfobservations)\n",
    "\n",
    "LowerQuartile=np.percentile(noOfobservations,25)\n",
    "\n",
    "Q1=LowerQuartile\n",
    "\n",
    "UpperQuartile=np.percentile(noOfobservations,75)\n",
    "\n",
    "Q3=UpperQuartile\n",
    "\n",
    "MaxValue=max(noOfobservations)\n",
    "\n",
    "MinValue=min(noOfobservations)\n",
    "\n",
    "InterQuartile=UpperQuartile-LowerQuartile\n",
    "\n",
    "IQR=InterQuartile\n",
    "\n",
    "\n",
    "print(\"Median \",median)\n",
    "\n",
    "print(\"LowerQuartile \",LowerQuartile)\n",
    "\n",
    "print(\"UpperQuartile \",UpperQuartile)\n",
    "\n",
    "print(\"MaxValue \",MaxValue)\n",
    "\n",
    "print(\"MinValue \",MinValue)\n",
    "\n"
   ]
  },
  {
   "cell_type": "code",
   "execution_count": 80,
   "metadata": {},
   "outputs": [
    {
     "name": "stdout",
     "output_type": "stream",
     "text": [
      "InterQuartile  2.0\n",
      "Lowerwhisker  27.4\n",
      "Upperwhisker  35.4\n"
     ]
    }
   ],
   "source": [
    "# Values of the 1.5 IQR whiskers\n",
    "\n",
    "print(\"InterQuartile \",IQR)\n",
    "\n",
    "Lowerwhisker=Q1-1.5*IQR\n",
    "\n",
    "Upperwhisker=Q3+1.5*IQR\n",
    "\n",
    "\n",
    "print(\"Lowerwhisker \",Lowerwhisker)\n",
    "\n",
    "print(\"Upperwhisker \",Upperwhisker)\n",
    "\n"
   ]
  },
  {
   "cell_type": "code",
   "execution_count": 299,
   "metadata": {
    "scrolled": true
   },
   "outputs": [
    {
     "name": "stderr",
     "output_type": "stream",
     "text": [
      "C:\\Program Files\\Anaconda3\\lib\\site-packages\\numpy\\core\\fromnumeric.py:52: FutureWarning: reshape is deprecated and will raise in a subsequent release. Please use .values.reshape(...) instead\n",
      "  return getattr(obj, method)(*args, **kwds)\n"
     ]
    },
    {
     "data": {
      "image/png": "[encoded data removed]",
      "text/plain": [
       "<matplotlib.figure.Figure at 0x21618023fd0>"
      ]
     },
     "metadata": {},
     "output_type": "display_data"
    }
   ],
   "source": [
    "#Five number summary of x for each category of the group\n",
    "\n",
    "isOne=(df.group==1)\n",
    "\n",
    "isZero=(df.group!=1)\n",
    "\n",
    "One = data[isOne]['x']\n",
    "Zero = data[isZero]['x']\n",
    "Xvalue=['x']\n",
    "\n",
    "# print(Zero)\n",
    "fig = plt.figure()\n",
    "ax = fig.add_subplot(111)\n",
    "# ax.boxplot(noOfobservations,vert=False)\n",
    "ax.boxplot([One,Zero], labels=['1', '0'],vert=False)\n",
    "\n",
    "plt.xlabel(\"Values of X\")\n",
    "plt.ylabel(\"Values of groups\")\n",
    "plt.show()\n",
    "\n"
   ]
  },
  {
   "cell_type": "code",
   "execution_count": 128,
   "metadata": {},
   "outputs": [
    {
     "data": {
      "text/html": [
       "<div>\n",
       "<style>\n",
       "    .dataframe thead tr:only-child th {\n",
       "        text-align: right;\n",
       "    }\n",
       "\n",
       "    .dataframe thead th {\n",
       "        text-align: left;\n",
       "    }\n",
       "\n",
       "    .dataframe tbody tr th {\n",
       "        vertical-align: top;\n",
       "    }\n",
       "</style>\n",
       "<table border=\"1\" class=\"dataframe\">\n",
       "  <thead>\n",
       "    <tr style=\"text-align: right;\">\n",
       "      <th></th>\n",
       "      <th>CASE_ID</th>\n",
       "      <th>FRAUD</th>\n",
       "      <th>TOTAL_SPEND</th>\n",
       "      <th>DOCTOR_VISITS</th>\n",
       "      <th>NUM_CLAIMS</th>\n",
       "      <th>MEMBER_DURATION</th>\n",
       "      <th>OPTOM_PRESC</th>\n",
       "      <th>NUM_MEMBERS</th>\n",
       "    </tr>\n",
       "  </thead>\n",
       "  <tbody>\n",
       "    <tr>\n",
       "      <th>0</th>\n",
       "      <td>1</td>\n",
       "      <td>1</td>\n",
       "      <td>1100</td>\n",
       "      <td>11</td>\n",
       "      <td>0</td>\n",
       "      <td>94</td>\n",
       "      <td>1</td>\n",
       "      <td>2</td>\n",
       "    </tr>\n",
       "    <tr>\n",
       "      <th>1</th>\n",
       "      <td>2</td>\n",
       "      <td>1</td>\n",
       "      <td>1300</td>\n",
       "      <td>7</td>\n",
       "      <td>2</td>\n",
       "      <td>122</td>\n",
       "      <td>0</td>\n",
       "      <td>1</td>\n",
       "    </tr>\n",
       "    <tr>\n",
       "      <th>2</th>\n",
       "      <td>3</td>\n",
       "      <td>1</td>\n",
       "      <td>1500</td>\n",
       "      <td>4</td>\n",
       "      <td>0</td>\n",
       "      <td>149</td>\n",
       "      <td>1</td>\n",
       "      <td>3</td>\n",
       "    </tr>\n",
       "    <tr>\n",
       "      <th>3</th>\n",
       "      <td>4</td>\n",
       "      <td>1</td>\n",
       "      <td>1500</td>\n",
       "      <td>9</td>\n",
       "      <td>0</td>\n",
       "      <td>180</td>\n",
       "      <td>1</td>\n",
       "      <td>1</td>\n",
       "    </tr>\n",
       "    <tr>\n",
       "      <th>4</th>\n",
       "      <td>5</td>\n",
       "      <td>0</td>\n",
       "      <td>1700</td>\n",
       "      <td>3</td>\n",
       "      <td>0</td>\n",
       "      <td>93</td>\n",
       "      <td>0</td>\n",
       "      <td>1</td>\n",
       "    </tr>\n",
       "  </tbody>\n",
       "</table>\n",
       "</div>"
      ],
      "text/plain": [
       "   CASE_ID  FRAUD  TOTAL_SPEND  DOCTOR_VISITS  NUM_CLAIMS  MEMBER_DURATION  \\\n",
       "0        1      1         1100             11           0               94   \n",
       "1        2      1         1300              7           2              122   \n",
       "2        3      1         1500              4           0              149   \n",
       "3        4      1         1500              9           0              180   \n",
       "4        5      0         1700              3           0               93   \n",
       "\n",
       "   OPTOM_PRESC  NUM_MEMBERS  \n",
       "0            1            2  \n",
       "1            0            1  \n",
       "2            1            3  \n",
       "3            1            1  \n",
       "4            0            1  "
      ]
     },
     "execution_count": 128,
     "metadata": {},
     "output_type": "execute_result"
    }
   ],
   "source": [
    "import pandas as pd\n",
    "import matplotlib.pyplot as plt\n",
    "import numpy as np\n",
    "import math\n",
    "\n",
    "\n",
    "fraudData = pd.read_csv(\"E:\\\\Local Disk D\\\\IIT-C\\\\Sem 4\\\\CS 584 Machine Learning\\\\Homeworks\\\\Homework 1\\\\Fraud.csv\")\n",
    "\n",
    "df = pd.DataFrame(fraudData)\n",
    "\n",
    "\n",
    "# print(df.head(10))\n",
    "df.head()"
   ]
  },
  {
   "cell_type": "code",
   "execution_count": 286,
   "metadata": {},
   "outputs": [
    {
     "name": "stdout",
     "output_type": "stream",
     "text": [
      "Percentage of fradulant data  19.9497\n"
     ]
    }
   ],
   "source": [
    "#Percent of the fradulant data \n",
    "\n",
    "totalData=df.FRAUD.count()\n",
    "\n",
    "FraudData=(df.FRAUD == 1).sum()\n",
    "\n",
    "# fraudData=df[df['FRAUD'] == 1].count()\n",
    "\n",
    "percentFraud=(FraudData/totalData)*100\n",
    "\n",
    "# print(totalData)\n",
    "\n",
    "print(\"Percentage of fradulant data \",round(percentFraud,4))"
   ]
  },
  {
   "cell_type": "code",
   "execution_count": 120,
   "metadata": {},
   "outputs": [
    {
     "name": "stderr",
     "output_type": "stream",
     "text": [
      "C:\\Program Files\\Anaconda3\\lib\\site-packages\\numpy\\core\\fromnumeric.py:52: FutureWarning: reshape is deprecated and will raise in a subsequent release. Please use .values.reshape(...) instead\n",
      "  return getattr(obj, method)(*args, **kwds)\n"
     ]
    },
    {
     "data": {
      "image/png": "[encoded data removed]",
      "text/plain": [
       "<matplotlib.figure.Figure at 0x21616a4aeb8>"
      ]
     },
     "metadata": {},
     "output_type": "display_data"
    }
   ],
   "source": [
    "# Visualize the boxplot of the values of x\n",
    "\n",
    "isFradulantData=(df.FRAUD==1)\n",
    "\n",
    "isOtherwiseData=(df.FRAUD!=1)\n",
    "\n",
    "FradulantData = fraudData[isFradulantData]\n",
    "\n",
    "# FradulantData=FradulantData.FRAUD\n",
    "\n",
    "OtherwiseData=fraudData[isOtherwiseData]\n",
    "# OtherwiseData=OtherwiseData.FRAUD\n",
    "\n",
    "# totalSpend=df['TOTAL_SPEND']\n",
    "# box_plot_data=[totalSpend]\n",
    "\n",
    "# print(FradulantData)\n",
    "# print(OtherwiseData)\n",
    "# print(totalSpend)\n",
    "\n",
    "FradulantData = fraudData[isFradulantData]['TOTAL_SPEND']\n",
    "OtherwiseData = fraudData[isOtherwiseData]['TOTAL_SPEND']\n",
    "fig = plt.figure()\n",
    "ax = fig.add_subplot(111)\n",
    "ax.boxplot([OtherwiseData,FradulantData], labels=['0', '1'],vert=False)\n",
    "\n",
    "plt.ylabel(\"Values of Fraud\")\n",
    "plt.xlabel(\"Total Amount Claimed\")\n",
    "plt.show()\n",
    "\n"
   ]
  },
  {
   "cell_type": "code",
   "execution_count": 111,
   "metadata": {},
   "outputs": [
    {
     "name": "stderr",
     "output_type": "stream",
     "text": [
      "C:\\Program Files\\Anaconda3\\lib\\site-packages\\numpy\\core\\fromnumeric.py:52: FutureWarning: reshape is deprecated and will raise in a subsequent release. Please use .values.reshape(...) instead\n",
      "  return getattr(obj, method)(*args, **kwds)\n"
     ]
    },
    {
     "data": {
      "image/png": "[encoded data removed]",
      "text/plain": [
       "<matplotlib.figure.Figure at 0x2161695f278>"
      ]
     },
     "metadata": {},
     "output_type": "display_data"
    }
   ],
   "source": [
    "# Visualize the boxplot of the values of x\n",
    "\n",
    "isFradulantData=(df.FRAUD==1)\n",
    "\n",
    "isOtherwiseData=(df.FRAUD!=1)\n",
    "\n",
    "FradulantData = fraudData[isFradulantData]\n",
    "OtherwiseData=fraudData[isOtherwiseData]\n",
    "\n",
    "\n",
    "# print(FradulantData)\n",
    "\n",
    "FradulantData = fraudData[isFradulantData]['DOCTOR_VISITS']\n",
    "OtherwiseData = fraudData[isOtherwiseData]['DOCTOR_VISITS']\n",
    "fig = plt.figure()\n",
    "ax = fig.add_subplot(111)\n",
    "ax.boxplot([OtherwiseData,FradulantData], labels=['0', '1'],vert=False)\n",
    "plt.ylabel(\"Values of Fraud\")\n",
    "plt.xlabel(\"Doctor Visits\")\n",
    "plt.show()\n"
   ]
  },
  {
   "cell_type": "code",
   "execution_count": 118,
   "metadata": {},
   "outputs": [
    {
     "name": "stderr",
     "output_type": "stream",
     "text": [
      "C:\\Program Files\\Anaconda3\\lib\\site-packages\\numpy\\core\\fromnumeric.py:52: FutureWarning: reshape is deprecated and will raise in a subsequent release. Please use .values.reshape(...) instead\n",
      "  return getattr(obj, method)(*args, **kwds)\n"
     ]
    },
    {
     "data": {
      "image/png": "[encoded data removed]",
      "text/plain": [
       "<matplotlib.figure.Figure at 0x21616975ef0>"
      ]
     },
     "metadata": {},
     "output_type": "display_data"
    }
   ],
   "source": [
    "# Visualize the boxplot of the values of x\n",
    "\n",
    "isFradulantData=(df.FRAUD==1)\n",
    "\n",
    "isOtherwiseData=(df.FRAUD!=1)\n",
    "\n",
    "FradulantData = fraudData[isFradulantData]\n",
    "\n",
    "# FradulantData=FradulantData.FRAUD\n",
    "\n",
    "OtherwiseData=fraudData[isOtherwiseData]\n",
    "# OtherwiseData=OtherwiseData.FRAUD\n",
    "\n",
    "# totalSpend=df['TOTAL_SPEND']\n",
    "# box_plot_data=[totalSpend]\n",
    "\n",
    "# print(FradulantData)\n",
    "# print(OtherwiseData)\n",
    "# print(totalSpend)\n",
    "\n",
    "FradulantData = fraudData[isFradulantData]['NUM_CLAIMS']\n",
    "OtherwiseData = fraudData[isOtherwiseData]['NUM_CLAIMS']\n",
    "fig = plt.figure()\n",
    "ax = fig.add_subplot(111)\n",
    "ax.boxplot([OtherwiseData,FradulantData], labels=['0', '1'],vert=False)\n",
    "\n",
    "plt.ylabel(\"Values of Fraud\")\n",
    "plt.xlabel(\"Number of Claims Made\")\n",
    "plt.show()"
   ]
  },
  {
   "cell_type": "code",
   "execution_count": 117,
   "metadata": {},
   "outputs": [
    {
     "name": "stderr",
     "output_type": "stream",
     "text": [
      "C:\\Program Files\\Anaconda3\\lib\\site-packages\\numpy\\core\\fromnumeric.py:52: FutureWarning: reshape is deprecated and will raise in a subsequent release. Please use .values.reshape(...) instead\n",
      "  return getattr(obj, method)(*args, **kwds)\n"
     ]
    },
    {
     "data": {
      "image/png": "[encoded data removed]",
      "text/plain": [
       "<matplotlib.figure.Figure at 0x21614b30ac8>"
      ]
     },
     "metadata": {},
     "output_type": "display_data"
    }
   ],
   "source": [
    "# Visualize the boxplot of the values of x\n",
    "\n",
    "isFradulantData=(df.FRAUD==1)\n",
    "\n",
    "isOtherwiseData=(df.FRAUD!=1)\n",
    "\n",
    "FradulantData = fraudData[isFradulantData]\n",
    "OtherwiseData=fraudData[isOtherwiseData]\n",
    "\n",
    "FradulantData = fraudData[isFradulantData]['MEMBER_DURATION']\n",
    "OtherwiseData = fraudData[isOtherwiseData]['MEMBER_DURATION']\n",
    "fig = plt.figure()\n",
    "ax = fig.add_subplot(111)\n",
    "ax.boxplot([OtherwiseData,FradulantData], labels=['0', '1'],vert=False)\n",
    "plt.ylabel(\"Values of Fraud\")\n",
    "plt.xlabel(\"Membership Duration\")\n",
    "plt.show()"
   ]
  },
  {
   "cell_type": "code",
   "execution_count": 116,
   "metadata": {},
   "outputs": [
    {
     "name": "stderr",
     "output_type": "stream",
     "text": [
      "C:\\Program Files\\Anaconda3\\lib\\site-packages\\numpy\\core\\fromnumeric.py:52: FutureWarning: reshape is deprecated and will raise in a subsequent release. Please use .values.reshape(...) instead\n",
      "  return getattr(obj, method)(*args, **kwds)\n"
     ]
    },
    {
     "data": {
      "image/png": "[encoded data removed]",
      "text/plain": [
       "<matplotlib.figure.Figure at 0x216169bb7b8>"
      ]
     },
     "metadata": {},
     "output_type": "display_data"
    }
   ],
   "source": [
    "# Visualize the boxplot of the values of x\n",
    "\n",
    "isFradulantData=(df.FRAUD==1)\n",
    "\n",
    "isOtherwiseData=(df.FRAUD!=1)\n",
    "\n",
    "FradulantData = fraudData[isFradulantData]\n",
    "OtherwiseData=fraudData[isOtherwiseData]\n",
    "\n",
    "FradulantData = fraudData[isFradulantData]['OPTOM_PRESC']\n",
    "OtherwiseData = fraudData[isOtherwiseData]['OPTOM_PRESC']\n",
    "fig = plt.figure()\n",
    "ax = fig.add_subplot(111)\n",
    "ax.boxplot([OtherwiseData,FradulantData], labels=['0', '1'],vert=False)\n",
    "plt.ylabel(\"Values of Fraud\")\n",
    "plt.xlabel(\"Number of Optical Examination\")\n",
    "plt.show()"
   ]
  },
  {
   "cell_type": "code",
   "execution_count": 97,
   "metadata": {
    "scrolled": true
   },
   "outputs": [
    {
     "name": "stderr",
     "output_type": "stream",
     "text": [
      "C:\\Program Files\\Anaconda3\\lib\\site-packages\\numpy\\core\\fromnumeric.py:52: FutureWarning: reshape is deprecated and will raise in a subsequent release. Please use .values.reshape(...) instead\n",
      "  return getattr(obj, method)(*args, **kwds)\n"
     ]
    },
    {
     "data": {
      "image/png": "[encoded data removed]",
      "text/plain": [
       "<matplotlib.figure.Figure at 0x21616ad53c8>"
      ]
     },
     "metadata": {},
     "output_type": "display_data"
    }
   ],
   "source": [
    "# Visualize the boxplot of the values of x\n",
    "\n",
    "isFradulantData=(df.FRAUD==1)\n",
    "\n",
    "isOtherwiseData=(df.FRAUD!=1)\n",
    "\n",
    "FradulantData = fraudData[isFradulantData]\n",
    "OtherwiseData=fraudData[isOtherwiseData]\n",
    "\n",
    "FradulantData = fraudData[isFradulantData]['NUM_MEMBERS']\n",
    "OtherwiseData = fraudData[isOtherwiseData]['NUM_MEMBERS']\n",
    "\n",
    "fig = plt.figure()\n",
    "ax = fig.add_subplot(111)\n",
    "ax.boxplot([OtherwiseData,FradulantData], labels=['0', '1'],vert=False)\n",
    "plt.ylabel(\"Values of Fraud\")\n",
    "plt.xlabel(\"Number of Members Covered \")\n",
    "plt.show()"
   ]
  },
  {
   "cell_type": "code",
   "execution_count": 16,
   "metadata": {},
   "outputs": [
    {
     "data": {
      "text/html": [
       "<div>\n",
       "<style>\n",
       "    .dataframe thead tr:only-child th {\n",
       "        text-align: right;\n",
       "    }\n",
       "\n",
       "    .dataframe thead th {\n",
       "        text-align: left;\n",
       "    }\n",
       "\n",
       "    .dataframe tbody tr th {\n",
       "        vertical-align: top;\n",
       "    }\n",
       "</style>\n",
       "<table border=\"1\" class=\"dataframe\">\n",
       "  <thead>\n",
       "    <tr style=\"text-align: right;\">\n",
       "      <th></th>\n",
       "      <th>CASE_ID</th>\n",
       "      <th>FRAUD</th>\n",
       "      <th>TOTAL_SPEND</th>\n",
       "      <th>DOCTOR_VISITS</th>\n",
       "      <th>NUM_CLAIMS</th>\n",
       "      <th>MEMBER_DURATION</th>\n",
       "      <th>OPTOM_PRESC</th>\n",
       "      <th>NUM_MEMBERS</th>\n",
       "    </tr>\n",
       "  </thead>\n",
       "  <tbody>\n",
       "    <tr>\n",
       "      <th>0</th>\n",
       "      <td>1</td>\n",
       "      <td>1</td>\n",
       "      <td>1100</td>\n",
       "      <td>11</td>\n",
       "      <td>0</td>\n",
       "      <td>94</td>\n",
       "      <td>1</td>\n",
       "      <td>2</td>\n",
       "    </tr>\n",
       "    <tr>\n",
       "      <th>1</th>\n",
       "      <td>2</td>\n",
       "      <td>1</td>\n",
       "      <td>1300</td>\n",
       "      <td>7</td>\n",
       "      <td>2</td>\n",
       "      <td>122</td>\n",
       "      <td>0</td>\n",
       "      <td>1</td>\n",
       "    </tr>\n",
       "    <tr>\n",
       "      <th>2</th>\n",
       "      <td>3</td>\n",
       "      <td>1</td>\n",
       "      <td>1500</td>\n",
       "      <td>4</td>\n",
       "      <td>0</td>\n",
       "      <td>149</td>\n",
       "      <td>1</td>\n",
       "      <td>3</td>\n",
       "    </tr>\n",
       "    <tr>\n",
       "      <th>3</th>\n",
       "      <td>4</td>\n",
       "      <td>1</td>\n",
       "      <td>1500</td>\n",
       "      <td>9</td>\n",
       "      <td>0</td>\n",
       "      <td>180</td>\n",
       "      <td>1</td>\n",
       "      <td>1</td>\n",
       "    </tr>\n",
       "    <tr>\n",
       "      <th>4</th>\n",
       "      <td>5</td>\n",
       "      <td>0</td>\n",
       "      <td>1700</td>\n",
       "      <td>3</td>\n",
       "      <td>0</td>\n",
       "      <td>93</td>\n",
       "      <td>0</td>\n",
       "      <td>1</td>\n",
       "    </tr>\n",
       "  </tbody>\n",
       "</table>\n",
       "</div>"
      ],
      "text/plain": [
       "   CASE_ID  FRAUD  TOTAL_SPEND  DOCTOR_VISITS  NUM_CLAIMS  MEMBER_DURATION  \\\n",
       "0        1      1         1100             11           0               94   \n",
       "1        2      1         1300              7           2              122   \n",
       "2        3      1         1500              4           0              149   \n",
       "3        4      1         1500              9           0              180   \n",
       "4        5      0         1700              3           0               93   \n",
       "\n",
       "   OPTOM_PRESC  NUM_MEMBERS  \n",
       "0            1            2  \n",
       "1            0            1  \n",
       "2            1            3  \n",
       "3            1            1  \n",
       "4            0            1  "
      ]
     },
     "execution_count": 16,
     "metadata": {},
     "output_type": "execute_result"
    }
   ],
   "source": [
    "#Orthonormalize interval variables \n",
    "df.head()"
   ]
  },
  {
   "cell_type": "code",
   "execution_count": 247,
   "metadata": {},
   "outputs": [
    {
     "name": "stdout",
     "output_type": "stream",
     "text": [
      "The orthonormalize matrix = \n",
      " [[-6.56324665e-04  9.39352141e-03  1.39590283e-02 -6.64664861e-03\n",
      "   1.02081629e-02 -5.96859502e-03]\n",
      " [-7.75702220e-04  1.22658834e-02  5.16174400e-03  8.51930607e-04\n",
      "   5.01932025e-03  2.09672310e-02]\n",
      " [-8.95075830e-04  1.50348109e-02 -1.71350853e-03 -7.38335310e-03\n",
      "   1.97528525e-02 -7.64597676e-03]\n",
      " ...\n",
      " [-5.31896971e-02 -4.74021952e-02 -7.13245766e-03  2.75078514e-02\n",
      "  -1.62580211e-02  7.18408819e-05]\n",
      " [-5.35474776e-02 -4.76625006e-02 -9.17125411e-03  2.76213381e-02\n",
      "  -1.62154130e-02  1.80147801e-04]\n",
      " [-5.36071324e-02 -4.70861917e-02 -7.81347172e-03  2.93391341e-02\n",
      "  -2.73884697e-02  2.21157680e-03]]\n",
      "Identity Matrix = \n",
      " [[ 1.00000000e+00 -1.11022302e-16  9.67108338e-17 -7.63278329e-17\n",
      "   1.99493200e-17 -7.91467586e-18]\n",
      " [-1.11022302e-16  1.00000000e+00  1.83447008e-16  2.25514052e-17\n",
      "  -1.38777878e-17 -3.03576608e-18]\n",
      " [ 9.67108338e-17  1.83447008e-16  1.00000000e+00 -6.67868538e-17\n",
      "  -7.91467586e-18  2.55465137e-17]\n",
      " [-7.63278329e-17  2.25514052e-17 -6.67868538e-17  1.00000000e+00\n",
      "  -9.10729825e-17  1.63660318e-16]\n",
      " [ 1.99493200e-17 -1.38777878e-17 -7.91467586e-18 -9.10729825e-17\n",
      "   1.00000000e+00  3.25748543e-16]\n",
      " [-7.91467586e-18 -3.03576608e-18  2.55465137e-17  1.63660318e-16\n",
      "   3.25748543e-16  1.00000000e+00]]\n",
      "2\n"
     ]
    }
   ],
   "source": [
    "import scipy as sp\n",
    "\n",
    "from scipy import linalg as la\n",
    "from numpy import linalg as la2\n",
    "\n",
    "\n",
    "intervalMatrix=np.array(fraudData.iloc[:,2:8].values)\n",
    "\n",
    "\n",
    "orthonormalize=la.orth(intervalMatrix)\n",
    "\n",
    "print(\"The orthonormalize matrix = \\n\", orthonormalize)\n",
    "\n",
    "Varifiy = orthonormalize.transpose().dot(orthonormalize)\n",
    "print(\"Identity Matrix = \\n\", Varifiy)\n",
    "\n",
    "\n",
    "\n",
    "# print (intervalMatrix)\n",
    "print (intervalMatrix.ndim)\n",
    "\n",
    "# print(np.size(intervalMatrix,0))\n",
    "\n",
    "# print(np.size(intervalMatrix,1))\n"
   ]
  },
  {
   "cell_type": "code",
   "execution_count": 248,
   "metadata": {
    "scrolled": false
   },
   "outputs": [
    {
     "name": "stdout",
     "output_type": "stream",
     "text": [
      "[[ 1100    11     0    94     1     2]\n",
      " [ 1300     7     2   122     0     1]\n",
      " [ 1500     4     0   149     1     3]\n",
      " ...\n",
      " [89200    15     0   212     0     2]\n",
      " [89800    14     0   214     0     2]\n",
      " [89900    15     0   220     0     1]]\n",
      "Multiplication of Transpose Matrix and original Matrix \n",
      "\n",
      " [[2812184770000    1040176400      42913200   20404919400     134771800\n",
      "      220035900]\n",
      " [   1040176400        788159         23809      10264845         57654\n",
      "         106717]\n",
      " [     42913200         23809          7922        448090          3459\n",
      "           4765]\n",
      " [  20404919400      10264845        448090     232422585       1163391\n",
      "        2121127]\n",
      " [    134771800         57654          3459       1163391         24460\n",
      "          13581]\n",
      " [    220035900        106717          4765       2121127         13581\n",
      "          29423]]\n"
     ]
    }
   ],
   "source": [
    "import scipy as sp\n",
    "\n",
    "from scipy import linalg as la\n",
    "\n",
    "from numpy import linalg as la2\n",
    "\n",
    "intervalMatrix=np.matrix(fraudData.iloc[:,2:8].values)\n",
    "\n",
    "print (intervalMatrix)\n",
    "\n",
    "transposeMatrix=intervalMatrix.transpose()*intervalMatrix\n",
    "\n",
    "print(\"Multiplication of Transpose Matrix and original Matrix \\n\\n\",transposeMatrix)\n"
   ]
  },
  {
   "cell_type": "code",
   "execution_count": 251,
   "metadata": {
    "scrolled": false
   },
   "outputs": [
    {
     "name": "stdout",
     "output_type": "stream",
     "text": [
      "Eigenvalues of x = \n",
      "\n",
      " [6.84728061e+03 8.38798104e+03 1.80639631e+04 3.15839942e+05\n",
      " 8.44539131e+07 2.81233324e+12]\n",
      "Eigenvectors of x = \n",
      "\n",
      " [[-5.37750046e-06 -2.20900379e-05  3.62806809e-05 -1.36298664e-04\n",
      "  -7.26453432e-03  9.99973603e-01]\n",
      " [ 6.05433402e-03 -2.69942162e-02  1.27528313e-02  9.99013423e-01\n",
      "   3.23120126e-02  3.69879256e-04]\n",
      " [-9.82198935e-01  1.56454700e-01 -1.03312781e-01  1.14463687e-02\n",
      "   1.62110700e-03  1.52596881e-05]\n",
      " [ 1.59310591e-04 -4.91894718e-03  3.11864824e-03 -3.25018102e-02\n",
      "   9.99428355e-01  7.25592222e-03]\n",
      " [ 6.90939783e-02 -2.10615119e-01 -9.75101628e-01  6.26672294e-03\n",
      "   2.19857585e-03  4.79234486e-05]\n",
      " [ 1.74569737e-01  9.64577791e-01 -1.95782843e-01  2.73038995e-02\n",
      "   6.21788707e-03  7.82430481e-05]]\n",
      "Transformation Matrix = \n",
      "\n",
      " [[-6.49862374e-08 -2.41194689e-07  2.69941036e-07 -2.42525871e-07\n",
      "  -7.90492750e-07  5.96286732e-07]\n",
      " [ 7.31656633e-05 -2.94741983e-04  9.48855536e-05  1.77761538e-03\n",
      "   3.51604254e-06  2.20559915e-10]\n",
      " [-1.18697179e-02  1.70828329e-03 -7.68683456e-04  2.03673350e-05\n",
      "   1.76401304e-07  9.09938972e-12]\n",
      " [ 1.92524315e-06 -5.37085514e-05  2.32038406e-05 -5.78327741e-05\n",
      "   1.08753133e-04  4.32672436e-09]\n",
      " [ 8.34989734e-04 -2.29964514e-03 -7.25509934e-03  1.11508242e-05\n",
      "   2.39238772e-07  2.85768709e-11]\n",
      " [ 2.10964750e-03  1.05319439e-02 -1.45669326e-03  4.85837631e-05\n",
      "   6.76601477e-07  4.66565230e-11]]\n"
     ]
    }
   ],
   "source": [
    "#Eigen values and Eigenvectors Decomposition\n",
    "\n",
    "evals, evecs = la2.eigh(transposeMatrix)\n",
    "print(\"Eigenvalues of x = \\n\\n\", evals)\n",
    "print(\"Eigenvectors of x = \\n\\n\",evecs)\n",
    "\n",
    "\n",
    "transformationMatrix = evecs * la2.inv(np.sqrt(np.diagflat(evals)))\n",
    "print(\"Transformation Matrix = \\n\\n\", transformationMatrix)\n",
    "\n"
   ]
  },
  {
   "cell_type": "code",
   "execution_count": 254,
   "metadata": {},
   "outputs": [
    {
     "data": {
      "text/plain": [
       "(5960, 6)"
      ]
     },
     "execution_count": 254,
     "metadata": {},
     "output_type": "execute_result"
    }
   ],
   "source": [
    "transf_im.shape"
   ]
  },
  {
   "cell_type": "code",
   "execution_count": 259,
   "metadata": {},
   "outputs": [
    {
     "data": {
      "text/plain": [
       "(5960, 6)"
      ]
     },
     "execution_count": 259,
     "metadata": {},
     "output_type": "execute_result"
    }
   ],
   "source": [
    "intervalMatrix.shape"
   ]
  },
  {
   "cell_type": "code",
   "execution_count": 260,
   "metadata": {},
   "outputs": [
    {
     "data": {
      "text/plain": [
       "(6, 6)"
      ]
     },
     "execution_count": 260,
     "metadata": {},
     "output_type": "execute_result"
    }
   ],
   "source": [
    "transformationMatrix.shape"
   ]
  },
  {
   "cell_type": "code",
   "execution_count": 288,
   "metadata": {},
   "outputs": [
    {
     "name": "stdout",
     "output_type": "stream",
     "text": [
      "The Transformed Interval Matrix = \n",
      "\n",
      " [[ 5.96859502e-03  1.02081629e-02 -6.64664861e-03  1.39590283e-02\n",
      "   9.39352141e-03  6.56324665e-04]\n",
      " [-2.09672310e-02  5.01932025e-03  8.51930607e-04  5.16174400e-03\n",
      "   1.22658834e-02  7.75702220e-04]\n",
      " [ 7.64597676e-03  1.97528525e-02 -7.38335310e-03 -1.71350853e-03\n",
      "   1.50348109e-02  8.95075830e-04]\n",
      " ...\n",
      " [-7.18408819e-05 -1.62580211e-02  2.75078514e-02 -7.13245766e-03\n",
      "  -4.74021952e-02  5.31896971e-02]\n",
      " [-1.80147801e-04 -1.62154130e-02  2.76213381e-02 -9.17125411e-03\n",
      "  -4.76625006e-02  5.35474776e-02]\n",
      " [-2.21157680e-03 -2.73884697e-02  2.93391341e-02 -7.81347172e-03\n",
      "  -4.70861917e-02  5.36071324e-02]]\n",
      "(6, 6)\n",
      "Expect an Identity Matrix = \n",
      "\n",
      " [[ 1.00000000e+00 -3.00432422e-16 -4.61219604e-16  5.45323877e-15\n",
      "   1.20996962e-15 -1.28911638e-16]\n",
      " [-3.00432422e-16  1.00000000e+00 -6.44449771e-16 -2.76820667e-14\n",
      "  -1.23512311e-15  7.78890841e-16]\n",
      " [-4.75097392e-16 -6.41847686e-16  1.00000000e+00  3.49546780e-15\n",
      "   1.00613962e-16 -2.25514052e-16]\n",
      " [ 5.45323877e-15 -2.76820667e-14  3.51129716e-15  1.00000000e+00\n",
      "   1.14964462e-14 -3.49199836e-15]\n",
      " [ 1.20996962e-15 -1.23512311e-15  1.30104261e-16  1.14964462e-14\n",
      "   1.00000000e+00 -7.11236625e-16]\n",
      " [-1.32272665e-16  8.13585310e-16 -2.39391840e-16 -3.47812057e-15\n",
      "  -6.31439345e-16  1.00000000e+00]]\n"
     ]
    }
   ],
   "source": [
    "#Transformation intervalMatrix\n",
    "transf_im=intervalMatrix*transformationMatrix\n",
    "print(\"The Transformed Interval Matrix = \\n\\n\", transf_im)\n",
    "\n",
    "# Identity Matrix to prove the the matrix is orthonormalization\n",
    "xtx = transf_x.transpose()*transf_im\n",
    "\n",
    "print(np.shape(xtx))\n",
    "\n",
    "print(\"Expect an Identity Matrix = \\n\\n\", xtx)"
   ]
  },
  {
   "cell_type": "code",
   "execution_count": 225,
   "metadata": {},
   "outputs": [
    {
     "name": "stdout",
     "output_type": "stream",
     "text": [
      "KNeighborsClassifier(algorithm='brute', leaf_size=30, metric='euclidean',\n",
      "           metric_params=None, n_jobs=1, n_neighbors=5, p=2,\n",
      "           weights='uniform')\n"
     ]
    }
   ],
   "source": [
    "# Nearest Neighbors module \n",
    "\n",
    "from sklearn.neighbors import KNeighborsClassifier\n",
    "\n",
    "#Transform data as traindata\n",
    "\n",
    "trainData = transf_im\n",
    "\n",
    "\n",
    "target = df['FRAUD']\n",
    "\n",
    "\n",
    "KNeighbor = KNeighborsClassifier(n_neighbors=5 , algorithm = 'brute', metric = 'euclidean')\n",
    "nbrs = KNeighbor.fit(trainData, target)\n",
    "\n",
    "\n",
    "# print(KNeighbor)\n",
    "print(nbrs)\n"
   ]
  },
  {
   "cell_type": "code",
   "execution_count": 226,
   "metadata": {},
   "outputs": [],
   "source": [
    "score=nbrs.score(trainData,np.array(target))"
   ]
  },
  {
   "cell_type": "code",
   "execution_count": 227,
   "metadata": {},
   "outputs": [
    {
     "name": "stdout",
     "output_type": "stream",
     "text": [
      "0.8778523489932886\n"
     ]
    }
   ],
   "source": [
    "print(score)"
   ]
  },
  {
   "cell_type": "code",
   "execution_count": 289,
   "metadata": {},
   "outputs": [
    {
     "name": "stdout",
     "output_type": "stream",
     "text": [
      "[[7500   15    3  127    2    2]]\n",
      "[[-0.02886529  0.00853837 -0.01333491  0.0176811   0.00793805  0.0044727 ]]\n",
      "Nearest Neighbors = \n",
      "\n",
      " [[ 588 2897 1199 1246  886]]\n"
     ]
    }
   ],
   "source": [
    "# Observation of input variables\n",
    "\n",
    "import scipy as sp\n",
    "\n",
    "from scipy import linalg as la\n",
    "\n",
    "from numpy import linalg as la2\n",
    "\n",
    "from sklearn import preprocessing\n",
    "\n",
    "inputVariables = pd.DataFrame(columns=[\"TOTAL_SPEND\", \"DOCTOR_VISITS\", \"NUM_CLAIMS\", \"MEMBER_DURATION\", \"OPTOM_PRESC\", \"OPTOM_PRESC\"], \n",
    "                         data=[[7500,15,3,127,2,2]])\n",
    "\n",
    "\n",
    "inputMatrix=np.matrix(inputVariables)\n",
    "\n",
    "print(inputMatrix)\n",
    "\n",
    "transInputMatrix = inputMatrix * transformationMatrix;\n",
    "\n",
    "print(transInputMatrix)\n",
    "\n",
    "myNeighbors = nbrs.kneighbors(transInputMatrix, return_distance = False)\n",
    "print(\"Nearest Neighbors = \\n\\n\", myNeighbors)\n",
    "\n"
   ]
  },
  {
   "cell_type": "code",
   "execution_count": 285,
   "metadata": {
    "scrolled": false
   },
   "outputs": [
    {
     "data": {
      "text/plain": [
       "588     1\n",
       "2897    1\n",
       "1199    1\n",
       "1246    1\n",
       "886     1\n",
       "Name: FRAUD, dtype: int64"
      ]
     },
     "execution_count": 285,
     "metadata": {},
     "output_type": "execute_result"
    }
   ],
   "source": [
    "target[[588, 2897 ,1199, 1246 , 886]]"
   ]
  },
  {
   "cell_type": "code",
   "execution_count": 277,
   "metadata": {},
   "outputs": [
    {
     "name": "stdout",
     "output_type": "stream",
     "text": [
      "[1]\n"
     ]
    }
   ],
   "source": [
    "nbrs.predict(transInputMatrix)\n",
    "\n",
    "prediction=nbrs.predict(transInputMatrix)\n",
    "\n",
    "print(prediction)"
   ]
  },
  {
   "cell_type": "code",
   "execution_count": 282,
   "metadata": {},
   "outputs": [
    {
     "data": {
      "text/plain": [
       "array([[0., 1.]])"
      ]
     },
     "execution_count": 282,
     "metadata": {},
     "output_type": "execute_result"
    }
   ],
   "source": [
    "nbrs.predict_proba(transInputMatrix)\n",
    "\n",
    "# print(probability)"
   ]
  }
 ],
 "metadata": {
  "kernelspec": {
   "display_name": "Python 3",
   "language": "python",
   "name": "python3"
  },
  "language_info": {
   "codemirror_mode": {
    "name": "ipython",
    "version": 3
   },
   "file_extension": ".py",
   "mimetype": "text/x-python",
   "name": "python",
   "nbconvert_exporter": "python",
   "pygments_lexer": "ipython3",
   "version": "3.6.3"
  }
 },
 "nbformat": 4,
 "nbformat_minor": 2
}
