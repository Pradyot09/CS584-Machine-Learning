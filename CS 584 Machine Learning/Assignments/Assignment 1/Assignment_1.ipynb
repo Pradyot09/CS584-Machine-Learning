{
 "cells": [
  {
   "cell_type": "code",
   "execution_count": 248,
   "metadata": {},
   "outputs": [
    {
     "name": "stdout",
     "output_type": "stream",
     "text": [
      "1001\n"
     ]
    }
   ],
   "source": [
    "import pandas as pd\n",
    "import matplotlib.pyplot as plt\n",
    "import numpy as np\n",
    "import math\n",
    "\n",
    "\n",
    "data = pd.read_csv(\"E:\\\\Local Disk D\\\\IIT-C\\Sem 4\\\\CS 584 Machine Learning\\\\Homeworks\\\\Homework 1\\\\NormalSample.csv\")\n",
    "\n",
    "df = pd.DataFrame(data)\n",
    "\n",
    "noOfobservations=df['x']\n",
    "\n",
    "N=df.x.count()\n",
    "\n",
    "# print(df)\n",
    "print(N)"
   ]
  },
  {
   "cell_type": "code",
   "execution_count": 249,
   "metadata": {
    "scrolled": true
   },
   "outputs": [
    {
     "data": {
      "text/html": [
       "<div>\n",
       "<style>\n",
       "    .dataframe thead tr:only-child th {\n",
       "        text-align: right;\n",
       "    }\n",
       "\n",
       "    .dataframe thead th {\n",
       "        text-align: left;\n",
       "    }\n",
       "\n",
       "    .dataframe tbody tr th {\n",
       "        vertical-align: top;\n",
       "    }\n",
       "</style>\n",
       "<table border=\"1\" class=\"dataframe\">\n",
       "  <thead>\n",
       "    <tr style=\"text-align: right;\">\n",
       "      <th></th>\n",
       "      <th>i</th>\n",
       "      <th>group</th>\n",
       "      <th>x</th>\n",
       "    </tr>\n",
       "  </thead>\n",
       "  <tbody>\n",
       "    <tr>\n",
       "      <th>count</th>\n",
       "      <td>1001.000000</td>\n",
       "      <td>1001.000000</td>\n",
       "      <td>1001.000000</td>\n",
       "    </tr>\n",
       "    <tr>\n",
       "      <th>mean</th>\n",
       "      <td>500.000000</td>\n",
       "      <td>0.685315</td>\n",
       "      <td>31.414585</td>\n",
       "    </tr>\n",
       "    <tr>\n",
       "      <th>std</th>\n",
       "      <td>289.108111</td>\n",
       "      <td>0.464623</td>\n",
       "      <td>1.397672</td>\n",
       "    </tr>\n",
       "    <tr>\n",
       "      <th>min</th>\n",
       "      <td>0.000000</td>\n",
       "      <td>0.000000</td>\n",
       "      <td>26.300000</td>\n",
       "    </tr>\n",
       "    <tr>\n",
       "      <th>25%</th>\n",
       "      <td>250.000000</td>\n",
       "      <td>0.000000</td>\n",
       "      <td>30.400000</td>\n",
       "    </tr>\n",
       "    <tr>\n",
       "      <th>50%</th>\n",
       "      <td>500.000000</td>\n",
       "      <td>1.000000</td>\n",
       "      <td>31.500000</td>\n",
       "    </tr>\n",
       "    <tr>\n",
       "      <th>75%</th>\n",
       "      <td>750.000000</td>\n",
       "      <td>1.000000</td>\n",
       "      <td>32.400000</td>\n",
       "    </tr>\n",
       "    <tr>\n",
       "      <th>max</th>\n",
       "      <td>1000.000000</td>\n",
       "      <td>1.000000</td>\n",
       "      <td>35.400000</td>\n",
       "    </tr>\n",
       "  </tbody>\n",
       "</table>\n",
       "</div>"
      ],
      "text/plain": [
       "                 i        group            x\n",
       "count  1001.000000  1001.000000  1001.000000\n",
       "mean    500.000000     0.685315    31.414585\n",
       "std     289.108111     0.464623     1.397672\n",
       "min       0.000000     0.000000    26.300000\n",
       "25%     250.000000     0.000000    30.400000\n",
       "50%     500.000000     1.000000    31.500000\n",
       "75%     750.000000     1.000000    32.400000\n",
       "max    1000.000000     1.000000    35.400000"
      ]
     },
     "execution_count": 249,
     "metadata": {},
     "output_type": "execute_result"
    }
   ],
   "source": [
    "data.describe()"
   ]
  },
  {
   "cell_type": "code",
   "execution_count": 250,
   "metadata": {},
   "outputs": [
    {
     "data": {
      "image/png": "[encoded data removed]",
      "text/plain": [
       "<matplotlib.figure.Figure at 0x170b490e518>"
      ]
     },
     "metadata": {},
     "output_type": "display_data"
    }
   ],
   "source": [
    "# Visualization of the variable x \n",
    "plt.hist(noOfobservations)\n",
    "plt.title(\"Histogram\")\n",
    "plt.xlabel(\"Values of X\")\n",
    "plt.ylabel(\"Frequency\")\n",
    "plt.show()"
   ]
  },
  {
   "cell_type": "code",
   "execution_count": 251,
   "metadata": {},
   "outputs": [
    {
     "name": "stdout",
     "output_type": "stream",
     "text": [
      "1(a) Binwidth: 0.3998667554864774\n"
     ]
    }
   ],
   "source": [
    "#Binwidth According to Izenman (1991) method\n",
    "median =np.median(noOfobservations)\n",
    "\n",
    "LowerQuartile=np.percentile(noOfobservations,25)\n",
    "\n",
    "UpperQuartile=np.percentile(noOfobservations,75)\n",
    "\n",
    "InterQuartile=UpperQuartile-LowerQuartile\n",
    "\n",
    "IQR=InterQuartile\n",
    "\n",
    "binwidth=2*(𝐼𝑄𝑅)*N ** (-1. / 3)\n",
    "\n",
    "# print(\"Median \",median)\n",
    "\n",
    "# print(\"LowerQuartile \",LowerQuartile)\n",
    "\n",
    "# print(\"UpperQuartile \",UpperQuartile)\n",
    "\n",
    "# print(\"InterQuartile \",IQR)\n",
    "\n",
    "print(\"1(a) Binwidth:\", format(binwidth))"
   ]
  },
  {
   "cell_type": "code",
   "execution_count": 252,
   "metadata": {},
   "outputs": [
    {
     "name": "stdout",
     "output_type": "stream",
     "text": [
      "1(b)\n",
      "MaxValue  35.4\n",
      "MinValue  26.3\n"
     ]
    }
   ],
   "source": [
    "#Min and Max Value of field X\n",
    "\n",
    "MaxValue=max(noOfobservations)\n",
    "MinValue=min(noOfobservations)\n",
    "\n",
    "print(\"1(b)\")\n",
    "print(\"MaxValue \",MaxValue)\n",
    "\n",
    "print(\"MinValue \",MinValue)"
   ]
  },
  {
   "cell_type": "code",
   "execution_count": 253,
   "metadata": {},
   "outputs": [
    {
     "name": "stdout",
     "output_type": "stream",
     "text": [
      "1(c)\n",
      "NextMin  26\n",
      "NextMax  36\n"
     ]
    }
   ],
   "source": [
    "#Next Maximum and Minimum integer value for X\n",
    "\n",
    "a=math.floor(MinValue)\n",
    "b=math.ceil(MaxValue)\n",
    "\n",
    "print(\"1(c)\")\n",
    "print(\"NextMin \",a)\n",
    "\n",
    "print(\"NextMax \",b)"
   ]
  },
  {
   "cell_type": "code",
   "execution_count": 254,
   "metadata": {},
   "outputs": [
    {
     "name": "stdout",
     "output_type": "stream",
     "text": [
      "1(d)\n"
     ]
    },
    {
     "data": {
      "image/png": "[encoded data removed]",
      "text/plain": [
       "<matplotlib.figure.Figure at 0x170b5b12748>"
      ]
     },
     "metadata": {},
     "output_type": "display_data"
    }
   ],
   "source": [
    "#h = 0.1, minimum = a and maximum = b\n",
    "\n",
    "# plt.hist(noOfobservations)\n",
    "\n",
    "print(\"1(d)\")\n",
    "binwidth_h=0.1\n",
    "\n",
    "plt.hist(noOfobservations, bins=np.arange(a, b + binwidth_h, binwidth_h))\n",
    "\n",
    "# plt.hist(noOfobservations, bins=((b-a)/binwidth_h))\n",
    "plt.title(\"Histogram\")\n",
    "plt.xlabel(\"Values of X\")\n",
    "plt.ylabel(\"Frequency\")\n",
    "plt.show()\n"
   ]
  },
  {
   "cell_type": "code",
   "execution_count": 255,
   "metadata": {},
   "outputs": [
    {
     "name": "stdout",
     "output_type": "stream",
     "text": [
      "1(e)\n"
     ]
    },
    {
     "data": {
      "image/png": "[encoded data removed]",
      "text/plain": [
       "<matplotlib.figure.Figure at 0x170b1fd3128>"
      ]
     },
     "metadata": {},
     "output_type": "display_data"
    }
   ],
   "source": [
    "#h = 0.5, minimum = a and maximum = b\n",
    "\n",
    "# plt.hist(noOfobservations)\n",
    "\n",
    "print(\"1(e)\")\n",
    "binwidth_h=0.5\n",
    "\n",
    "plt.hist(noOfobservations, bins=np.arange(a, b + binwidth_h, binwidth_h))\n",
    "\n",
    "# plt.hist(noOfobservations, bins=np.arange(a, b, binwidth_h))\n",
    "plt.title(\"Histogram\")\n",
    "plt.xlabel(\"Values of X\")\n",
    "plt.ylabel(\"Frequency\")\n",
    "plt.show()"
   ]
  },
  {
   "cell_type": "code",
   "execution_count": 256,
   "metadata": {},
   "outputs": [
    {
     "name": "stdout",
     "output_type": "stream",
     "text": [
      "1(f)\n"
     ]
    },
    {
     "data": {
      "image/png": "[encoded data removed]",
      "text/plain": [
       "<matplotlib.figure.Figure at 0x170b131ca90>"
      ]
     },
     "metadata": {},
     "output_type": "display_data"
    }
   ],
   "source": [
    "#h = 1, minimum = a and maximum = b\n",
    "\n",
    "# plt.hist(noOfobservations)\n",
    "\n",
    "print(\"1(f)\")\n",
    "binwidth_h=1\n",
    "\n",
    "plt.hist(noOfobservations, bins=np.arange(a, b + binwidth_h, binwidth_h))\n",
    "plt.title(\"Histogram\")\n",
    "plt.xlabel(\"Values of X\")\n",
    "plt.ylabel(\"Frequency\")\n",
    "plt.show()"
   ]
  },
  {
   "cell_type": "code",
   "execution_count": 257,
   "metadata": {},
   "outputs": [
    {
     "name": "stdout",
     "output_type": "stream",
     "text": [
      "1(g)\n"
     ]
    },
    {
     "data": {
      "image/png": "[encoded data removed]",
      "text/plain": [
       "<matplotlib.figure.Figure at 0x170b18cd358>"
      ]
     },
     "metadata": {},
     "output_type": "display_data"
    }
   ],
   "source": [
    "#h = 2, minimum = a and maximum = b\n",
    "\n",
    "# plt.hist(noOfobservations)\n",
    "\n",
    "print(\"1(g)\")\n",
    "binwidth_h=2\n",
    "\n",
    "plt.hist(noOfobservations, bins=np.arange(a, b + binwidth_h, binwidth_h))\n",
    "plt.title(\"Histogram\")\n",
    "plt.xlabel(\"Values of X\")\n",
    "plt.ylabel(\"Frequency\")\n",
    "# plt.grid(axis=\"x\")\n",
    "# plt.grid(axis=\"y\")\n",
    "plt.show()"
   ]
  },
  {
   "cell_type": "code",
   "execution_count": 258,
   "metadata": {},
   "outputs": [
    {
     "name": "stdout",
     "output_type": "stream",
     "text": [
      "2(a)\n",
      "MinValue  26.3\n",
      "LowerQuartile  30.4\n",
      "Median  31.5\n",
      "UpperQuartile  32.4\n",
      "MaxValue  35.4\n"
     ]
    }
   ],
   "source": [
    "#Five number summary of the box plot\n",
    "\n",
    "Median=np.median(noOfobservations)\n",
    "\n",
    "LowerQuartile=np.percentile(noOfobservations,25)\n",
    "\n",
    "Q1=LowerQuartile\n",
    "\n",
    "UpperQuartile=np.percentile(noOfobservations,75)\n",
    "\n",
    "Q3=UpperQuartile\n",
    "\n",
    "MaxValue=max(noOfobservations)\n",
    "\n",
    "MinValue=min(noOfobservations)\n",
    "\n",
    "InterQuartile=UpperQuartile-LowerQuartile\n",
    "\n",
    "IQR=InterQuartile\n",
    "\n",
    "\n",
    "print(\"2(a)\")\n",
    "print(\"MinValue \",MinValue)\n",
    "\n",
    "print(\"LowerQuartile \",LowerQuartile)\n",
    "\n",
    "print(\"Median \",Median)\n",
    "\n",
    "print(\"UpperQuartile \",UpperQuartile)\n",
    "\n",
    "print(\"MaxValue \",MaxValue)"
   ]
  },
  {
   "cell_type": "code",
   "execution_count": 259,
   "metadata": {},
   "outputs": [
    {
     "name": "stdout",
     "output_type": "stream",
     "text": [
      "2(a)\n",
      "InterQuartile  2.0\n",
      "Lowerwhisker  27.4\n",
      "Upperwhisker  35.4\n"
     ]
    }
   ],
   "source": [
    "# Values of the 1.5 IQR whiskers\n",
    "\n",
    "Lowerwhisker=Q1-1.5*IQR\n",
    "\n",
    "Upperwhisker=Q3+1.5*IQR\n",
    "\n",
    "print(\"2(a)\")\n",
    "\n",
    "print(\"InterQuartile \",IQR)\n",
    "print(\"Lowerwhisker \",Lowerwhisker)\n",
    "\n",
    "print(\"Upperwhisker \",Upperwhisker)\n",
    "\n"
   ]
  },
  {
   "cell_type": "code",
   "execution_count": 260,
   "metadata": {},
   "outputs": [
    {
     "name": "stdout",
     "output_type": "stream",
     "text": [
      "2(b)\n",
      "Min Value of group One  29.1\n",
      "Lower Quartile of group One  31.4\n",
      "Median of group One  32.1\n",
      "Upper Quartile of group One  32.7\n",
      "Max Value of group One  35.4\n",
      "Lower whisker of group One  29.449999999999992\n",
      "Upper whisker of group One  34.650000000000006\n"
     ]
    }
   ],
   "source": [
    "#Five-number summary of x for category one of the group\n",
    "\n",
    "isOne=(df.group==1)\n",
    "\n",
    "# groupOne = data[isOne]['x']\n",
    "\n",
    "groupOne = df[isOne]['x']\n",
    "# print(One.head(20))\n",
    "\n",
    "MinValueOne=min(groupOne)\n",
    "\n",
    "LowerQuartileOne=np.percentile(groupOne,25)\n",
    "\n",
    "MedianOne=np.median(groupOne)\n",
    "\n",
    "UpperQuartileOne=np.percentile(groupOne,75)\n",
    "\n",
    "MaxValueOne=max(groupOne)\n",
    "\n",
    "InterQuartileOne=UpperQuartileOne-LowerQuartileOne\n",
    "\n",
    "LowerwhiskerOne = LowerQuartileOne-1.5*InterQuartileOne\n",
    "\n",
    "UpperwhiskerOne = UpperQuartileOne+1.5*InterQuartileOne\n",
    "\n",
    "print(\"2(b)\")\n",
    "print(\"Min Value of group One \",MinValueOne)\n",
    "\n",
    "print(\"Lower Quartile of group One \",LowerQuartileOne)\n",
    "\n",
    "print(\"Median of group One \",Medianone)\n",
    "\n",
    "print(\"Upper Quartile of group One \",UpperQuartileOne)\n",
    "\n",
    "print(\"Max Value of group One \",MaxValueOne)\n",
    "\n",
    "print(\"Lower whisker of group One \",LowerwhiskerOne)\n",
    "\n",
    "print(\"Upper whisker of group One \",UpperwhiskerOne)\n",
    "\n",
    "\n"
   ]
  },
  {
   "cell_type": "code",
   "execution_count": 261,
   "metadata": {},
   "outputs": [
    {
     "data": {
      "text/plain": [
       "count    686.000000\n",
       "mean      32.062245\n",
       "std        1.040236\n",
       "min       29.100000\n",
       "25%       31.400000\n",
       "50%       32.100000\n",
       "75%       32.700000\n",
       "max       35.400000\n",
       "Name: x, dtype: float64"
      ]
     },
     "execution_count": 261,
     "metadata": {},
     "output_type": "execute_result"
    }
   ],
   "source": [
    "groupOne.describe()"
   ]
  },
  {
   "cell_type": "code",
   "execution_count": 262,
   "metadata": {},
   "outputs": [
    {
     "name": "stdout",
     "output_type": "stream",
     "text": [
      "2(b)\n",
      "Min Value of group Zero  26.3\n",
      "Lower Quartile of group Zero  29.4\n",
      "Median of group Zero 30.0\n",
      "Upper Quartile of group Zero  30.6\n",
      "Max Value of group Zero  32.2\n",
      "Lower whisker of group Zero  27.599999999999994\n",
      "Upper whisker of group Zero  32.400000000000006\n"
     ]
    }
   ],
   "source": [
    "#Five-number summary of x for category Zero of the group\n",
    "\n",
    "isZero=(df.group!=1)\n",
    "\n",
    "groupZero = data[isZero]['x']\n",
    "\n",
    "MinValueZero=min(groupZero)\n",
    "\n",
    "LowerQuartileZero=np.percentile(groupZero,25)\n",
    "\n",
    "MedianZero=np.median(groupZero)\n",
    "\n",
    "UpperQuartileZero=np.percentile(groupZero,75)\n",
    "\n",
    "MaxValueZero=max(groupZero)\n",
    "\n",
    "InterQuartileZero=UpperQuartileZero-LowerQuartileZero\n",
    "\n",
    "LowerwhiskerZero = LowerQuartileZero-1.5*InterQuartileZero\n",
    "\n",
    "UpperwhiskerZero = UpperQuartileZero+1.5*InterQuartileZero\n",
    "\n",
    "\n",
    "print(\"2(b)\")\n",
    "print(\"Min Value of group Zero \",MinValueZero)\n",
    "\n",
    "print(\"Lower Quartile of group Zero \",LowerQuartileZero)\n",
    "\n",
    "print(\"Median of group Zero\",Medianzero)\n",
    "\n",
    "print(\"Upper Quartile of group Zero \",UpperQuartileZero)\n",
    "\n",
    "print(\"Max Value of group Zero \",MaxValueZero)\n",
    "\n",
    "print(\"Lower whisker of group Zero \",LowerwhiskerZero)\n",
    "\n",
    "print(\"Upper whisker of group Zero \",UpperwhiskerZero)"
   ]
  },
  {
   "cell_type": "code",
   "execution_count": 263,
   "metadata": {},
   "outputs": [
    {
     "data": {
      "text/plain": [
       "count    315.000000\n",
       "mean      30.004127\n",
       "std        0.973935\n",
       "min       26.300000\n",
       "25%       29.400000\n",
       "50%       30.000000\n",
       "75%       30.600000\n",
       "max       32.200000\n",
       "Name: x, dtype: float64"
      ]
     },
     "execution_count": 263,
     "metadata": {},
     "output_type": "execute_result"
    }
   ],
   "source": [
    "groupZero.describe()"
   ]
  },
  {
   "cell_type": "code",
   "execution_count": 264,
   "metadata": {},
   "outputs": [
    {
     "name": "stdout",
     "output_type": "stream",
     "text": [
      "2(c)\n"
     ]
    },
    {
     "data": {
      "image/png": "[encoded data removed]",
      "text/plain": [
       "<matplotlib.figure.Figure at 0x170b490e7f0>"
      ]
     },
     "metadata": {},
     "output_type": "display_data"
    }
   ],
   "source": [
    "# Visualization values of x using the boxplot \n",
    "\n",
    "print(\"2(c)\")\n",
    "plt.boxplot(noOfobservations,vert=False)\n",
    "plt.title(\"Boxplot for Values of X\")\n",
    "plt.xlabel(\"Values of X\")\n",
    "plt.grid(axis=\"x\")\n",
    "plt.show()"
   ]
  },
  {
   "cell_type": "code",
   "execution_count": 265,
   "metadata": {
    "scrolled": false
   },
   "outputs": [
    {
     "name": "stdout",
     "output_type": "stream",
     "text": [
      "2(d)\n"
     ]
    },
    {
     "name": "stderr",
     "output_type": "stream",
     "text": [
      "C:\\Program Files\\Anaconda3\\lib\\site-packages\\numpy\\core\\fromnumeric.py:52: FutureWarning: reshape is deprecated and will raise in a subsequent release. Please use .values.reshape(...) instead\n",
      "  return getattr(obj, method)(*args, **kwds)\n"
     ]
    },
    {
     "data": {
      "image/png": "[encoded data removed]",
      "text/plain": [
       "<matplotlib.figure.Figure at 0x170b491eb00>"
      ]
     },
     "metadata": {},
     "output_type": "display_data"
    }
   ],
   "source": [
    "#Five number summary of x for each category of the group\n",
    "\n",
    "isOne=(df.group==1)\n",
    "\n",
    "isZero=(df.group!=1)\n",
    "\n",
    "One = data[isOne]['x']\n",
    "Zero = data[isZero]['x']\n",
    "\n",
    "print(\"2(d)\")\n",
    "fig = plt.figure()\n",
    "ax = fig.add_subplot(111)\n",
    "# ax.boxplot(noOfobservations,vert=False)\n",
    "ax.boxplot([noOfobservations,Zero,One],labels=['All x','0', '1'],vert=False)\n",
    "# ax.boxplot([One,Zero], labels=['1', '0'],vert=False)\n",
    "\n",
    "plt.xlabel(\"Values of X\")\n",
    "plt.ylabel(\"Values of groups\")\n",
    "plt.show()\n",
    "\n"
   ]
  },
  {
   "cell_type": "code",
   "execution_count": 296,
   "metadata": {},
   "outputs": [
    {
     "name": "stdout",
     "output_type": "stream",
     "text": [
      "2(d)\n",
      "70     27.2\n",
      "295    26.3\n",
      "Name: x, dtype: float64\n",
      "Series([], Name: x, dtype: float64)\n"
     ]
    }
   ],
   "source": [
    "#Outliers for the entire data\n",
    "\n",
    "# Lowerwhisker  27.4\n",
    "# Upperwhisker  35.4\n",
    "\n",
    "print(\"2(d)\")\n",
    "outliersBelowLowerwhisker=noOfobservations[noOfobservations<Lowerwhisker]\n",
    "\n",
    "print(outliersBelowLowerwhisker)\n",
    "\n",
    "outliersAboveUpperwhisker=noOfobservations[noOfobservations>Upperwhisker]\n",
    "\n",
    "print(outliersAboveUpperwhisker)\n"
   ]
  },
  {
   "cell_type": "code",
   "execution_count": 268,
   "metadata": {},
   "outputs": [
    {
     "name": "stdout",
     "output_type": "stream",
     "text": [
      "2(d)\n",
      "Outliers of Lower Whisker for group one \n",
      " 107    29.3\n",
      "938    29.3\n",
      "975    29.1\n",
      "Name: x, dtype: float64\n",
      "Outliers of Upper Whisker for group one \n",
      " 30     35.3\n",
      "297    35.4\n",
      "812    34.9\n",
      "846    34.7\n",
      "907    34.8\n",
      "Name: x, dtype: float64\n"
     ]
    }
   ],
   "source": [
    "#Outliers for the group one\n",
    "\n",
    "#Lower whisker of group One  29.449999999999992\n",
    "#Upper whisker of group One  34.650000000000006\n",
    "\n",
    "print(\"2(d)\")\n",
    "outliersLowerwhiskerone=groupOne[groupOne<LowerwhiskerOne]\n",
    "\n",
    "print(\"Outliers of Lower Whisker for group one \\n\",outliersLowerwhiskerone)\n",
    "\n",
    "outliersUpperwhiskerone=groupOne[groupOne>UpperwhiskerOne]\n",
    "\n",
    "print(\"Outliers of Upper Whisker for group one \\n\",outliersUpperwhiskerone)\n"
   ]
  },
  {
   "cell_type": "code",
   "execution_count": 269,
   "metadata": {},
   "outputs": [
    {
     "name": "stdout",
     "output_type": "stream",
     "text": [
      "2(d)\n",
      "Outliers of Lower Whisker for group zero \n",
      " 70     27.2\n",
      "295    26.3\n",
      "Name: x, dtype: float64\n",
      "Outliers of Upper Whisker for group zero \n",
      " Series([], Name: x, dtype: float64)\n"
     ]
    }
   ],
   "source": [
    "#Outliers for the group Zero\n",
    "\n",
    "#Lower whisker of group Zero  27.599999999999994\n",
    "#Upper whisker of group Zero  32.400000000000006\n",
    "\n",
    "print(\"2(d)\")\n",
    "outliersLowerwhiskerzero=groupZero[groupZero<LowerwhiskerZero]\n",
    "\n",
    "print(\"Outliers of Lower Whisker for group zero \\n\",outliersLowerwhiskerzero)\n",
    "\n",
    "outliersUpperwhiskerzero=groupZero[groupZero>UpperwhiskerZero]\n",
    "\n",
    "print(\"Outliers of Upper Whisker for group zero \\n\",outliersUpperwhiskerzero)"
   ]
  },
  {
   "cell_type": "code",
   "execution_count": 270,
   "metadata": {},
   "outputs": [],
   "source": [
    "import pandas as pd\n",
    "import matplotlib.pyplot as plt\n",
    "import numpy as np\n",
    "import math\n",
    "\n",
    "\n",
    "fraudData = pd.read_csv(\"E:\\\\Local Disk D\\\\IIT-C\\\\Sem 4\\\\CS 584 Machine Learning\\\\Homeworks\\\\Homework 1\\\\Fraud.csv\")\n",
    "\n",
    "df = pd.DataFrame(fraudData)\n",
    "\n",
    "\n",
    "# print(df.head(10))\n"
   ]
  },
  {
   "cell_type": "code",
   "execution_count": 271,
   "metadata": {},
   "outputs": [
    {
     "data": {
      "text/html": [
       "<div>\n",
       "<style>\n",
       "    .dataframe thead tr:only-child th {\n",
       "        text-align: right;\n",
       "    }\n",
       "\n",
       "    .dataframe thead th {\n",
       "        text-align: left;\n",
       "    }\n",
       "\n",
       "    .dataframe tbody tr th {\n",
       "        vertical-align: top;\n",
       "    }\n",
       "</style>\n",
       "<table border=\"1\" class=\"dataframe\">\n",
       "  <thead>\n",
       "    <tr style=\"text-align: right;\">\n",
       "      <th></th>\n",
       "      <th>CASE_ID</th>\n",
       "      <th>FRAUD</th>\n",
       "      <th>TOTAL_SPEND</th>\n",
       "      <th>DOCTOR_VISITS</th>\n",
       "      <th>NUM_CLAIMS</th>\n",
       "      <th>MEMBER_DURATION</th>\n",
       "      <th>OPTOM_PRESC</th>\n",
       "      <th>NUM_MEMBERS</th>\n",
       "    </tr>\n",
       "  </thead>\n",
       "  <tbody>\n",
       "    <tr>\n",
       "      <th>0</th>\n",
       "      <td>1</td>\n",
       "      <td>1</td>\n",
       "      <td>1100</td>\n",
       "      <td>11</td>\n",
       "      <td>0</td>\n",
       "      <td>94</td>\n",
       "      <td>1</td>\n",
       "      <td>2</td>\n",
       "    </tr>\n",
       "    <tr>\n",
       "      <th>1</th>\n",
       "      <td>2</td>\n",
       "      <td>1</td>\n",
       "      <td>1300</td>\n",
       "      <td>7</td>\n",
       "      <td>2</td>\n",
       "      <td>122</td>\n",
       "      <td>0</td>\n",
       "      <td>1</td>\n",
       "    </tr>\n",
       "    <tr>\n",
       "      <th>2</th>\n",
       "      <td>3</td>\n",
       "      <td>1</td>\n",
       "      <td>1500</td>\n",
       "      <td>4</td>\n",
       "      <td>0</td>\n",
       "      <td>149</td>\n",
       "      <td>1</td>\n",
       "      <td>3</td>\n",
       "    </tr>\n",
       "    <tr>\n",
       "      <th>3</th>\n",
       "      <td>4</td>\n",
       "      <td>1</td>\n",
       "      <td>1500</td>\n",
       "      <td>9</td>\n",
       "      <td>0</td>\n",
       "      <td>180</td>\n",
       "      <td>1</td>\n",
       "      <td>1</td>\n",
       "    </tr>\n",
       "    <tr>\n",
       "      <th>4</th>\n",
       "      <td>5</td>\n",
       "      <td>0</td>\n",
       "      <td>1700</td>\n",
       "      <td>3</td>\n",
       "      <td>0</td>\n",
       "      <td>93</td>\n",
       "      <td>0</td>\n",
       "      <td>1</td>\n",
       "    </tr>\n",
       "  </tbody>\n",
       "</table>\n",
       "</div>"
      ],
      "text/plain": [
       "   CASE_ID  FRAUD  TOTAL_SPEND  DOCTOR_VISITS  NUM_CLAIMS  MEMBER_DURATION  \\\n",
       "0        1      1         1100             11           0               94   \n",
       "1        2      1         1300              7           2              122   \n",
       "2        3      1         1500              4           0              149   \n",
       "3        4      1         1500              9           0              180   \n",
       "4        5      0         1700              3           0               93   \n",
       "\n",
       "   OPTOM_PRESC  NUM_MEMBERS  \n",
       "0            1            2  \n",
       "1            0            1  \n",
       "2            1            3  \n",
       "3            1            1  \n",
       "4            0            1  "
      ]
     },
     "execution_count": 271,
     "metadata": {},
     "output_type": "execute_result"
    }
   ],
   "source": [
    "df.head()"
   ]
  },
  {
   "cell_type": "code",
   "execution_count": 272,
   "metadata": {},
   "outputs": [
    {
     "name": "stdout",
     "output_type": "stream",
     "text": [
      "3(a)\n",
      "Percentage of fradulant data  19.9497\n"
     ]
    }
   ],
   "source": [
    "#Percent of the fradulant data \n",
    "\n",
    "totalData=df.FRAUD.count()\n",
    "\n",
    "FraudData=(df.FRAUD == 1).sum()\n",
    "\n",
    "# fraudData=df[df['FRAUD'] == 1].count()\n",
    "\n",
    "percentFraud=(FraudData/totalData)*100\n",
    "\n",
    "print(\"3(a)\")\n",
    "\n",
    "print(\"Percentage of fradulant data \",round(percentFraud,4))"
   ]
  },
  {
   "cell_type": "code",
   "execution_count": 273,
   "metadata": {},
   "outputs": [
    {
     "name": "stdout",
     "output_type": "stream",
     "text": [
      "3(b)\n"
     ]
    },
    {
     "name": "stderr",
     "output_type": "stream",
     "text": [
      "C:\\Program Files\\Anaconda3\\lib\\site-packages\\numpy\\core\\fromnumeric.py:52: FutureWarning: reshape is deprecated and will raise in a subsequent release. Please use .values.reshape(...) instead\n",
      "  return getattr(obj, method)(*args, **kwds)\n"
     ]
    },
    {
     "data": {
      "image/png": "[encoded data removed]",
      "text/plain": [
       "<matplotlib.figure.Figure at 0x170b4a34eb8>"
      ]
     },
     "metadata": {},
     "output_type": "display_data"
    }
   ],
   "source": [
    "# Visualization of total spend using boxplot  \n",
    "\n",
    "print(\"3(b)\")\n",
    "\n",
    "isFradulantData=(df.FRAUD==1)\n",
    "\n",
    "isOtherwiseData=(df.FRAUD!=1)\n",
    "\n",
    "FradulantData = fraudData[isFradulantData]\n",
    "\n",
    "OtherwiseData=fraudData[isOtherwiseData]\n",
    "\n",
    "FradulantData = fraudData[isFradulantData]['TOTAL_SPEND']\n",
    "OtherwiseData = fraudData[isOtherwiseData]['TOTAL_SPEND']\n",
    "fig = plt.figure()\n",
    "ax = fig.add_subplot(111)\n",
    "ax.boxplot([OtherwiseData,FradulantData], labels=['0', '1'],vert=False)\n",
    "\n",
    "plt.ylabel(\"Values of Fraud\")\n",
    "plt.xlabel(\"Total Amount of Claims\")\n",
    "plt.show()\n",
    "\n"
   ]
  },
  {
   "cell_type": "code",
   "execution_count": 274,
   "metadata": {},
   "outputs": [
    {
     "name": "stdout",
     "output_type": "stream",
     "text": [
      "3(b)\n"
     ]
    },
    {
     "name": "stderr",
     "output_type": "stream",
     "text": [
      "C:\\Program Files\\Anaconda3\\lib\\site-packages\\numpy\\core\\fromnumeric.py:52: FutureWarning: reshape is deprecated and will raise in a subsequent release. Please use .values.reshape(...) instead\n",
      "  return getattr(obj, method)(*args, **kwds)\n"
     ]
    },
    {
     "data": {
      "image/png": "[encoded data removed]",
      "text/plain": [
       "<matplotlib.figure.Figure at 0x170b1677eb8>"
      ]
     },
     "metadata": {},
     "output_type": "display_data"
    }
   ],
   "source": [
    "# Visualization of doctor visits using boxplot  \n",
    "\n",
    "print(\"3(b)\")\n",
    "isFradulantData=(df.FRAUD==1)\n",
    "\n",
    "isOtherwiseData=(df.FRAUD!=1)\n",
    "\n",
    "FradulantData = fraudData[isFradulantData]\n",
    "OtherwiseData=fraudData[isOtherwiseData]\n",
    "FradulantData = fraudData[isFradulantData]['DOCTOR_VISITS']\n",
    "OtherwiseData = fraudData[isOtherwiseData]['DOCTOR_VISITS']\n",
    "fig = plt.figure()\n",
    "ax = fig.add_subplot(111)\n",
    "ax.boxplot([OtherwiseData,FradulantData], labels=['0', '1'],vert=False)\n",
    "plt.ylabel(\"Values of Fraud\")\n",
    "plt.xlabel(\"Doctor Visits\")\n",
    "plt.show()\n"
   ]
  },
  {
   "cell_type": "code",
   "execution_count": 275,
   "metadata": {},
   "outputs": [
    {
     "name": "stdout",
     "output_type": "stream",
     "text": [
      "3(b)\n"
     ]
    },
    {
     "name": "stderr",
     "output_type": "stream",
     "text": [
      "C:\\Program Files\\Anaconda3\\lib\\site-packages\\numpy\\core\\fromnumeric.py:52: FutureWarning: reshape is deprecated and will raise in a subsequent release. Please use .values.reshape(...) instead\n",
      "  return getattr(obj, method)(*args, **kwds)\n"
     ]
    },
    {
     "data": {
      "image/png": "[encoded data removed]",
      "text/plain": [
       "<matplotlib.figure.Figure at 0x170b1677358>"
      ]
     },
     "metadata": {},
     "output_type": "display_data"
    }
   ],
   "source": [
    "# Visualization of number of claims using boxplot  \n",
    "\n",
    "print(\"3(b)\")\n",
    "isFradulantData=(df.FRAUD==1)\n",
    "\n",
    "isOtherwiseData=(df.FRAUD!=1)\n",
    "\n",
    "FradulantData = fraudData[isFradulantData]\n",
    "\n",
    "OtherwiseData=fraudData[isOtherwiseData]\n",
    "\n",
    "FradulantData = fraudData[isFradulantData]['NUM_CLAIMS']\n",
    "OtherwiseData = fraudData[isOtherwiseData]['NUM_CLAIMS']\n",
    "fig = plt.figure()\n",
    "ax = fig.add_subplot(111)\n",
    "ax.boxplot([OtherwiseData,FradulantData], labels=['0', '1'],vert=False)\n",
    "\n",
    "plt.ylabel(\"Values of Fraud\")\n",
    "plt.xlabel(\"Number of Claims Made\")\n",
    "plt.show()"
   ]
  },
  {
   "cell_type": "code",
   "execution_count": 276,
   "metadata": {},
   "outputs": [
    {
     "name": "stdout",
     "output_type": "stream",
     "text": [
      "3(b)\n"
     ]
    },
    {
     "name": "stderr",
     "output_type": "stream",
     "text": [
      "C:\\Program Files\\Anaconda3\\lib\\site-packages\\numpy\\core\\fromnumeric.py:52: FutureWarning: reshape is deprecated and will raise in a subsequent release. Please use .values.reshape(...) instead\n",
      "  return getattr(obj, method)(*args, **kwds)\n"
     ]
    },
    {
     "data": {
      "image/png": "[encoded data removed]",
      "text/plain": [
       "<matplotlib.figure.Figure at 0x170b20e55c0>"
      ]
     },
     "metadata": {},
     "output_type": "display_data"
    }
   ],
   "source": [
    "# Visualization of membership duration using boxplot  \n",
    "\n",
    "print(\"3(b)\")\n",
    "isFradulantData=(df.FRAUD==1)\n",
    "\n",
    "isOtherwiseData=(df.FRAUD!=1)\n",
    "\n",
    "FradulantData = fraudData[isFradulantData]\n",
    "OtherwiseData=fraudData[isOtherwiseData]\n",
    "\n",
    "FradulantData = fraudData[isFradulantData]['MEMBER_DURATION']\n",
    "OtherwiseData = fraudData[isOtherwiseData]['MEMBER_DURATION']\n",
    "fig = plt.figure()\n",
    "ax = fig.add_subplot(111)\n",
    "ax.boxplot([OtherwiseData,FradulantData], labels=['0', '1'],vert=False)\n",
    "plt.ylabel(\"Values of Fraud\")\n",
    "plt.xlabel(\"Membership Duration\")\n",
    "plt.show()"
   ]
  },
  {
   "cell_type": "code",
   "execution_count": 277,
   "metadata": {},
   "outputs": [
    {
     "name": "stdout",
     "output_type": "stream",
     "text": [
      "3(b)\n"
     ]
    },
    {
     "name": "stderr",
     "output_type": "stream",
     "text": [
      "C:\\Program Files\\Anaconda3\\lib\\site-packages\\numpy\\core\\fromnumeric.py:52: FutureWarning: reshape is deprecated and will raise in a subsequent release. Please use .values.reshape(...) instead\n",
      "  return getattr(obj, method)(*args, **kwds)\n"
     ]
    },
    {
     "data": {
      "image/png": "[encoded data removed]",
      "text/plain": [
       "<matplotlib.figure.Figure at 0x170b4763390>"
      ]
     },
     "metadata": {},
     "output_type": "display_data"
    }
   ],
   "source": [
    "# Visualization of optical examination using boxplot  \n",
    "\n",
    "print(\"3(b)\")\n",
    "\n",
    "isFradulantData=(df.FRAUD==1)\n",
    "\n",
    "isOtherwiseData=(df.FRAUD!=1)\n",
    "\n",
    "FradulantData = fraudData[isFradulantData]\n",
    "OtherwiseData=fraudData[isOtherwiseData]\n",
    "\n",
    "FradulantData = fraudData[isFradulantData]['OPTOM_PRESC']\n",
    "OtherwiseData = fraudData[isOtherwiseData]['OPTOM_PRESC']\n",
    "fig = plt.figure()\n",
    "ax = fig.add_subplot(111)\n",
    "ax.boxplot([OtherwiseData,FradulantData], labels=['0', '1'],vert=False)\n",
    "plt.ylabel(\"Values of Fraud\")\n",
    "plt.xlabel(\"Number of Optical Examination\")\n",
    "plt.show()"
   ]
  },
  {
   "cell_type": "code",
   "execution_count": 278,
   "metadata": {
    "scrolled": false
   },
   "outputs": [
    {
     "name": "stdout",
     "output_type": "stream",
     "text": [
      "3(b)\n"
     ]
    },
    {
     "name": "stderr",
     "output_type": "stream",
     "text": [
      "C:\\Program Files\\Anaconda3\\lib\\site-packages\\numpy\\core\\fromnumeric.py:52: FutureWarning: reshape is deprecated and will raise in a subsequent release. Please use .values.reshape(...) instead\n",
      "  return getattr(obj, method)(*args, **kwds)\n"
     ]
    },
    {
     "data": {
      "image/png": "[encoded data removed]",
      "text/plain": [
       "<matplotlib.figure.Figure at 0x170b496cbe0>"
      ]
     },
     "metadata": {},
     "output_type": "display_data"
    }
   ],
   "source": [
    "# Visualization of number of members using boxplot  \n",
    "\n",
    "print(\"3(b)\")\n",
    "\n",
    "isFradulantData=(df.FRAUD==1)\n",
    "\n",
    "isOtherwiseData=(df.FRAUD!=1)\n",
    "\n",
    "FradulantData = fraudData[isFradulantData]\n",
    "OtherwiseData=fraudData[isOtherwiseData]\n",
    "\n",
    "FradulantData = fraudData[isFradulantData]['NUM_MEMBERS']\n",
    "OtherwiseData = fraudData[isOtherwiseData]['NUM_MEMBERS']\n",
    "\n",
    "fig = plt.figure()\n",
    "ax = fig.add_subplot(111)\n",
    "ax.boxplot([OtherwiseData,FradulantData], labels=['0', '1'],vert=False)\n",
    "plt.ylabel(\"Values of Fraud\")\n",
    "plt.xlabel(\"Number of Members Covered \")\n",
    "plt.show()"
   ]
  },
  {
   "cell_type": "code",
   "execution_count": 279,
   "metadata": {},
   "outputs": [
    {
     "data": {
      "text/html": [
       "<div>\n",
       "<style>\n",
       "    .dataframe thead tr:only-child th {\n",
       "        text-align: right;\n",
       "    }\n",
       "\n",
       "    .dataframe thead th {\n",
       "        text-align: left;\n",
       "    }\n",
       "\n",
       "    .dataframe tbody tr th {\n",
       "        vertical-align: top;\n",
       "    }\n",
       "</style>\n",
       "<table border=\"1\" class=\"dataframe\">\n",
       "  <thead>\n",
       "    <tr style=\"text-align: right;\">\n",
       "      <th></th>\n",
       "      <th>CASE_ID</th>\n",
       "      <th>FRAUD</th>\n",
       "      <th>TOTAL_SPEND</th>\n",
       "      <th>DOCTOR_VISITS</th>\n",
       "      <th>NUM_CLAIMS</th>\n",
       "      <th>MEMBER_DURATION</th>\n",
       "      <th>OPTOM_PRESC</th>\n",
       "      <th>NUM_MEMBERS</th>\n",
       "    </tr>\n",
       "  </thead>\n",
       "  <tbody>\n",
       "    <tr>\n",
       "      <th>0</th>\n",
       "      <td>1</td>\n",
       "      <td>1</td>\n",
       "      <td>1100</td>\n",
       "      <td>11</td>\n",
       "      <td>0</td>\n",
       "      <td>94</td>\n",
       "      <td>1</td>\n",
       "      <td>2</td>\n",
       "    </tr>\n",
       "    <tr>\n",
       "      <th>1</th>\n",
       "      <td>2</td>\n",
       "      <td>1</td>\n",
       "      <td>1300</td>\n",
       "      <td>7</td>\n",
       "      <td>2</td>\n",
       "      <td>122</td>\n",
       "      <td>0</td>\n",
       "      <td>1</td>\n",
       "    </tr>\n",
       "    <tr>\n",
       "      <th>2</th>\n",
       "      <td>3</td>\n",
       "      <td>1</td>\n",
       "      <td>1500</td>\n",
       "      <td>4</td>\n",
       "      <td>0</td>\n",
       "      <td>149</td>\n",
       "      <td>1</td>\n",
       "      <td>3</td>\n",
       "    </tr>\n",
       "    <tr>\n",
       "      <th>3</th>\n",
       "      <td>4</td>\n",
       "      <td>1</td>\n",
       "      <td>1500</td>\n",
       "      <td>9</td>\n",
       "      <td>0</td>\n",
       "      <td>180</td>\n",
       "      <td>1</td>\n",
       "      <td>1</td>\n",
       "    </tr>\n",
       "    <tr>\n",
       "      <th>4</th>\n",
       "      <td>5</td>\n",
       "      <td>0</td>\n",
       "      <td>1700</td>\n",
       "      <td>3</td>\n",
       "      <td>0</td>\n",
       "      <td>93</td>\n",
       "      <td>0</td>\n",
       "      <td>1</td>\n",
       "    </tr>\n",
       "  </tbody>\n",
       "</table>\n",
       "</div>"
      ],
      "text/plain": [
       "   CASE_ID  FRAUD  TOTAL_SPEND  DOCTOR_VISITS  NUM_CLAIMS  MEMBER_DURATION  \\\n",
       "0        1      1         1100             11           0               94   \n",
       "1        2      1         1300              7           2              122   \n",
       "2        3      1         1500              4           0              149   \n",
       "3        4      1         1500              9           0              180   \n",
       "4        5      0         1700              3           0               93   \n",
       "\n",
       "   OPTOM_PRESC  NUM_MEMBERS  \n",
       "0            1            2  \n",
       "1            0            1  \n",
       "2            1            3  \n",
       "3            1            1  \n",
       "4            0            1  "
      ]
     },
     "execution_count": 279,
     "metadata": {},
     "output_type": "execute_result"
    }
   ],
   "source": [
    "#Orthonormalize interval variables \n",
    "df.head()"
   ]
  },
  {
   "cell_type": "code",
   "execution_count": 280,
   "metadata": {},
   "outputs": [
    {
     "name": "stdout",
     "output_type": "stream",
     "text": [
      "The orthonormalize matrix = \n",
      " [[-6.56324665e-04  9.39352141e-03  1.39590283e-02 -6.64664861e-03\n",
      "   1.02081629e-02 -5.96859502e-03]\n",
      " [-7.75702220e-04  1.22658834e-02  5.16174400e-03  8.51930607e-04\n",
      "   5.01932025e-03  2.09672310e-02]\n",
      " [-8.95075830e-04  1.50348109e-02 -1.71350853e-03 -7.38335310e-03\n",
      "   1.97528525e-02 -7.64597676e-03]\n",
      " ...\n",
      " [-5.31896971e-02 -4.74021952e-02 -7.13245766e-03  2.75078514e-02\n",
      "  -1.62580211e-02  7.18408819e-05]\n",
      " [-5.35474776e-02 -4.76625006e-02 -9.17125411e-03  2.76213381e-02\n",
      "  -1.62154130e-02  1.80147801e-04]\n",
      " [-5.36071324e-02 -4.70861917e-02 -7.81347172e-03  2.93391341e-02\n",
      "  -2.73884697e-02  2.21157680e-03]]\n",
      "Identity Matrix = \n",
      " [[ 1.00000000e+00 -1.11022302e-16  9.67108338e-17 -7.63278329e-17\n",
      "   1.99493200e-17 -7.91467586e-18]\n",
      " [-1.11022302e-16  1.00000000e+00  1.83447008e-16  2.25514052e-17\n",
      "  -1.38777878e-17 -3.03576608e-18]\n",
      " [ 9.67108338e-17  1.83447008e-16  1.00000000e+00 -6.67868538e-17\n",
      "  -7.91467586e-18  2.55465137e-17]\n",
      " [-7.63278329e-17  2.25514052e-17 -6.67868538e-17  1.00000000e+00\n",
      "  -9.10729825e-17  1.63660318e-16]\n",
      " [ 1.99493200e-17 -1.38777878e-17 -7.91467586e-18 -9.10729825e-17\n",
      "   1.00000000e+00  3.25748543e-16]\n",
      " [-7.91467586e-18 -3.03576608e-18  2.55465137e-17  1.63660318e-16\n",
      "   3.25748543e-16  1.00000000e+00]]\n",
      "2\n"
     ]
    }
   ],
   "source": [
    "import scipy as sp\n",
    "\n",
    "from scipy import linalg as la\n",
    "from numpy import linalg as la2\n",
    "\n",
    "\n",
    "intervalMatrix=np.array(fraudData.iloc[:,2:8].values)\n",
    "\n",
    "\n",
    "orthonormalize=la.orth(intervalMatrix)\n",
    "\n",
    "print(\"The orthonormalize matrix = \\n\", orthonormalize)\n",
    "\n",
    "Varifiy = orthonormalize.transpose().dot(orthonormalize)\n",
    "print(\"Identity Matrix = \\n\", Varifiy)\n",
    "print (intervalMatrix.ndim)"
   ]
  },
  {
   "cell_type": "code",
   "execution_count": 281,
   "metadata": {
    "scrolled": false
   },
   "outputs": [
    {
     "name": "stdout",
     "output_type": "stream",
     "text": [
      "[[ 1100    11     0    94     1     2]\n",
      " [ 1300     7     2   122     0     1]\n",
      " [ 1500     4     0   149     1     3]\n",
      " ...\n",
      " [89200    15     0   212     0     2]\n",
      " [89800    14     0   214     0     2]\n",
      " [89900    15     0   220     0     1]]\n",
      "Multiplication of Transpose Matrix and original Matrix \n",
      "\n",
      " [[2812184770000    1040176400      42913200   20404919400     134771800\n",
      "      220035900]\n",
      " [   1040176400        788159         23809      10264845         57654\n",
      "         106717]\n",
      " [     42913200         23809          7922        448090          3459\n",
      "           4765]\n",
      " [  20404919400      10264845        448090     232422585       1163391\n",
      "        2121127]\n",
      " [    134771800         57654          3459       1163391         24460\n",
      "          13581]\n",
      " [    220035900        106717          4765       2121127         13581\n",
      "          29423]]\n"
     ]
    }
   ],
   "source": [
    "#Orthonormalizing interval variables\n",
    "\n",
    "import scipy as sp\n",
    "\n",
    "from scipy import linalg as la\n",
    "\n",
    "from numpy import linalg as la2\n",
    "\n",
    "intervalMatrix=np.matrix(fraudData.iloc[:,2:8].values)\n",
    "\n",
    "print (intervalMatrix)\n",
    "\n",
    "#Creating Transpose Matrix\n",
    "transposeMatrix=intervalMatrix.transpose()*intervalMatrix\n",
    "\n",
    "print(\"Multiplication of Transpose Matrix and original Matrix \\n\\n\",transposeMatrix)"
   ]
  },
  {
   "cell_type": "code",
   "execution_count": 282,
   "metadata": {
    "scrolled": false
   },
   "outputs": [
    {
     "name": "stdout",
     "output_type": "stream",
     "text": [
      "3(c)(i)\n",
      "Eigenvalues of transposeMatrix = \n",
      "\n",
      " [6.84728061e+03 8.38798104e+03 1.80639631e+04 3.15839942e+05\n",
      " 8.44539131e+07 2.81233324e+12]\n",
      "Eigenvectors of transposeMatrix = \n",
      "\n",
      " [[-5.37750046e-06 -2.20900379e-05  3.62806809e-05 -1.36298664e-04\n",
      "  -7.26453432e-03  9.99973603e-01]\n",
      " [ 6.05433402e-03 -2.69942162e-02  1.27528313e-02  9.99013423e-01\n",
      "   3.23120126e-02  3.69879256e-04]\n",
      " [-9.82198935e-01  1.56454700e-01 -1.03312781e-01  1.14463687e-02\n",
      "   1.62110700e-03  1.52596881e-05]\n",
      " [ 1.59310591e-04 -4.91894718e-03  3.11864824e-03 -3.25018102e-02\n",
      "   9.99428355e-01  7.25592222e-03]\n",
      " [ 6.90939783e-02 -2.10615119e-01 -9.75101628e-01  6.26672294e-03\n",
      "   2.19857585e-03  4.79234486e-05]\n",
      " [ 1.74569737e-01  9.64577791e-01 -1.95782843e-01  2.73038995e-02\n",
      "   6.21788707e-03  7.82430481e-05]]\n"
     ]
    }
   ],
   "source": [
    "#Eigen values and Eigenvectors\n",
    "evals, evecs = la2.eigh(transposeMatrix)\n",
    "print(\"3(c)(i)\")\n",
    "print(\"Eigenvalues of transposeMatrix = \\n\\n\", evals)\n",
    "print(\"Eigenvectors of transposeMatrix = \\n\\n\",evecs)"
   ]
  },
  {
   "cell_type": "code",
   "execution_count": 283,
   "metadata": {},
   "outputs": [
    {
     "name": "stdout",
     "output_type": "stream",
     "text": [
      "3(c)(ii)\n",
      "Transformation Matrix = \n",
      "\n",
      " [[-6.49862374e-08 -2.41194689e-07  2.69941036e-07 -2.42525871e-07\n",
      "  -7.90492750e-07  5.96286732e-07]\n",
      " [ 7.31656633e-05 -2.94741983e-04  9.48855536e-05  1.77761538e-03\n",
      "   3.51604254e-06  2.20559915e-10]\n",
      " [-1.18697179e-02  1.70828329e-03 -7.68683456e-04  2.03673350e-05\n",
      "   1.76401304e-07  9.09938972e-12]\n",
      " [ 1.92524315e-06 -5.37085514e-05  2.32038406e-05 -5.78327741e-05\n",
      "   1.08753133e-04  4.32672436e-09]\n",
      " [ 8.34989734e-04 -2.29964514e-03 -7.25509934e-03  1.11508242e-05\n",
      "   2.39238772e-07  2.85768709e-11]\n",
      " [ 2.10964750e-03  1.05319439e-02 -1.45669326e-03  4.85837631e-05\n",
      "   6.76601477e-07  4.66565230e-11]]\n"
     ]
    }
   ],
   "source": [
    "#Transformation matrix\n",
    "\n",
    "print(\"3(c)(ii)\")\n",
    "transformationMatrix = evecs * la2.inv(np.sqrt(np.diagflat(evals)))\n",
    "print(\"Transformation Matrix = \\n\\n\", transformationMatrix)"
   ]
  },
  {
   "cell_type": "code",
   "execution_count": 284,
   "metadata": {},
   "outputs": [
    {
     "data": {
      "text/plain": [
       "(5960, 6)"
      ]
     },
     "execution_count": 284,
     "metadata": {},
     "output_type": "execute_result"
    }
   ],
   "source": [
    "transf_im.shape"
   ]
  },
  {
   "cell_type": "code",
   "execution_count": 285,
   "metadata": {},
   "outputs": [
    {
     "data": {
      "text/plain": [
       "(5960, 6)"
      ]
     },
     "execution_count": 285,
     "metadata": {},
     "output_type": "execute_result"
    }
   ],
   "source": [
    "intervalMatrix.shape"
   ]
  },
  {
   "cell_type": "code",
   "execution_count": 286,
   "metadata": {},
   "outputs": [
    {
     "data": {
      "text/plain": [
       "(6, 6)"
      ]
     },
     "execution_count": 286,
     "metadata": {},
     "output_type": "execute_result"
    }
   ],
   "source": [
    "transformationMatrix.shape"
   ]
  },
  {
   "cell_type": "code",
   "execution_count": 287,
   "metadata": {},
   "outputs": [
    {
     "name": "stdout",
     "output_type": "stream",
     "text": [
      "The Transformed Interval Matrix = \n",
      "\n",
      " [[ 5.96859502e-03  1.02081629e-02 -6.64664861e-03  1.39590283e-02\n",
      "   9.39352141e-03  6.56324665e-04]\n",
      " [-2.09672310e-02  5.01932025e-03  8.51930607e-04  5.16174400e-03\n",
      "   1.22658834e-02  7.75702220e-04]\n",
      " [ 7.64597676e-03  1.97528525e-02 -7.38335310e-03 -1.71350853e-03\n",
      "   1.50348109e-02  8.95075830e-04]\n",
      " ...\n",
      " [-7.18408819e-05 -1.62580211e-02  2.75078514e-02 -7.13245766e-03\n",
      "  -4.74021952e-02  5.31896971e-02]\n",
      " [-1.80147801e-04 -1.62154130e-02  2.76213381e-02 -9.17125411e-03\n",
      "  -4.76625006e-02  5.35474776e-02]\n",
      " [-2.21157680e-03 -2.73884697e-02  2.93391341e-02 -7.81347172e-03\n",
      "  -4.70861917e-02  5.36071324e-02]]\n"
     ]
    }
   ],
   "source": [
    "#Transformation of  intervalMatrix\n",
    "\n",
    "transf_im=intervalMatrix*transformationMatrix\n",
    "print(\"The Transformed Interval Matrix = \\n\\n\", transf_im)\n"
   ]
  },
  {
   "cell_type": "code",
   "execution_count": 288,
   "metadata": {},
   "outputs": [
    {
     "name": "stdout",
     "output_type": "stream",
     "text": [
      "3(c)(ii)\n",
      "Expect an Identity Matrix = \n",
      "\n",
      " [[ 1.00000000e+00 -3.00432422e-16 -4.61219604e-16  5.45323877e-15\n",
      "   1.20996962e-15 -1.28911638e-16]\n",
      " [-3.00432422e-16  1.00000000e+00 -6.44449771e-16 -2.76820667e-14\n",
      "  -1.23512311e-15  7.78890841e-16]\n",
      " [-4.61219604e-16 -6.44449771e-16  1.00000000e+00  3.50891191e-15\n",
      "   1.00613962e-16 -2.25514052e-16]\n",
      " [ 5.45323877e-15 -2.76820667e-14  3.50891191e-15  1.00000000e+00\n",
      "   1.14860378e-14 -3.47812057e-15]\n",
      " [ 1.20996962e-15 -1.23512311e-15  1.00613962e-16  1.14860378e-14\n",
      "   1.00000000e+00 -6.31439345e-16]\n",
      " [-1.28911638e-16  7.78890841e-16 -2.25514052e-16 -3.47812057e-15\n",
      "  -6.31439345e-16  1.00000000e+00]]\n"
     ]
    }
   ],
   "source": [
    "# Identity Matrix to prove the the matrix is orthonormalization\n",
    "\n",
    "print(\"3(c)(ii)\")\n",
    "xtx = transf_im.transpose()*transf_im\n",
    "\n",
    "# print(np.shape(xtx))\n",
    "\n",
    "print(\"Expect an Identity Matrix = \\n\\n\", xtx)"
   ]
  },
  {
   "cell_type": "code",
   "execution_count": 289,
   "metadata": {},
   "outputs": [
    {
     "name": "stdout",
     "output_type": "stream",
     "text": [
      "KNeighborsClassifier(algorithm='brute', leaf_size=30, metric='euclidean',\n",
      "           metric_params=None, n_jobs=1, n_neighbors=5, p=2,\n",
      "           weights='uniform')\n"
     ]
    }
   ],
   "source": [
    "# Nearest Neighbors module \n",
    "\n",
    "from sklearn.neighbors import KNeighborsClassifier \n",
    "\n",
    "#Transform data as traindata\n",
    "\n",
    "trainData = transf_im\n",
    "\n",
    "\n",
    "targetData = df['FRAUD']\n",
    "\n",
    "\n",
    "KNeighbor = KNeighborsClassifier(n_neighbors=5 , algorithm = 'brute', metric = 'euclidean')\n",
    "nbrs = KNeighbor.fit(trainData, targetData)\n",
    "\n",
    "print(nbrs)"
   ]
  },
  {
   "cell_type": "code",
   "execution_count": 290,
   "metadata": {},
   "outputs": [
    {
     "name": "stdout",
     "output_type": "stream",
     "text": [
      "3(d)(i)\n",
      "0.8778523489932886\n"
     ]
    }
   ],
   "source": [
    "score=nbrs.score(trainData,targetData)\n",
    "\n",
    "print(\"3(d)(i)\")\n",
    "print(score)"
   ]
  },
  {
   "cell_type": "code",
   "execution_count": 291,
   "metadata": {},
   "outputs": [
    {
     "name": "stdout",
     "output_type": "stream",
     "text": [
      "3(e)\n",
      "[[7500   15    3  127    2    2]]\n",
      "[[-0.02886529  0.00853837 -0.01333491  0.0176811   0.00793805  0.0044727 ]]\n",
      "Nearest Neighbors = \n",
      "\n",
      " [[ 588 2897 1199 1246  886]]\n"
     ]
    }
   ],
   "source": [
    "# Observation of input variables\n",
    "\n",
    "inputVariables = pd.DataFrame(columns=[\"TOTAL_SPEND\", \"DOCTOR_VISITS\", \"NUM_CLAIMS\", \"MEMBER_DURATION\", \"OPTOM_PRESC\", \"OPTOM_PRESC\"], \n",
    "                         data=[[7500,15,3,127,2,2]])\n",
    "\n",
    "\n",
    "\n",
    "print(\"3(e)\")\n",
    "inputMatrix=np.matrix(inputVariables)\n",
    "\n",
    "print(inputMatrix)\n",
    "\n",
    "transInputMatrix = inputMatrix * transformationMatrix;\n",
    "\n",
    "print(transInputMatrix)\n",
    "\n",
    "\n",
    "myNeighbors = nbrs.kneighbors(transInputMatrix, return_distance = False)\n",
    "print(\"Nearest Neighbors = \\n\\n\", myNeighbors)"
   ]
  },
  {
   "cell_type": "code",
   "execution_count": 292,
   "metadata": {
    "scrolled": false
   },
   "outputs": [
    {
     "name": "stdout",
     "output_type": "stream",
     "text": [
      "3(e)\n"
     ]
    },
    {
     "data": {
      "text/plain": [
       "587     1\n",
       "2896    1\n",
       "1198    1\n",
       "1245    0\n",
       "885     0\n",
       "Name: FRAUD, dtype: int64"
      ]
     },
     "execution_count": 292,
     "metadata": {},
     "output_type": "execute_result"
    }
   ],
   "source": [
    "#Values of all the target values\n",
    "#Since the index starts from 0 so we subtract 1 from each neighbour\n",
    "print(\"3(e)\")\n",
    "targetData[[588-1, 2897-1 ,1199-1, 1246-1 , 886-1]]"
   ]
  },
  {
   "cell_type": "code",
   "execution_count": 293,
   "metadata": {},
   "outputs": [
    {
     "name": "stdout",
     "output_type": "stream",
     "text": [
      "3(e)\n",
      "[[7500    6    4  345    1    1]]\n",
      "[[16000     3     0   190     0     3]]\n",
      "[[10000    15     2   109     3     1]]\n",
      "[[10200     1     0   105     1     1]]\n",
      "[[8900   18    0  280    0    1]]\n"
     ]
    }
   ],
   "source": [
    "#Values of all the input \n",
    "#Since the index starts from 0 so we subtract 1 from each neighbour\n",
    "print(\"3(e)\")\n",
    "print(intervalMatrix[588-1])\n",
    "print(intervalMatrix[2897-1])\n",
    "print(intervalMatrix[1199-1])\n",
    "print(intervalMatrix[1246-1])\n",
    "print(intervalMatrix[886-1])"
   ]
  },
  {
   "cell_type": "code",
   "execution_count": 294,
   "metadata": {},
   "outputs": [
    {
     "name": "stdout",
     "output_type": "stream",
     "text": [
      "3(f)\n",
      "[1]\n"
     ]
    }
   ],
   "source": [
    "nbrs.predict(transInputMatrix)\n",
    "\n",
    "prediction=nbrs.predict(transInputMatrix)\n",
    "\n",
    "print(\"3(f)\")\n",
    "print(prediction)"
   ]
  },
  {
   "cell_type": "code",
   "execution_count": 295,
   "metadata": {},
   "outputs": [
    {
     "name": "stdout",
     "output_type": "stream",
     "text": [
      "3(f)\n",
      "[[0.8 0.2]]\n"
     ]
    }
   ],
   "source": [
    "class_proba=nbrs.predict_proba(inputMatrix)\n",
    "print(\"3(f)\")\n",
    "print(class_proba)"
   ]
  }
 ],
 "metadata": {
  "kernelspec": {
   "display_name": "Python 3",
   "language": "python",
   "name": "python3"
  },
  "language_info": {
   "codemirror_mode": {
    "name": "ipython",
    "version": 3
   },
   "file_extension": ".py",
   "mimetype": "text/x-python",
   "name": "python",
   "nbconvert_exporter": "python",
   "pygments_lexer": "ipython3",
   "version": "3.6.3"
  }
 },
 "nbformat": 4,
 "nbformat_minor": 2
}
