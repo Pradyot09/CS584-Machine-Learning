{
 "cells": [
  {
   "cell_type": "code",
   "execution_count": 11,
   "metadata": {},
   "outputs": [
    {
     "name": "stdout",
     "output_type": "stream",
     "text": [
      "1001\n"
     ]
    }
   ],
   "source": [
    "import pandas as pd\n",
    "import matplotlib.pyplot as plt\n",
    "import numpy as np\n",
    "import math\n",
    "\n",
    "\n",
    "data = pd.read_csv(\"E:\\\\Local Disk D\\\\IIT-C\\Sem 4\\\\CS 584 Machine Learning\\\\Homeworks\\\\Homework 1\\\\NormalSample.csv\", \n",
    "                   delimiter=',', usecols = ['group', 'x'])\n",
    "\n",
    "df = pd.DataFrame(data)\n",
    "\n",
    "noOfobservations=df['x']\n",
    "\n",
    "N=df.x.count()\n",
    "\n",
    "# print(df)\n",
    "print(N)"
   ]
  },
  {
   "cell_type": "code",
   "execution_count": 12,
   "metadata": {},
   "outputs": [
    {
     "name": "stdout",
     "output_type": "stream",
     "text": [
      "             group            x\n",
      "count  1001.000000  1001.000000\n",
      "mean      0.685315    31.414585\n",
      "std       0.464623     1.397672\n",
      "min       0.000000    26.300000\n",
      "25%       0.000000    30.400000\n",
      "50%       1.000000    31.500000\n",
      "75%       1.000000    32.400000\n",
      "max       1.000000    35.400000\n"
     ]
    }
   ],
   "source": [
    "trainData_descriptive = data.describe()\n",
    "print(trainData_descriptive)"
   ]
  },
  {
   "cell_type": "code",
   "execution_count": 4,
   "metadata": {},
   "outputs": [
    {
     "data": {
      "image/png": "[encoded data removed]",
      "text/plain": [
       "<matplotlib.figure.Figure at 0x1be67364da0>"
      ]
     },
     "metadata": {},
     "output_type": "display_data"
    }
   ],
   "source": [
    "# Visualize the histogram of the variable\n",
    "plt.hist(noOfobservations)\n",
    "plt.title(\"Histogram\")\n",
    "plt.xlabel(\"Values of X\")\n",
    "plt.ylabel(\"Frequency\")\n",
    "plt.show()"
   ]
  },
  {
   "cell_type": "code",
   "execution_count": 5,
   "metadata": {},
   "outputs": [
    {
     "name": "stdout",
     "output_type": "stream",
     "text": [
      "Median  31.5\n",
      "LowerQuartile  30.4\n",
      "UpperQuartile  32.4\n",
      "InterQuartile  2.0\n",
      "Binwidth  0.3998667554864774\n"
     ]
    }
   ],
   "source": [
    "#Binwidth\n",
    "median =np.median(noOfobservations)\n",
    "\n",
    "LowerQuartile=np.percentile(noOfobservations,25)\n",
    "\n",
    "UpperQuartile=np.percentile(noOfobservations,75)\n",
    "\n",
    "InterQuartile=UpperQuartile-LowerQuartile\n",
    "\n",
    "IQR=InterQuartile\n",
    "\n",
    "binwidth=2*(𝐼𝑄𝑅)*𝑁**(-1/3)\n",
    "\n",
    "print(\"Median \",median)\n",
    "\n",
    "print(\"LowerQuartile \",LowerQuartile)\n",
    "\n",
    "print(\"UpperQuartile \",UpperQuartile)\n",
    "\n",
    "print(\"InterQuartile \",IQR)\n",
    "\n",
    "print(\"Binwidth \", binwidth)"
   ]
  },
  {
   "cell_type": "code",
   "execution_count": 7,
   "metadata": {},
   "outputs": [
    {
     "name": "stdout",
     "output_type": "stream",
     "text": [
      "MaxValue  35.4\n",
      "MinValue  26.3\n"
     ]
    }
   ],
   "source": [
    "#Min and Max Value of field X\n",
    "\n",
    "MaxValue=max(noOfobservations)\n",
    "MinValue=min(noOfobservations)\n",
    "\n",
    "\n",
    "print(\"MaxValue \",MaxValue)\n",
    "\n",
    "print(\"MinValue \",MinValue)"
   ]
  },
  {
   "cell_type": "code",
   "execution_count": 8,
   "metadata": {},
   "outputs": [
    {
     "name": "stdout",
     "output_type": "stream",
     "text": [
      "NextMin  26\n",
      "NextMax  36\n"
     ]
    }
   ],
   "source": [
    "#Next Maximum and Minimum integer value for X\n",
    "\n",
    "a=math.floor(MinValue)\n",
    "b=math.ceil(MaxValue)\n",
    "\n",
    "print(\"NextMin \",a)\n",
    "\n",
    "print(\"NextMax \",b)"
   ]
  },
  {
   "cell_type": "code",
   "execution_count": 9,
   "metadata": {},
   "outputs": [
    {
     "data": {
      "image/png": "[encoded data removed]",
      "text/plain": [
       "<matplotlib.figure.Figure at 0x1be6701e978>"
      ]
     },
     "metadata": {},
     "output_type": "display_data"
    }
   ],
   "source": [
    "#h = 0.1, minimum = a and maximum = b\n",
    "\n",
    "# plt.hist(noOfobservations)\n",
    "\n",
    "binwidth_h=0.1\n",
    "\n",
    "plt.hist(noOfobservations, bins=np.arange(a, b + binwidth_h, binwidth_h))\n",
    "\n",
    "# plt.hist(noOfobservations, bins=((b-a)/binwidth_h))\n",
    "plt.title(\"Histogram\")\n",
    "plt.xlabel(\"Values of X\")\n",
    "plt.ylabel(\"Frequency\")\n",
    "plt.show()\n"
   ]
  },
  {
   "cell_type": "code",
   "execution_count": 10,
   "metadata": {},
   "outputs": [
    {
     "data": {
      "image/png": "[encoded data removed]",
      "text/plain": [
       "<matplotlib.figure.Figure at 0x1be6733e710>"
      ]
     },
     "metadata": {},
     "output_type": "display_data"
    }
   ],
   "source": [
    "#h = 0.5, minimum = a and maximum = b\n",
    "\n",
    "# plt.hist(noOfobservations)\n",
    "\n",
    "binwidth_h=0.5\n",
    "\n",
    "plt.hist(noOfobservations, bins=np.arange(a, b + binwidth_h, binwidth_h))\n",
    "\n",
    "# plt.hist(noOfobservations, bins=np.arange(a, b, binwidth_h))\n",
    "plt.title(\"Histogram\")\n",
    "plt.xlabel(\"Values of X\")\n",
    "plt.ylabel(\"Frequency\")\n",
    "plt.show()"
   ]
  },
  {
   "cell_type": "code",
   "execution_count": 11,
   "metadata": {},
   "outputs": [
    {
     "data": {
      "image/png": "[encoded data removed]",
      "text/plain": [
       "<matplotlib.figure.Figure at 0x1be688c1ef0>"
      ]
     },
     "metadata": {},
     "output_type": "display_data"
    }
   ],
   "source": [
    "#h = 1, minimum = a and maximum = b\n",
    "\n",
    "# plt.hist(noOfobservations)\n",
    "\n",
    "binwidth_h=1\n",
    "\n",
    "plt.hist(noOfobservations, bins=np.arange(a, b + binwidth_h, binwidth_h))\n",
    "plt.title(\"Histogram\")\n",
    "plt.xlabel(\"Values of X\")\n",
    "plt.ylabel(\"Frequency\")\n",
    "plt.show()"
   ]
  },
  {
   "cell_type": "code",
   "execution_count": 12,
   "metadata": {},
   "outputs": [
    {
     "data": {
      "image/png": "[encoded data removed]",
      "text/plain": [
       "<matplotlib.figure.Figure at 0x1be689350b8>"
      ]
     },
     "metadata": {},
     "output_type": "display_data"
    }
   ],
   "source": [
    "#h = 2, minimum = a and maximum = b\n",
    "\n",
    "# plt.hist(noOfobservations)\n",
    "\n",
    "binwidth_h=2\n",
    "\n",
    "plt.hist(noOfobservations, bins=np.arange(a, b + binwidth_h, binwidth_h))\n",
    "plt.title(\"Histogram\")\n",
    "plt.xlabel(\"Values of X\")\n",
    "plt.ylabel(\"Frequency\")\n",
    "# plt.grid(axis=\"x\")\n",
    "# plt.grid(axis=\"y\")\n",
    "plt.show()"
   ]
  },
  {
   "cell_type": "code",
   "execution_count": 29,
   "metadata": {},
   "outputs": [
    {
     "data": {
      "image/png": "[encoded data removed]",
      "text/plain": [
       "<matplotlib.figure.Figure at 0x1be691e3f60>"
      ]
     },
     "metadata": {},
     "output_type": "display_data"
    }
   ],
   "source": [
    "# Visualize the boxplot of the values of x\n",
    "\n",
    "plt.boxplot(noOfobservations,vert=False)\n",
    "plt.title(\"Boxplot for Values of X\")\n",
    "plt.xlabel(\"Values of X\")\n",
    "plt.grid(axis=\"x\")\n",
    "plt.show()"
   ]
  },
  {
   "cell_type": "code",
   "execution_count": 19,
   "metadata": {},
   "outputs": [
    {
     "name": "stdout",
     "output_type": "stream",
     "text": [
      "Median  31.5\n",
      "LowerQuartile  30.4\n",
      "UpperQuartile  32.4\n",
      "MaxValue  35.4\n",
      "MinValue  26.3\n"
     ]
    }
   ],
   "source": [
    "#Five numbersummary of the box plot\n",
    "\n",
    "Median=np.median(noOfobservations)\n",
    "\n",
    "LowerQuartile=np.percentile(noOfobservations,25)\n",
    "\n",
    "Q1=LowerQuartile\n",
    "\n",
    "UpperQuartile=np.percentile(noOfobservations,75)\n",
    "\n",
    "Q3=UpperQuartile\n",
    "\n",
    "MaxValue=max(noOfobservations)\n",
    "\n",
    "MinValue=min(noOfobservations)\n",
    "\n",
    "InterQuartile=UpperQuartile-LowerQuartile\n",
    "\n",
    "IQR=InterQuartile\n",
    "\n",
    "\n",
    "print(\"Median \",median)\n",
    "\n",
    "print(\"LowerQuartile \",LowerQuartile)\n",
    "\n",
    "print(\"UpperQuartile \",UpperQuartile)\n",
    "\n",
    "print(\"MaxValue \",MaxValue)\n",
    "\n",
    "print(\"MinValue \",MinValue)\n",
    "\n"
   ]
  },
  {
   "cell_type": "code",
   "execution_count": 20,
   "metadata": {},
   "outputs": [
    {
     "name": "stdout",
     "output_type": "stream",
     "text": [
      "InterQuartile  2.0\n",
      "Lowerwhisker  27.4\n",
      "Upperwhisker  35.4\n"
     ]
    }
   ],
   "source": [
    "# Values of the 1.5 IQR whiskers\n",
    "\n",
    "print(\"InterQuartile \",IQR)\n",
    "\n",
    "Lowerwhisker=Q1-1.5*IQR\n",
    "\n",
    "Upperwhisker=Q3+1.5*IQR\n",
    "\n",
    "\n",
    "print(\"Lowerwhisker \",Lowerwhisker)\n",
    "\n",
    "print(\"Upperwhisker \",Upperwhisker)\n",
    "\n"
   ]
  },
  {
   "cell_type": "code",
   "execution_count": 33,
   "metadata": {
    "scrolled": true
   },
   "outputs": [
    {
     "ename": "TypeError",
     "evalue": "unsupported operand type(s) for +: 'int' and 'str'",
     "output_type": "error",
     "traceback": [
      "\u001b[1;31m---------------------------------------------------------------------------\u001b[0m",
      "\u001b[1;31mTypeError\u001b[0m                                 Traceback (most recent call last)",
      "\u001b[1;32m<ipython-input-33-73f61c1cb4be>\u001b[0m in \u001b[0;36m<module>\u001b[1;34m()\u001b[0m\n\u001b[0;32m      5\u001b[0m \u001b[1;31m# plt.boxplot(x='Group',y='value',data=dd,hue='Values of x')\u001b[0m\u001b[1;33m\u001b[0m\u001b[1;33m\u001b[0m\u001b[0m\n\u001b[0;32m      6\u001b[0m \u001b[1;33m\u001b[0m\u001b[0m\n\u001b[1;32m----> 7\u001b[1;33m \u001b[0mplt\u001b[0m\u001b[1;33m.\u001b[0m\u001b[0mboxplot\u001b[0m\u001b[1;33m(\u001b[0m\u001b[0mdd\u001b[0m\u001b[1;33m)\u001b[0m\u001b[1;33m\u001b[0m\u001b[0m\n\u001b[0m\u001b[0;32m      8\u001b[0m \u001b[1;33m\u001b[0m\u001b[0m\n\u001b[0;32m      9\u001b[0m \u001b[1;31m# plt.boxplot(noOfobservations,'0','1')\u001b[0m\u001b[1;33m\u001b[0m\u001b[1;33m\u001b[0m\u001b[0m\n",
      "\u001b[1;32mC:\\Program Files\\Anaconda3\\lib\\site-packages\\matplotlib\\pyplot.py\u001b[0m in \u001b[0;36mboxplot\u001b[1;34m(x, notch, sym, vert, whis, positions, widths, patch_artist, bootstrap, usermedians, conf_intervals, meanline, showmeans, showcaps, showbox, showfliers, boxprops, labels, flierprops, medianprops, meanprops, capprops, whiskerprops, manage_xticks, autorange, zorder, hold, data)\u001b[0m\n\u001b[0;32m   2706\u001b[0m                          \u001b[0mwhiskerprops\u001b[0m\u001b[1;33m=\u001b[0m\u001b[0mwhiskerprops\u001b[0m\u001b[1;33m,\u001b[0m\u001b[1;33m\u001b[0m\u001b[0m\n\u001b[0;32m   2707\u001b[0m                          \u001b[0mmanage_xticks\u001b[0m\u001b[1;33m=\u001b[0m\u001b[0mmanage_xticks\u001b[0m\u001b[1;33m,\u001b[0m \u001b[0mautorange\u001b[0m\u001b[1;33m=\u001b[0m\u001b[0mautorange\u001b[0m\u001b[1;33m,\u001b[0m\u001b[1;33m\u001b[0m\u001b[0m\n\u001b[1;32m-> 2708\u001b[1;33m                          zorder=zorder, data=data)\n\u001b[0m\u001b[0;32m   2709\u001b[0m     \u001b[1;32mfinally\u001b[0m\u001b[1;33m:\u001b[0m\u001b[1;33m\u001b[0m\u001b[0m\n\u001b[0;32m   2710\u001b[0m         \u001b[0max\u001b[0m\u001b[1;33m.\u001b[0m\u001b[0m_hold\u001b[0m \u001b[1;33m=\u001b[0m \u001b[0mwashold\u001b[0m\u001b[1;33m\u001b[0m\u001b[0m\n",
      "\u001b[1;32mC:\\Program Files\\Anaconda3\\lib\\site-packages\\matplotlib\\__init__.py\u001b[0m in \u001b[0;36minner\u001b[1;34m(ax, *args, **kwargs)\u001b[0m\n\u001b[0;32m   1708\u001b[0m                     warnings.warn(msg % (label_namer, func.__name__),\n\u001b[0;32m   1709\u001b[0m                                   RuntimeWarning, stacklevel=2)\n\u001b[1;32m-> 1710\u001b[1;33m             \u001b[1;32mreturn\u001b[0m \u001b[0mfunc\u001b[0m\u001b[1;33m(\u001b[0m\u001b[0max\u001b[0m\u001b[1;33m,\u001b[0m \u001b[1;33m*\u001b[0m\u001b[0margs\u001b[0m\u001b[1;33m,\u001b[0m \u001b[1;33m**\u001b[0m\u001b[0mkwargs\u001b[0m\u001b[1;33m)\u001b[0m\u001b[1;33m\u001b[0m\u001b[0m\n\u001b[0m\u001b[0;32m   1711\u001b[0m         \u001b[0mpre_doc\u001b[0m \u001b[1;33m=\u001b[0m \u001b[0minner\u001b[0m\u001b[1;33m.\u001b[0m\u001b[0m__doc__\u001b[0m\u001b[1;33m\u001b[0m\u001b[0m\n\u001b[0;32m   1712\u001b[0m         \u001b[1;32mif\u001b[0m \u001b[0mpre_doc\u001b[0m \u001b[1;32mis\u001b[0m \u001b[1;32mNone\u001b[0m\u001b[1;33m:\u001b[0m\u001b[1;33m\u001b[0m\u001b[0m\n",
      "\u001b[1;32mC:\\Program Files\\Anaconda3\\lib\\site-packages\\matplotlib\\axes\\_axes.py\u001b[0m in \u001b[0;36mboxplot\u001b[1;34m(self, x, notch, sym, vert, whis, positions, widths, patch_artist, bootstrap, usermedians, conf_intervals, meanline, showmeans, showcaps, showbox, showfliers, boxprops, labels, flierprops, medianprops, meanprops, capprops, whiskerprops, manage_xticks, autorange, zorder)\u001b[0m\n\u001b[0;32m   3330\u001b[0m \u001b[1;33m\u001b[0m\u001b[0m\n\u001b[0;32m   3331\u001b[0m         bxpstats = cbook.boxplot_stats(x, whis=whis, bootstrap=bootstrap,\n\u001b[1;32m-> 3332\u001b[1;33m                                        labels=labels, autorange=autorange)\n\u001b[0m\u001b[0;32m   3333\u001b[0m         \u001b[1;32mif\u001b[0m \u001b[0mnotch\u001b[0m \u001b[1;32mis\u001b[0m \u001b[1;32mNone\u001b[0m\u001b[1;33m:\u001b[0m\u001b[1;33m\u001b[0m\u001b[0m\n\u001b[0;32m   3334\u001b[0m             \u001b[0mnotch\u001b[0m \u001b[1;33m=\u001b[0m \u001b[0mrcParams\u001b[0m\u001b[1;33m[\u001b[0m\u001b[1;34m'boxplot.notch'\u001b[0m\u001b[1;33m]\u001b[0m\u001b[1;33m\u001b[0m\u001b[0m\n",
      "\u001b[1;32mC:\\Program Files\\Anaconda3\\lib\\site-packages\\matplotlib\\cbook\\__init__.py\u001b[0m in \u001b[0;36mboxplot_stats\u001b[1;34m(X, whis, bootstrap, labels, autorange)\u001b[0m\n\u001b[0;32m   1823\u001b[0m \u001b[1;33m\u001b[0m\u001b[0m\n\u001b[0;32m   1824\u001b[0m         \u001b[1;31m# arithmetic mean\u001b[0m\u001b[1;33m\u001b[0m\u001b[1;33m\u001b[0m\u001b[0m\n\u001b[1;32m-> 1825\u001b[1;33m         \u001b[0mstats\u001b[0m\u001b[1;33m[\u001b[0m\u001b[1;34m'mean'\u001b[0m\u001b[1;33m]\u001b[0m \u001b[1;33m=\u001b[0m \u001b[0mnp\u001b[0m\u001b[1;33m.\u001b[0m\u001b[0mmean\u001b[0m\u001b[1;33m(\u001b[0m\u001b[0mx\u001b[0m\u001b[1;33m)\u001b[0m\u001b[1;33m\u001b[0m\u001b[0m\n\u001b[0m\u001b[0;32m   1826\u001b[0m \u001b[1;33m\u001b[0m\u001b[0m\n\u001b[0;32m   1827\u001b[0m         \u001b[1;31m# medians and quartiles\u001b[0m\u001b[1;33m\u001b[0m\u001b[1;33m\u001b[0m\u001b[0m\n",
      "\u001b[1;32mC:\\Program Files\\Anaconda3\\lib\\site-packages\\numpy\\core\\fromnumeric.py\u001b[0m in \u001b[0;36mmean\u001b[1;34m(a, axis, dtype, out, keepdims)\u001b[0m\n\u001b[0;32m   2955\u001b[0m \u001b[1;33m\u001b[0m\u001b[0m\n\u001b[0;32m   2956\u001b[0m     return _methods._mean(a, axis=axis, dtype=dtype,\n\u001b[1;32m-> 2957\u001b[1;33m                           out=out, **kwargs)\n\u001b[0m\u001b[0;32m   2958\u001b[0m \u001b[1;33m\u001b[0m\u001b[0m\n\u001b[0;32m   2959\u001b[0m \u001b[1;33m\u001b[0m\u001b[0m\n",
      "\u001b[1;32mC:\\Program Files\\Anaconda3\\lib\\site-packages\\numpy\\core\\_methods.py\u001b[0m in \u001b[0;36m_mean\u001b[1;34m(a, axis, dtype, out, keepdims)\u001b[0m\n\u001b[0;32m     68\u001b[0m             \u001b[0mis_float16_result\u001b[0m \u001b[1;33m=\u001b[0m \u001b[1;32mTrue\u001b[0m\u001b[1;33m\u001b[0m\u001b[0m\n\u001b[0;32m     69\u001b[0m \u001b[1;33m\u001b[0m\u001b[0m\n\u001b[1;32m---> 70\u001b[1;33m     \u001b[0mret\u001b[0m \u001b[1;33m=\u001b[0m \u001b[0mumr_sum\u001b[0m\u001b[1;33m(\u001b[0m\u001b[0marr\u001b[0m\u001b[1;33m,\u001b[0m \u001b[0maxis\u001b[0m\u001b[1;33m,\u001b[0m \u001b[0mdtype\u001b[0m\u001b[1;33m,\u001b[0m \u001b[0mout\u001b[0m\u001b[1;33m,\u001b[0m \u001b[0mkeepdims\u001b[0m\u001b[1;33m)\u001b[0m\u001b[1;33m\u001b[0m\u001b[0m\n\u001b[0m\u001b[0;32m     71\u001b[0m     \u001b[1;32mif\u001b[0m \u001b[0misinstance\u001b[0m\u001b[1;33m(\u001b[0m\u001b[0mret\u001b[0m\u001b[1;33m,\u001b[0m \u001b[0mmu\u001b[0m\u001b[1;33m.\u001b[0m\u001b[0mndarray\u001b[0m\u001b[1;33m)\u001b[0m\u001b[1;33m:\u001b[0m\u001b[1;33m\u001b[0m\u001b[0m\n\u001b[0;32m     72\u001b[0m         ret = um.true_divide(\n",
      "\u001b[1;31mTypeError\u001b[0m: unsupported operand type(s) for +: 'int' and 'str'"
     ]
    }
   ],
   "source": [
    "#Five number summary of x for each category of the group\n",
    "\n",
    "dd=pd.melt(df,id_vars=['group'],value_vars=['x'],var_name='Values of x')\n",
    "\n",
    "# plt.boxplot(x='Group',y='value',data=dd,hue='Values of x')\n",
    "\n",
    "plt.boxplot(dd)\n",
    "\n",
    "# plt.boxplot(noOfobservations,'0','1')\n",
    "# plt.title(\"Boxplot\")\n",
    "# plt.ylabel(\"Values of X\")\n",
    "# plt.grid(axis=\"y\")\n",
    "plt.show()"
   ]
  },
  {
   "cell_type": "code",
   "execution_count": 4,
   "metadata": {},
   "outputs": [
    {
     "data": {
      "text/html": [
       "<div>\n",
       "<style>\n",
       "    .dataframe thead tr:only-child th {\n",
       "        text-align: right;\n",
       "    }\n",
       "\n",
       "    .dataframe thead th {\n",
       "        text-align: left;\n",
       "    }\n",
       "\n",
       "    .dataframe tbody tr th {\n",
       "        vertical-align: top;\n",
       "    }\n",
       "</style>\n",
       "<table border=\"1\" class=\"dataframe\">\n",
       "  <thead>\n",
       "    <tr style=\"text-align: right;\">\n",
       "      <th></th>\n",
       "      <th>CASE_ID</th>\n",
       "      <th>FRAUD</th>\n",
       "      <th>TOTAL_SPEND</th>\n",
       "      <th>DOCTOR_VISITS</th>\n",
       "      <th>NUM_CLAIMS</th>\n",
       "      <th>MEMBER_DURATION</th>\n",
       "      <th>OPTOM_PRESC</th>\n",
       "      <th>NUM_MEMBERS</th>\n",
       "    </tr>\n",
       "  </thead>\n",
       "  <tbody>\n",
       "    <tr>\n",
       "      <th>0</th>\n",
       "      <td>1</td>\n",
       "      <td>1</td>\n",
       "      <td>1100</td>\n",
       "      <td>11</td>\n",
       "      <td>0</td>\n",
       "      <td>94</td>\n",
       "      <td>1</td>\n",
       "      <td>2</td>\n",
       "    </tr>\n",
       "    <tr>\n",
       "      <th>1</th>\n",
       "      <td>2</td>\n",
       "      <td>1</td>\n",
       "      <td>1300</td>\n",
       "      <td>7</td>\n",
       "      <td>2</td>\n",
       "      <td>122</td>\n",
       "      <td>0</td>\n",
       "      <td>1</td>\n",
       "    </tr>\n",
       "    <tr>\n",
       "      <th>2</th>\n",
       "      <td>3</td>\n",
       "      <td>1</td>\n",
       "      <td>1500</td>\n",
       "      <td>4</td>\n",
       "      <td>0</td>\n",
       "      <td>149</td>\n",
       "      <td>1</td>\n",
       "      <td>3</td>\n",
       "    </tr>\n",
       "    <tr>\n",
       "      <th>3</th>\n",
       "      <td>4</td>\n",
       "      <td>1</td>\n",
       "      <td>1500</td>\n",
       "      <td>9</td>\n",
       "      <td>0</td>\n",
       "      <td>180</td>\n",
       "      <td>1</td>\n",
       "      <td>1</td>\n",
       "    </tr>\n",
       "    <tr>\n",
       "      <th>4</th>\n",
       "      <td>5</td>\n",
       "      <td>0</td>\n",
       "      <td>1700</td>\n",
       "      <td>3</td>\n",
       "      <td>0</td>\n",
       "      <td>93</td>\n",
       "      <td>0</td>\n",
       "      <td>1</td>\n",
       "    </tr>\n",
       "  </tbody>\n",
       "</table>\n",
       "</div>"
      ],
      "text/plain": [
       "   CASE_ID  FRAUD  TOTAL_SPEND  DOCTOR_VISITS  NUM_CLAIMS  MEMBER_DURATION  \\\n",
       "0        1      1         1100             11           0               94   \n",
       "1        2      1         1300              7           2              122   \n",
       "2        3      1         1500              4           0              149   \n",
       "3        4      1         1500              9           0              180   \n",
       "4        5      0         1700              3           0               93   \n",
       "\n",
       "   OPTOM_PRESC  NUM_MEMBERS  \n",
       "0            1            2  \n",
       "1            0            1  \n",
       "2            1            3  \n",
       "3            1            1  \n",
       "4            0            1  "
      ]
     },
     "execution_count": 4,
     "metadata": {},
     "output_type": "execute_result"
    }
   ],
   "source": [
    "import pandas as pd\n",
    "import matplotlib.pyplot as plt\n",
    "import numpy as np\n",
    "import math\n",
    "\n",
    "\n",
    "fraudData = pd.read_csv(\"E:\\\\Local Disk D\\\\IIT-C\\\\Sem 4\\\\CS 584 Machine Learning\\\\Homeworks\\\\Homework 1\\\\Fraud.csv\")\n",
    "\n",
    "df = pd.DataFrame(fraudData)\n",
    "\n",
    "\n",
    "# print(df.head(10))\n",
    "df.head()"
   ]
  },
  {
   "cell_type": "code",
   "execution_count": 173,
   "metadata": {},
   "outputs": [
    {
     "name": "stdout",
     "output_type": "stream",
     "text": [
      "Percentage of fradulant data  19.95\n"
     ]
    }
   ],
   "source": [
    "#Percent of the fradulant data \n",
    "\n",
    "totalData=df.FRAUD.count()\n",
    "\n",
    "FraudData=(df.FRAUD == 1).sum()\n",
    "\n",
    "# fraudData=df[df['FRAUD'] == 1].count()\n",
    "\n",
    "percentFraud=(FraudData/totalData)*100\n",
    "\n",
    "# print(totalData)\n",
    "\n",
    "print(\"Percentage of fradulant data \",round(percentFraud,2))"
   ]
  },
  {
   "cell_type": "code",
   "execution_count": 174,
   "metadata": {},
   "outputs": [
    {
     "name": "stderr",
     "output_type": "stream",
     "text": [
      "C:\\Program Files\\Anaconda3\\lib\\site-packages\\numpy\\core\\fromnumeric.py:52: FutureWarning: reshape is deprecated and will raise in a subsequent release. Please use .values.reshape(...) instead\n",
      "  return getattr(obj, method)(*args, **kwds)\n"
     ]
    },
    {
     "data": {
      "image/png": "[encoded data removed]",
      "text/plain": [
       "<matplotlib.figure.Figure at 0x246f571f160>"
      ]
     },
     "metadata": {},
     "output_type": "display_data"
    }
   ],
   "source": [
    "# Visualize the boxplot of the values of x\n",
    "\n",
    "isFradulantData=(df.FRAUD==1)\n",
    "\n",
    "isOtherwiseData=(df.FRAUD!=1)\n",
    "\n",
    "FradulantData = fraudData[isFradulantData]\n",
    "\n",
    "# FradulantData=FradulantData.FRAUD\n",
    "\n",
    "OtherwiseData=fraudData[isOtherwiseData]\n",
    "# OtherwiseData=OtherwiseData.FRAUD\n",
    "\n",
    "# totalSpend=df['TOTAL_SPEND']\n",
    "# box_plot_data=[totalSpend]\n",
    "\n",
    "# print(FradulantData)\n",
    "# print(OtherwiseData)\n",
    "# print(totalSpend)\n",
    "\n",
    "FradulantData = fraudData[isFradulantData]['TOTAL_SPEND']\n",
    "OtherwiseData = fraudData[isOtherwiseData]['TOTAL_SPEND']\n",
    "fig = plt.figure()\n",
    "ax = fig.add_subplot(111)\n",
    "ax.boxplot([FradulantData,OtherwiseData], labels=['1', '0'])\n",
    "plt.show()\n",
    "\n"
   ]
  },
  {
   "cell_type": "code",
   "execution_count": 176,
   "metadata": {},
   "outputs": [
    {
     "name": "stderr",
     "output_type": "stream",
     "text": [
      "C:\\Program Files\\Anaconda3\\lib\\site-packages\\numpy\\core\\fromnumeric.py:52: FutureWarning: reshape is deprecated and will raise in a subsequent release. Please use .values.reshape(...) instead\n",
      "  return getattr(obj, method)(*args, **kwds)\n"
     ]
    },
    {
     "data": {
      "image/png": "[encoded data removed]",
      "text/plain": [
       "<matplotlib.figure.Figure at 0x246f56785f8>"
      ]
     },
     "metadata": {},
     "output_type": "display_data"
    }
   ],
   "source": [
    "# Visualize the boxplot of the values of x\n",
    "\n",
    "isFradulantData=(df.FRAUD==1)\n",
    "\n",
    "isOtherwiseData=(df.FRAUD!=1)\n",
    "\n",
    "FradulantData = fraudData[isFradulantData]\n",
    "OtherwiseData=fraudData[isOtherwiseData]\n",
    "\n",
    "FradulantData = fraudData[isFradulantData]['DOCTOR_VISITS']\n",
    "OtherwiseData = fraudData[isOtherwiseData]['DOCTOR_VISITS']\n",
    "fig = plt.figure()\n",
    "ax = fig.add_subplot(111)\n",
    "ax.boxplot([FradulantData,OtherwiseData], labels=['1', '0'])\n",
    "plt.show()\n"
   ]
  },
  {
   "cell_type": "code",
   "execution_count": 177,
   "metadata": {},
   "outputs": [
    {
     "name": "stderr",
     "output_type": "stream",
     "text": [
      "C:\\Program Files\\Anaconda3\\lib\\site-packages\\numpy\\core\\fromnumeric.py:52: FutureWarning: reshape is deprecated and will raise in a subsequent release. Please use .values.reshape(...) instead\n",
      "  return getattr(obj, method)(*args, **kwds)\n"
     ]
    },
    {
     "data": {
      "image/png": "[encoded data removed]",
      "text/plain": [
       "<matplotlib.figure.Figure at 0x246f68fa748>"
      ]
     },
     "metadata": {},
     "output_type": "display_data"
    }
   ],
   "source": [
    "# Visualize the boxplot of the values of x\n",
    "\n",
    "isFradulantData=(df.FRAUD==1)\n",
    "\n",
    "isOtherwiseData=(df.FRAUD!=1)\n",
    "\n",
    "FradulantData = fraudData[isFradulantData]\n",
    "\n",
    "# FradulantData=FradulantData.FRAUD\n",
    "\n",
    "OtherwiseData=fraudData[isOtherwiseData]\n",
    "# OtherwiseData=OtherwiseData.FRAUD\n",
    "\n",
    "# totalSpend=df['TOTAL_SPEND']\n",
    "# box_plot_data=[totalSpend]\n",
    "\n",
    "# print(FradulantData)\n",
    "# print(OtherwiseData)\n",
    "# print(totalSpend)\n",
    "\n",
    "FradulantData = fraudData[isFradulantData]['NUM_CLAIMS']\n",
    "OtherwiseData = fraudData[isOtherwiseData]['NUM_CLAIMS']\n",
    "fig = plt.figure()\n",
    "ax = fig.add_subplot(111)\n",
    "ax.boxplot([FradulantData,OtherwiseData], labels=['1', '0'])\n",
    "plt.show()"
   ]
  },
  {
   "cell_type": "code",
   "execution_count": 178,
   "metadata": {},
   "outputs": [
    {
     "name": "stderr",
     "output_type": "stream",
     "text": [
      "C:\\Program Files\\Anaconda3\\lib\\site-packages\\numpy\\core\\fromnumeric.py:52: FutureWarning: reshape is deprecated and will raise in a subsequent release. Please use .values.reshape(...) instead\n",
      "  return getattr(obj, method)(*args, **kwds)\n"
     ]
    },
    {
     "data": {
      "image/png": "[encoded data removed]",
      "text/plain": [
       "<matplotlib.figure.Figure at 0x246f58d4b38>"
      ]
     },
     "metadata": {},
     "output_type": "display_data"
    }
   ],
   "source": [
    "# Visualize the boxplot of the values of x\n",
    "\n",
    "isFradulantData=(df.FRAUD==1)\n",
    "\n",
    "isOtherwiseData=(df.FRAUD!=1)\n",
    "\n",
    "FradulantData = fraudData[isFradulantData]\n",
    "OtherwiseData=fraudData[isOtherwiseData]\n",
    "\n",
    "FradulantData = fraudData[isFradulantData]['MEMBER_DURATION']\n",
    "OtherwiseData = fraudData[isOtherwiseData]['MEMBER_DURATION']\n",
    "fig = plt.figure()\n",
    "ax = fig.add_subplot(111)\n",
    "ax.boxplot([FradulantData,OtherwiseData], labels=['1', '0'])\n",
    "plt.show()"
   ]
  },
  {
   "cell_type": "code",
   "execution_count": 179,
   "metadata": {},
   "outputs": [
    {
     "name": "stderr",
     "output_type": "stream",
     "text": [
      "C:\\Program Files\\Anaconda3\\lib\\site-packages\\numpy\\core\\fromnumeric.py:52: FutureWarning: reshape is deprecated and will raise in a subsequent release. Please use .values.reshape(...) instead\n",
      "  return getattr(obj, method)(*args, **kwds)\n"
     ]
    },
    {
     "data": {
      "image/png": "[encoded data removed]",
      "text/plain": [
       "<matplotlib.figure.Figure at 0x246f5663a58>"
      ]
     },
     "metadata": {},
     "output_type": "display_data"
    }
   ],
   "source": [
    "# Visualize the boxplot of the values of x\n",
    "\n",
    "isFradulantData=(df.FRAUD==1)\n",
    "\n",
    "isOtherwiseData=(df.FRAUD!=1)\n",
    "\n",
    "FradulantData = fraudData[isFradulantData]\n",
    "OtherwiseData=fraudData[isOtherwiseData]\n",
    "\n",
    "FradulantData = fraudData[isFradulantData]['OPTOM_PRESC']\n",
    "OtherwiseData = fraudData[isOtherwiseData]['OPTOM_PRESC']\n",
    "fig = plt.figure()\n",
    "ax = fig.add_subplot(111)\n",
    "ax.boxplot([FradulantData,OtherwiseData], labels=['1', '0'])\n",
    "plt.show()"
   ]
  },
  {
   "cell_type": "code",
   "execution_count": 180,
   "metadata": {
    "scrolled": true
   },
   "outputs": [
    {
     "name": "stderr",
     "output_type": "stream",
     "text": [
      "C:\\Program Files\\Anaconda3\\lib\\site-packages\\numpy\\core\\fromnumeric.py:52: FutureWarning: reshape is deprecated and will raise in a subsequent release. Please use .values.reshape(...) instead\n",
      "  return getattr(obj, method)(*args, **kwds)\n"
     ]
    },
    {
     "data": {
      "image/png": "[encoded data removed]",
      "text/plain": [
       "<matplotlib.figure.Figure at 0x246f5370550>"
      ]
     },
     "metadata": {},
     "output_type": "display_data"
    }
   ],
   "source": [
    "# Visualize the boxplot of the values of x\n",
    "\n",
    "isFradulantData=(df.FRAUD==1)\n",
    "\n",
    "isOtherwiseData=(df.FRAUD!=1)\n",
    "\n",
    "FradulantData = fraudData[isFradulantData]\n",
    "OtherwiseData=fraudData[isOtherwiseData]\n",
    "\n",
    "FradulantData = fraudData[isFradulantData]['NUM_MEMBERS']\n",
    "OtherwiseData = fraudData[isOtherwiseData]['NUM_MEMBERS']\n",
    "\n",
    "fig = plt.figure()\n",
    "ax = fig.add_subplot(111)\n",
    "ax.boxplot([FradulantData,OtherwiseData], labels=['1', '0'])\n",
    "plt.show()"
   ]
  },
  {
   "cell_type": "code",
   "execution_count": 16,
   "metadata": {},
   "outputs": [
    {
     "data": {
      "text/html": [
       "<div>\n",
       "<style>\n",
       "    .dataframe thead tr:only-child th {\n",
       "        text-align: right;\n",
       "    }\n",
       "\n",
       "    .dataframe thead th {\n",
       "        text-align: left;\n",
       "    }\n",
       "\n",
       "    .dataframe tbody tr th {\n",
       "        vertical-align: top;\n",
       "    }\n",
       "</style>\n",
       "<table border=\"1\" class=\"dataframe\">\n",
       "  <thead>\n",
       "    <tr style=\"text-align: right;\">\n",
       "      <th></th>\n",
       "      <th>CASE_ID</th>\n",
       "      <th>FRAUD</th>\n",
       "      <th>TOTAL_SPEND</th>\n",
       "      <th>DOCTOR_VISITS</th>\n",
       "      <th>NUM_CLAIMS</th>\n",
       "      <th>MEMBER_DURATION</th>\n",
       "      <th>OPTOM_PRESC</th>\n",
       "      <th>NUM_MEMBERS</th>\n",
       "    </tr>\n",
       "  </thead>\n",
       "  <tbody>\n",
       "    <tr>\n",
       "      <th>0</th>\n",
       "      <td>1</td>\n",
       "      <td>1</td>\n",
       "      <td>1100</td>\n",
       "      <td>11</td>\n",
       "      <td>0</td>\n",
       "      <td>94</td>\n",
       "      <td>1</td>\n",
       "      <td>2</td>\n",
       "    </tr>\n",
       "    <tr>\n",
       "      <th>1</th>\n",
       "      <td>2</td>\n",
       "      <td>1</td>\n",
       "      <td>1300</td>\n",
       "      <td>7</td>\n",
       "      <td>2</td>\n",
       "      <td>122</td>\n",
       "      <td>0</td>\n",
       "      <td>1</td>\n",
       "    </tr>\n",
       "    <tr>\n",
       "      <th>2</th>\n",
       "      <td>3</td>\n",
       "      <td>1</td>\n",
       "      <td>1500</td>\n",
       "      <td>4</td>\n",
       "      <td>0</td>\n",
       "      <td>149</td>\n",
       "      <td>1</td>\n",
       "      <td>3</td>\n",
       "    </tr>\n",
       "    <tr>\n",
       "      <th>3</th>\n",
       "      <td>4</td>\n",
       "      <td>1</td>\n",
       "      <td>1500</td>\n",
       "      <td>9</td>\n",
       "      <td>0</td>\n",
       "      <td>180</td>\n",
       "      <td>1</td>\n",
       "      <td>1</td>\n",
       "    </tr>\n",
       "    <tr>\n",
       "      <th>4</th>\n",
       "      <td>5</td>\n",
       "      <td>0</td>\n",
       "      <td>1700</td>\n",
       "      <td>3</td>\n",
       "      <td>0</td>\n",
       "      <td>93</td>\n",
       "      <td>0</td>\n",
       "      <td>1</td>\n",
       "    </tr>\n",
       "  </tbody>\n",
       "</table>\n",
       "</div>"
      ],
      "text/plain": [
       "   CASE_ID  FRAUD  TOTAL_SPEND  DOCTOR_VISITS  NUM_CLAIMS  MEMBER_DURATION  \\\n",
       "0        1      1         1100             11           0               94   \n",
       "1        2      1         1300              7           2              122   \n",
       "2        3      1         1500              4           0              149   \n",
       "3        4      1         1500              9           0              180   \n",
       "4        5      0         1700              3           0               93   \n",
       "\n",
       "   OPTOM_PRESC  NUM_MEMBERS  \n",
       "0            1            2  \n",
       "1            0            1  \n",
       "2            1            3  \n",
       "3            1            1  \n",
       "4            0            1  "
      ]
     },
     "execution_count": 16,
     "metadata": {},
     "output_type": "execute_result"
    }
   ],
   "source": [
    "#Orthonormalize interval variables \n",
    "df.head()"
   ]
  },
  {
   "cell_type": "code",
   "execution_count": 18,
   "metadata": {
    "scrolled": true
   },
   "outputs": [
    {
     "data": {
      "text/plain": [
       "array([[ 1100,    11,     0,    94,     1,     2],\n",
       "       [ 1300,     7,     2,   122,     0,     1],\n",
       "       [ 1500,     4,     0,   149,     1,     3],\n",
       "       ...,\n",
       "       [89200,    15,     0,   212,     0,     2],\n",
       "       [89800,    14,     0,   214,     0,     2],\n",
       "       [89900,    15,     0,   220,     0,     1]], dtype=int64)"
      ]
     },
     "execution_count": 18,
     "metadata": {},
     "output_type": "execute_result"
    }
   ],
   "source": [
    "np.array(fraudData.iloc[:,2:8].values)\n",
    "\n",
    "\n"
   ]
  },
  {
   "cell_type": "code",
   "execution_count": 181,
   "metadata": {
    "scrolled": false
   },
   "outputs": [
    {
     "data": {
      "text/html": [
       "<div>\n",
       "<style>\n",
       "    .dataframe thead tr:only-child th {\n",
       "        text-align: right;\n",
       "    }\n",
       "\n",
       "    .dataframe thead th {\n",
       "        text-align: left;\n",
       "    }\n",
       "\n",
       "    .dataframe tbody tr th {\n",
       "        vertical-align: top;\n",
       "    }\n",
       "</style>\n",
       "<table border=\"1\" class=\"dataframe\">\n",
       "  <thead>\n",
       "    <tr style=\"text-align: right;\">\n",
       "      <th></th>\n",
       "      <th>CASE_ID</th>\n",
       "      <th>FRAUD</th>\n",
       "      <th>TOTAL_SPEND</th>\n",
       "      <th>DOCTOR_VISITS</th>\n",
       "      <th>NUM_CLAIMS</th>\n",
       "      <th>MEMBER_DURATION</th>\n",
       "      <th>OPTOM_PRESC</th>\n",
       "      <th>NUM_MEMBERS</th>\n",
       "    </tr>\n",
       "  </thead>\n",
       "  <tbody>\n",
       "    <tr>\n",
       "      <th>count</th>\n",
       "      <td>5960.000000</td>\n",
       "      <td>5960.000000</td>\n",
       "      <td>5960.000000</td>\n",
       "      <td>5960.000000</td>\n",
       "      <td>5960.000000</td>\n",
       "      <td>5960.000000</td>\n",
       "      <td>5960.000000</td>\n",
       "      <td>5960.000000</td>\n",
       "    </tr>\n",
       "    <tr>\n",
       "      <th>mean</th>\n",
       "      <td>2980.500000</td>\n",
       "      <td>0.199497</td>\n",
       "      <td>18607.969799</td>\n",
       "      <td>8.941107</td>\n",
       "      <td>0.405705</td>\n",
       "      <td>179.615268</td>\n",
       "      <td>1.170134</td>\n",
       "      <td>1.985738</td>\n",
       "    </tr>\n",
       "    <tr>\n",
       "      <th>std</th>\n",
       "      <td>1720.648134</td>\n",
       "      <td>0.399656</td>\n",
       "      <td>11207.480417</td>\n",
       "      <td>7.232345</td>\n",
       "      <td>1.079256</td>\n",
       "      <td>82.076572</td>\n",
       "      <td>1.653866</td>\n",
       "      <td>0.996873</td>\n",
       "    </tr>\n",
       "    <tr>\n",
       "      <th>min</th>\n",
       "      <td>1.000000</td>\n",
       "      <td>0.000000</td>\n",
       "      <td>1100.000000</td>\n",
       "      <td>0.000000</td>\n",
       "      <td>0.000000</td>\n",
       "      <td>0.000000</td>\n",
       "      <td>0.000000</td>\n",
       "      <td>1.000000</td>\n",
       "    </tr>\n",
       "    <tr>\n",
       "      <th>25%</th>\n",
       "      <td>1490.750000</td>\n",
       "      <td>0.000000</td>\n",
       "      <td>11100.000000</td>\n",
       "      <td>3.000000</td>\n",
       "      <td>0.000000</td>\n",
       "      <td>117.000000</td>\n",
       "      <td>0.000000</td>\n",
       "      <td>1.000000</td>\n",
       "    </tr>\n",
       "    <tr>\n",
       "      <th>50%</th>\n",
       "      <td>2980.500000</td>\n",
       "      <td>0.000000</td>\n",
       "      <td>16300.000000</td>\n",
       "      <td>8.000000</td>\n",
       "      <td>0.000000</td>\n",
       "      <td>178.000000</td>\n",
       "      <td>1.000000</td>\n",
       "      <td>2.000000</td>\n",
       "    </tr>\n",
       "    <tr>\n",
       "      <th>75%</th>\n",
       "      <td>4470.250000</td>\n",
       "      <td>0.000000</td>\n",
       "      <td>23300.000000</td>\n",
       "      <td>12.000000</td>\n",
       "      <td>0.000000</td>\n",
       "      <td>227.000000</td>\n",
       "      <td>2.000000</td>\n",
       "      <td>3.000000</td>\n",
       "    </tr>\n",
       "    <tr>\n",
       "      <th>max</th>\n",
       "      <td>5960.000000</td>\n",
       "      <td>1.000000</td>\n",
       "      <td>89900.000000</td>\n",
       "      <td>41.000000</td>\n",
       "      <td>15.000000</td>\n",
       "      <td>660.000000</td>\n",
       "      <td>17.000000</td>\n",
       "      <td>8.000000</td>\n",
       "    </tr>\n",
       "  </tbody>\n",
       "</table>\n",
       "</div>"
      ],
      "text/plain": [
       "           CASE_ID        FRAUD   TOTAL_SPEND  DOCTOR_VISITS   NUM_CLAIMS  \\\n",
       "count  5960.000000  5960.000000   5960.000000    5960.000000  5960.000000   \n",
       "mean   2980.500000     0.199497  18607.969799       8.941107     0.405705   \n",
       "std    1720.648134     0.399656  11207.480417       7.232345     1.079256   \n",
       "min       1.000000     0.000000   1100.000000       0.000000     0.000000   \n",
       "25%    1490.750000     0.000000  11100.000000       3.000000     0.000000   \n",
       "50%    2980.500000     0.000000  16300.000000       8.000000     0.000000   \n",
       "75%    4470.250000     0.000000  23300.000000      12.000000     0.000000   \n",
       "max    5960.000000     1.000000  89900.000000      41.000000    15.000000   \n",
       "\n",
       "       MEMBER_DURATION  OPTOM_PRESC  NUM_MEMBERS  \n",
       "count      5960.000000  5960.000000  5960.000000  \n",
       "mean        179.615268     1.170134     1.985738  \n",
       "std          82.076572     1.653866     0.996873  \n",
       "min           0.000000     0.000000     1.000000  \n",
       "25%         117.000000     0.000000     1.000000  \n",
       "50%         178.000000     1.000000     2.000000  \n",
       "75%         227.000000     2.000000     3.000000  \n",
       "max         660.000000    17.000000     8.000000  "
      ]
     },
     "execution_count": 181,
     "metadata": {},
     "output_type": "execute_result"
    }
   ],
   "source": [
    "fraudData.describe()"
   ]
  },
  {
   "cell_type": "code",
   "execution_count": 24,
   "metadata": {},
   "outputs": [
    {
     "name": "stdout",
     "output_type": "stream",
     "text": [
      "[[ 1100    11     0    94     1     2]\n",
      " [ 1300     7     2   122     0     1]\n",
      " [ 1500     4     0   149     1     3]\n",
      " ...\n",
      " [89200    15     0   212     0     2]\n",
      " [89800    14     0   214     0     2]\n",
      " [89900    15     0   220     0     1]]\n",
      "[1 1 1 ... 0 0 0]\n"
     ]
    }
   ],
   "source": [
    "#Data Preprocessing\n",
    "\n",
    "X = fraudData.iloc[:,2:8].values\n",
    "\n",
    "y = fraudData.iloc[:, 1].values   \n",
    "\n",
    "print(X)\n",
    "\n",
    "\n",
    "print(y)"
   ]
  },
  {
   "cell_type": "code",
   "execution_count": 62,
   "metadata": {},
   "outputs": [
    {
     "name": "stderr",
     "output_type": "stream",
     "text": [
      "C:\\Program Files\\Anaconda3\\lib\\site-packages\\sklearn\\utils\\validation.py:475: DataConversionWarning: Data with input dtype int64 was converted to float64 by StandardScaler.\n",
      "  warnings.warn(msg, DataConversionWarning)\n"
     ]
    }
   ],
   "source": [
    "#Train Test Split\n",
    "\n",
    "from sklearn.model_selection import train_test_split  \n",
    "X_train, X_test, y_train, y_test = train_test_split(X, y, test_size=0.20)  \n",
    "\n",
    "#Feature Scaling\n",
    "\n",
    "from sklearn.preprocessing import StandardScaler  \n",
    "scaler = StandardScaler()  \n",
    "scaler.fit(X_train)\n",
    "\n",
    "X_train = scaler.transform(X_train)  \n",
    "X_test = scaler.transform(X_test)  \n",
    "\n"
   ]
  },
  {
   "cell_type": "code",
   "execution_count": 63,
   "metadata": {
    "collapsed": true
   },
   "outputs": [],
   "source": [
    "#Training and Prediction\n",
    "\n",
    "from sklearn.neighbors import KNeighborsClassifier  \n",
    "classifier = KNeighborsClassifier(n_neighbors=5)  \n",
    "classifier.fit(X_train, y_train)  \n",
    "\n",
    "y_pred = classifier.predict(X_test)  \n"
   ]
  },
  {
   "cell_type": "code",
   "execution_count": 64,
   "metadata": {
    "scrolled": false
   },
   "outputs": [
    {
     "name": "stdout",
     "output_type": "stream",
     "text": [
      "[[915  30]\n",
      " [169  78]]\n",
      "             precision    recall  f1-score   support\n",
      "\n",
      "          0       0.84      0.97      0.90       945\n",
      "          1       0.72      0.32      0.44       247\n",
      "\n",
      "avg / total       0.82      0.83      0.81      1192\n",
      "\n"
     ]
    }
   ],
   "source": [
    "from sklearn.metrics import classification_report, confusion_matrix  \n",
    "print(confusion_matrix(y_test, y_pred))  \n",
    "print(classification_report(y_test, y_pred))  "
   ]
  },
  {
   "cell_type": "code",
   "execution_count": null,
   "metadata": {
    "collapsed": true
   },
   "outputs": [],
   "source": [
    "error = []\n",
    "\n",
    "# Calculating error for K values between 1 and 40\n",
    "for i in range(1, 40):  \n",
    "    knn = KNeighborsClassifier(n_neighbors=i)\n",
    "    knn.fit(X_train, y_train)\n",
    "    pred_i = knn.predict(X_test)\n",
    "    error.append(np.mean(pred_i != y_test))"
   ]
  }
 ],
 "metadata": {
  "kernelspec": {
   "display_name": "Python 3",
   "language": "python",
   "name": "python3"
  },
  "language_info": {
   "codemirror_mode": {
    "name": "ipython",
    "version": 3
   },
   "file_extension": ".py",
   "mimetype": "text/x-python",
   "name": "python",
   "nbconvert_exporter": "python",
   "pygments_lexer": "ipython3",
   "version": "3.6.3"
  }
 },
 "nbformat": 4,
 "nbformat_minor": 2
}
